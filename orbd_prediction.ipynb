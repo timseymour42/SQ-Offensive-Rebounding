{
  "cells": [
    {
      "cell_type": "markdown",
      "metadata": {
        "id": "cdk0RglCbrOW"
      },
      "source": []
    },
    {
      "cell_type": "code",
      "execution_count": 1,
      "metadata": {
        "id": "JZ91cCsLbrOY"
      },
      "outputs": [],
      "source": [
        "import numpy as np\n",
        "import pandas as pd\n",
        "import matplotlib.pyplot as plt\n",
        "import tensorflow as tf\n",
        "from sklearn.model_selection import train_test_split\n",
        "from tensorflow.keras import layers, models\n",
        "from tensorflow.keras.initializers import glorot_normal\n",
        "from tensorflow.keras import regularizers\n",
        "from tensorflow.keras.models import Model\n",
        "from tensorflow.keras.layers import Input, Conv2D, MaxPooling2D, Flatten, Dense, Dropout, Concatenate\n",
        "from tensorflow.keras.optimizers import Adam\n",
        "from sklearn.model_selection import train_test_split\n",
        "from sklearn.metrics import log_loss"
      ]
    },
    {
      "cell_type": "markdown",
      "metadata": {
        "id": "hdbsM-VyC0bJ"
      },
      "source": [
        "### Data Pre-processing"
      ]
    },
    {
      "cell_type": "code",
      "execution_count": 2,
      "metadata": {
        "id": "BMw7hYs0brOa"
      },
      "outputs": [],
      "source": [
        "train_locs = pd.read_csv('train_locs.csv')\n",
        "train_pbp = pd.read_csv('train_pbp.csv')\n",
        "test_locs = pd.read_csv('test_locs.csv')\n",
        "test_pbp = pd.read_csv('test_pbp.csv')"
      ]
    },
    {
      "cell_type": "code",
      "execution_count": 3,
      "metadata": {
        "colab": {
          "base_uri": "https://localhost:8080/",
          "height": 424
        },
        "id": "hBjg7DRu1TD3",
        "outputId": "73d34d25-2fc7-4bc3-adf6-30e5e4717a96"
      },
      "outputs": [
        {
          "data": {
            "text/html": [
              "<div>\n",
              "<style scoped>\n",
              "    .dataframe tbody tr th:only-of-type {\n",
              "        vertical-align: middle;\n",
              "    }\n",
              "\n",
              "    .dataframe tbody tr th {\n",
              "        vertical-align: top;\n",
              "    }\n",
              "\n",
              "    .dataframe thead th {\n",
              "        text-align: right;\n",
              "    }\n",
              "</style>\n",
              "<table border=\"1\" class=\"dataframe\">\n",
              "  <thead>\n",
              "    <tr style=\"text-align: right;\">\n",
              "      <th></th>\n",
              "      <th>id</th>\n",
              "      <th>court_x</th>\n",
              "      <th>court_y</th>\n",
              "      <th>annotation_code</th>\n",
              "    </tr>\n",
              "  </thead>\n",
              "  <tbody>\n",
              "    <tr>\n",
              "      <th>0</th>\n",
              "      <td>2-2</td>\n",
              "      <td>72.807686</td>\n",
              "      <td>37.409669</td>\n",
              "      <td>d1</td>\n",
              "    </tr>\n",
              "    <tr>\n",
              "      <th>1</th>\n",
              "      <td>2-2</td>\n",
              "      <td>79.080643</td>\n",
              "      <td>31.477796</td>\n",
              "      <td>d2</td>\n",
              "    </tr>\n",
              "    <tr>\n",
              "      <th>2</th>\n",
              "      <td>2-2</td>\n",
              "      <td>69.956321</td>\n",
              "      <td>24.467300</td>\n",
              "      <td>d3</td>\n",
              "    </tr>\n",
              "    <tr>\n",
              "      <th>3</th>\n",
              "      <td>2-2</td>\n",
              "      <td>75.468933</td>\n",
              "      <td>13.861763</td>\n",
              "      <td>d4</td>\n",
              "    </tr>\n",
              "    <tr>\n",
              "      <th>4</th>\n",
              "      <td>2-2</td>\n",
              "      <td>84.973496</td>\n",
              "      <td>19.254422</td>\n",
              "      <td>d5</td>\n",
              "    </tr>\n",
              "    <tr>\n",
              "      <th>...</th>\n",
              "      <td>...</td>\n",
              "      <td>...</td>\n",
              "      <td>...</td>\n",
              "      <td>...</td>\n",
              "    </tr>\n",
              "    <tr>\n",
              "      <th>308045</th>\n",
              "      <td>5020-52</td>\n",
              "      <td>70.669644</td>\n",
              "      <td>7.270347</td>\n",
              "      <td>s</td>\n",
              "    </tr>\n",
              "    <tr>\n",
              "      <th>308046</th>\n",
              "      <td>5020-52</td>\n",
              "      <td>86.958520</td>\n",
              "      <td>4.382292</td>\n",
              "      <td>t1</td>\n",
              "    </tr>\n",
              "    <tr>\n",
              "      <th>308047</th>\n",
              "      <td>5020-52</td>\n",
              "      <td>58.962087</td>\n",
              "      <td>26.764930</td>\n",
              "      <td>t2</td>\n",
              "    </tr>\n",
              "    <tr>\n",
              "      <th>308048</th>\n",
              "      <td>5020-52</td>\n",
              "      <td>76.777949</td>\n",
              "      <td>20.427222</td>\n",
              "      <td>t3</td>\n",
              "    </tr>\n",
              "    <tr>\n",
              "      <th>308049</th>\n",
              "      <td>5020-52</td>\n",
              "      <td>81.019852</td>\n",
              "      <td>44.975904</td>\n",
              "      <td>t4</td>\n",
              "    </tr>\n",
              "  </tbody>\n",
              "</table>\n",
              "<p>308050 rows × 4 columns</p>\n",
              "</div>"
            ],
            "text/plain": [
              "             id    court_x    court_y annotation_code\n",
              "0           2-2  72.807686  37.409669              d1\n",
              "1           2-2  79.080643  31.477796              d2\n",
              "2           2-2  69.956321  24.467300              d3\n",
              "3           2-2  75.468933  13.861763              d4\n",
              "4           2-2  84.973496  19.254422              d5\n",
              "...         ...        ...        ...             ...\n",
              "308045  5020-52  70.669644   7.270347               s\n",
              "308046  5020-52  86.958520   4.382292              t1\n",
              "308047  5020-52  58.962087  26.764930              t2\n",
              "308048  5020-52  76.777949  20.427222              t3\n",
              "308049  5020-52  81.019852  44.975904              t4\n",
              "\n",
              "[308050 rows x 4 columns]"
            ]
          },
          "execution_count": 3,
          "metadata": {},
          "output_type": "execute_result"
        }
      ],
      "source": [
        "train_locs"
      ]
    },
    {
      "cell_type": "markdown",
      "metadata": {
        "id": "e1yitQzrDCnS"
      },
      "source": [
        "#### Joining the datasets on the unique id"
      ]
    },
    {
      "cell_type": "code",
      "execution_count": 4,
      "metadata": {
        "id": "0uFeFzQLbrOe"
      },
      "outputs": [],
      "source": [
        "training_data = train_locs.copy()\n",
        "testing_data = test_locs.copy()"
      ]
    },
    {
      "cell_type": "code",
      "execution_count": 5,
      "metadata": {
        "colab": {
          "base_uri": "https://localhost:8080/",
          "height": 424
        },
        "id": "98D--8MSGKpa",
        "outputId": "02e09761-952f-46c0-c5a6-cc27bac24cf7"
      },
      "outputs": [
        {
          "data": {
            "text/html": [
              "<div>\n",
              "<style scoped>\n",
              "    .dataframe tbody tr th:only-of-type {\n",
              "        vertical-align: middle;\n",
              "    }\n",
              "\n",
              "    .dataframe tbody tr th {\n",
              "        vertical-align: top;\n",
              "    }\n",
              "\n",
              "    .dataframe thead th {\n",
              "        text-align: right;\n",
              "    }\n",
              "</style>\n",
              "<table border=\"1\" class=\"dataframe\">\n",
              "  <thead>\n",
              "    <tr style=\"text-align: right;\">\n",
              "      <th></th>\n",
              "      <th>id</th>\n",
              "      <th>court_x</th>\n",
              "      <th>court_y</th>\n",
              "      <th>annotation_code</th>\n",
              "    </tr>\n",
              "  </thead>\n",
              "  <tbody>\n",
              "    <tr>\n",
              "      <th>0</th>\n",
              "      <td>2-2</td>\n",
              "      <td>72.807686</td>\n",
              "      <td>37.409669</td>\n",
              "      <td>d1</td>\n",
              "    </tr>\n",
              "    <tr>\n",
              "      <th>1</th>\n",
              "      <td>2-2</td>\n",
              "      <td>79.080643</td>\n",
              "      <td>31.477796</td>\n",
              "      <td>d2</td>\n",
              "    </tr>\n",
              "    <tr>\n",
              "      <th>2</th>\n",
              "      <td>2-2</td>\n",
              "      <td>69.956321</td>\n",
              "      <td>24.467300</td>\n",
              "      <td>d3</td>\n",
              "    </tr>\n",
              "    <tr>\n",
              "      <th>3</th>\n",
              "      <td>2-2</td>\n",
              "      <td>75.468933</td>\n",
              "      <td>13.861763</td>\n",
              "      <td>d4</td>\n",
              "    </tr>\n",
              "    <tr>\n",
              "      <th>4</th>\n",
              "      <td>2-2</td>\n",
              "      <td>84.973496</td>\n",
              "      <td>19.254422</td>\n",
              "      <td>d5</td>\n",
              "    </tr>\n",
              "    <tr>\n",
              "      <th>...</th>\n",
              "      <td>...</td>\n",
              "      <td>...</td>\n",
              "      <td>...</td>\n",
              "      <td>...</td>\n",
              "    </tr>\n",
              "    <tr>\n",
              "      <th>308045</th>\n",
              "      <td>5020-52</td>\n",
              "      <td>70.669644</td>\n",
              "      <td>7.270347</td>\n",
              "      <td>s</td>\n",
              "    </tr>\n",
              "    <tr>\n",
              "      <th>308046</th>\n",
              "      <td>5020-52</td>\n",
              "      <td>86.958520</td>\n",
              "      <td>4.382292</td>\n",
              "      <td>t1</td>\n",
              "    </tr>\n",
              "    <tr>\n",
              "      <th>308047</th>\n",
              "      <td>5020-52</td>\n",
              "      <td>58.962087</td>\n",
              "      <td>26.764930</td>\n",
              "      <td>t2</td>\n",
              "    </tr>\n",
              "    <tr>\n",
              "      <th>308048</th>\n",
              "      <td>5020-52</td>\n",
              "      <td>76.777949</td>\n",
              "      <td>20.427222</td>\n",
              "      <td>t3</td>\n",
              "    </tr>\n",
              "    <tr>\n",
              "      <th>308049</th>\n",
              "      <td>5020-52</td>\n",
              "      <td>81.019852</td>\n",
              "      <td>44.975904</td>\n",
              "      <td>t4</td>\n",
              "    </tr>\n",
              "  </tbody>\n",
              "</table>\n",
              "<p>308050 rows × 4 columns</p>\n",
              "</div>"
            ],
            "text/plain": [
              "             id    court_x    court_y annotation_code\n",
              "0           2-2  72.807686  37.409669              d1\n",
              "1           2-2  79.080643  31.477796              d2\n",
              "2           2-2  69.956321  24.467300              d3\n",
              "3           2-2  75.468933  13.861763              d4\n",
              "4           2-2  84.973496  19.254422              d5\n",
              "...         ...        ...        ...             ...\n",
              "308045  5020-52  70.669644   7.270347               s\n",
              "308046  5020-52  86.958520   4.382292              t1\n",
              "308047  5020-52  58.962087  26.764930              t2\n",
              "308048  5020-52  76.777949  20.427222              t3\n",
              "308049  5020-52  81.019852  44.975904              t4\n",
              "\n",
              "[308050 rows x 4 columns]"
            ]
          },
          "execution_count": 5,
          "metadata": {},
          "output_type": "execute_result"
        }
      ],
      "source": [
        "training_data"
      ]
    },
    {
      "cell_type": "markdown",
      "metadata": {
        "id": "BP6XiszQDIHe"
      },
      "source": [
        "#### Creating new columns that represent whether each player is on offense or defense and whether or not they are the shooter\n",
        "- these new columns capture the important details about each player as the number in the annotation code does not matter"
      ]
    },
    {
      "cell_type": "code",
      "execution_count": 6,
      "metadata": {
        "id": "5yaYSWvCfGFD"
      },
      "outputs": [],
      "source": [
        "training_data['offense'] = training_data['annotation_code'].apply(lambda x: 0 if 'd' in x else 1)\n",
        "testing_data['offense'] = testing_data['annotation_code'].apply(lambda x: 0 if 'd' in x else 1)\n",
        "training_data['shooter'] = training_data['annotation_code'].apply(lambda x: 1 if 's' in x else 0)\n",
        "testing_data['shooter'] = testing_data['annotation_code'].apply(lambda x: 1 if 's' in x else 0)"
      ]
    },
    {
      "cell_type": "code",
      "execution_count": 7,
      "metadata": {
        "colab": {
          "base_uri": "https://localhost:8080/",
          "height": 424
        },
        "id": "DWKevr81HqWv",
        "outputId": "aab10b85-d25c-44d0-c6a6-35a5082b84df"
      },
      "outputs": [
        {
          "data": {
            "text/html": [
              "<div>\n",
              "<style scoped>\n",
              "    .dataframe tbody tr th:only-of-type {\n",
              "        vertical-align: middle;\n",
              "    }\n",
              "\n",
              "    .dataframe tbody tr th {\n",
              "        vertical-align: top;\n",
              "    }\n",
              "\n",
              "    .dataframe thead th {\n",
              "        text-align: right;\n",
              "    }\n",
              "</style>\n",
              "<table border=\"1\" class=\"dataframe\">\n",
              "  <thead>\n",
              "    <tr style=\"text-align: right;\">\n",
              "      <th></th>\n",
              "      <th>id</th>\n",
              "      <th>court_x</th>\n",
              "      <th>court_y</th>\n",
              "      <th>annotation_code</th>\n",
              "      <th>offense</th>\n",
              "      <th>shooter</th>\n",
              "    </tr>\n",
              "  </thead>\n",
              "  <tbody>\n",
              "    <tr>\n",
              "      <th>0</th>\n",
              "      <td>2-2</td>\n",
              "      <td>72.807686</td>\n",
              "      <td>37.409669</td>\n",
              "      <td>d1</td>\n",
              "      <td>0</td>\n",
              "      <td>0</td>\n",
              "    </tr>\n",
              "    <tr>\n",
              "      <th>1</th>\n",
              "      <td>2-2</td>\n",
              "      <td>79.080643</td>\n",
              "      <td>31.477796</td>\n",
              "      <td>d2</td>\n",
              "      <td>0</td>\n",
              "      <td>0</td>\n",
              "    </tr>\n",
              "    <tr>\n",
              "      <th>2</th>\n",
              "      <td>2-2</td>\n",
              "      <td>69.956321</td>\n",
              "      <td>24.467300</td>\n",
              "      <td>d3</td>\n",
              "      <td>0</td>\n",
              "      <td>0</td>\n",
              "    </tr>\n",
              "    <tr>\n",
              "      <th>3</th>\n",
              "      <td>2-2</td>\n",
              "      <td>75.468933</td>\n",
              "      <td>13.861763</td>\n",
              "      <td>d4</td>\n",
              "      <td>0</td>\n",
              "      <td>0</td>\n",
              "    </tr>\n",
              "    <tr>\n",
              "      <th>4</th>\n",
              "      <td>2-2</td>\n",
              "      <td>84.973496</td>\n",
              "      <td>19.254422</td>\n",
              "      <td>d5</td>\n",
              "      <td>0</td>\n",
              "      <td>0</td>\n",
              "    </tr>\n",
              "    <tr>\n",
              "      <th>...</th>\n",
              "      <td>...</td>\n",
              "      <td>...</td>\n",
              "      <td>...</td>\n",
              "      <td>...</td>\n",
              "      <td>...</td>\n",
              "      <td>...</td>\n",
              "    </tr>\n",
              "    <tr>\n",
              "      <th>308045</th>\n",
              "      <td>5020-52</td>\n",
              "      <td>70.669644</td>\n",
              "      <td>7.270347</td>\n",
              "      <td>s</td>\n",
              "      <td>1</td>\n",
              "      <td>1</td>\n",
              "    </tr>\n",
              "    <tr>\n",
              "      <th>308046</th>\n",
              "      <td>5020-52</td>\n",
              "      <td>86.958520</td>\n",
              "      <td>4.382292</td>\n",
              "      <td>t1</td>\n",
              "      <td>1</td>\n",
              "      <td>0</td>\n",
              "    </tr>\n",
              "    <tr>\n",
              "      <th>308047</th>\n",
              "      <td>5020-52</td>\n",
              "      <td>58.962087</td>\n",
              "      <td>26.764930</td>\n",
              "      <td>t2</td>\n",
              "      <td>1</td>\n",
              "      <td>0</td>\n",
              "    </tr>\n",
              "    <tr>\n",
              "      <th>308048</th>\n",
              "      <td>5020-52</td>\n",
              "      <td>76.777949</td>\n",
              "      <td>20.427222</td>\n",
              "      <td>t3</td>\n",
              "      <td>1</td>\n",
              "      <td>0</td>\n",
              "    </tr>\n",
              "    <tr>\n",
              "      <th>308049</th>\n",
              "      <td>5020-52</td>\n",
              "      <td>81.019852</td>\n",
              "      <td>44.975904</td>\n",
              "      <td>t4</td>\n",
              "      <td>1</td>\n",
              "      <td>0</td>\n",
              "    </tr>\n",
              "  </tbody>\n",
              "</table>\n",
              "<p>308050 rows × 6 columns</p>\n",
              "</div>"
            ],
            "text/plain": [
              "             id    court_x    court_y annotation_code  offense  shooter\n",
              "0           2-2  72.807686  37.409669              d1        0        0\n",
              "1           2-2  79.080643  31.477796              d2        0        0\n",
              "2           2-2  69.956321  24.467300              d3        0        0\n",
              "3           2-2  75.468933  13.861763              d4        0        0\n",
              "4           2-2  84.973496  19.254422              d5        0        0\n",
              "...         ...        ...        ...             ...      ...      ...\n",
              "308045  5020-52  70.669644   7.270347               s        1        1\n",
              "308046  5020-52  86.958520   4.382292              t1        1        0\n",
              "308047  5020-52  58.962087  26.764930              t2        1        0\n",
              "308048  5020-52  76.777949  20.427222              t3        1        0\n",
              "308049  5020-52  81.019852  44.975904              t4        1        0\n",
              "\n",
              "[308050 rows x 6 columns]"
            ]
          },
          "execution_count": 7,
          "metadata": {},
          "output_type": "execute_result"
        }
      ],
      "source": [
        "training_data"
      ]
    },
    {
      "cell_type": "markdown",
      "metadata": {},
      "source": [
        "#### Feature Engineering Shot Distance from the basket\n",
        "- A dangerous assumption is made here that the basket closest to the shot is the one being shot at, however given that most times a shot is taken from the other side of the court, time expires, there is likely very few such data points.\n",
        "- Longer shots will likely lead to long rebounds which makes an offensive rebound more likely\n",
        "- Shots very close to the basket may also be more likely to be offensive rebounded because the shooter could be in good position to rebound or they may have broken down the defense and drawn help away from a rim crasher"
      ]
    },
    {
      "cell_type": "code",
      "execution_count": 60,
      "metadata": {},
      "outputs": [],
      "source": [
        "# Define the coordinates of the hoop\n",
        "hoop_coordinates = np.array([[4, 25], [90, 25]])\n",
        "\n",
        "# Calculate the distance of each shot from the basket\n",
        "def calculate_shooter_distance_from_hoop(row):\n",
        "    shot_coordinates = np.array([row['court_x'], row['court_y']])\n",
        "    distance = np.linalg.norm(shot_coordinates - hoop_coordinates, axis=1)\n",
        "    if distance[0] < distance[1]:\n",
        "        hoop = 0\n",
        "    else:\n",
        "        hoop = 1\n",
        "    return pd.Series([np.min(distance), hoop])"
      ]
    },
    {
      "cell_type": "code",
      "execution_count": 59,
      "metadata": {},
      "outputs": [
        {
          "name": "stdout",
          "output_type": "stream",
          "text": [
            "[24.2457772  10.24651436]\n",
            "[25.05108447 67.38904328]\n",
            "0\n",
            "[65.99980164 18.59585322]\n",
            "[62.32967591 24.83993997]\n",
            "1\n",
            "[13.97291853 32.42072325]\n",
            "[12.43085828 76.38837772]\n",
            "0\n",
            "[29.42640473 25.67361135]\n",
            "[25.43532602 60.57734061]\n",
            "0\n",
            "[24.57108307 37.60030086]\n",
            "[24.12337125 66.63115452]\n",
            "0\n"
          ]
        },
        {
          "data": {
            "text/html": [
              "<div>\n",
              "<style scoped>\n",
              "    .dataframe tbody tr th:only-of-type {\n",
              "        vertical-align: middle;\n",
              "    }\n",
              "\n",
              "    .dataframe tbody tr th {\n",
              "        vertical-align: top;\n",
              "    }\n",
              "\n",
              "    .dataframe thead th {\n",
              "        text-align: right;\n",
              "    }\n",
              "</style>\n",
              "<table border=\"1\" class=\"dataframe\">\n",
              "  <thead>\n",
              "    <tr style=\"text-align: right;\">\n",
              "      <th></th>\n",
              "      <th>0</th>\n",
              "      <th>1</th>\n",
              "    </tr>\n",
              "  </thead>\n",
              "  <tbody>\n",
              "    <tr>\n",
              "      <th>5</th>\n",
              "      <td>25.051084</td>\n",
              "      <td>0.0</td>\n",
              "    </tr>\n",
              "    <tr>\n",
              "      <th>15</th>\n",
              "      <td>24.839940</td>\n",
              "      <td>1.0</td>\n",
              "    </tr>\n",
              "    <tr>\n",
              "      <th>25</th>\n",
              "      <td>12.430858</td>\n",
              "      <td>0.0</td>\n",
              "    </tr>\n",
              "    <tr>\n",
              "      <th>35</th>\n",
              "      <td>25.435326</td>\n",
              "      <td>0.0</td>\n",
              "    </tr>\n",
              "    <tr>\n",
              "      <th>45</th>\n",
              "      <td>24.123371</td>\n",
              "      <td>0.0</td>\n",
              "    </tr>\n",
              "  </tbody>\n",
              "</table>\n",
              "</div>"
            ],
            "text/plain": [
              "            0    1\n",
              "5   25.051084  0.0\n",
              "15  24.839940  1.0\n",
              "25  12.430858  0.0\n",
              "35  25.435326  0.0\n",
              "45  24.123371  0.0"
            ]
          },
          "execution_count": 59,
          "metadata": {},
          "output_type": "execute_result"
        }
      ],
      "source": [
        "shooter_data_test[:5].apply(calculate_shooter_distance_from_hoop, axis=1)"
      ]
    },
    {
      "cell_type": "code",
      "execution_count": 61,
      "metadata": {},
      "outputs": [],
      "source": [
        "shooter_data_train = training_data.loc[training_data.annotation_code == 's']\n",
        "shooter_data_test = testing_data.loc[testing_data.annotation_code == 's']"
      ]
    },
    {
      "cell_type": "code",
      "execution_count": 62,
      "metadata": {},
      "outputs": [
        {
          "name": "stderr",
          "output_type": "stream",
          "text": [
            "C:\\Users\\timse\\AppData\\Local\\Temp\\ipykernel_20052\\2934421334.py:2: SettingWithCopyWarning: \n",
            "A value is trying to be set on a copy of a slice from a DataFrame.\n",
            "Try using .loc[row_indexer,col_indexer] = value instead\n",
            "\n",
            "See the caveats in the documentation: https://pandas.pydata.org/pandas-docs/stable/user_guide/indexing.html#returning-a-view-versus-a-copy\n",
            "  shooter_data_train[['distance_from_hoop', 'which_hoop']] = shooter_data_train.apply(calculate_shooter_distance_from_hoop, axis=1)\n",
            "C:\\Users\\timse\\AppData\\Local\\Temp\\ipykernel_20052\\2934421334.py:3: SettingWithCopyWarning: \n",
            "A value is trying to be set on a copy of a slice from a DataFrame.\n",
            "Try using .loc[row_indexer,col_indexer] = value instead\n",
            "\n",
            "See the caveats in the documentation: https://pandas.pydata.org/pandas-docs/stable/user_guide/indexing.html#returning-a-view-versus-a-copy\n",
            "  shooter_data_test[['distance_from_hoop', 'which_hoop']] = shooter_data_test.apply(calculate_shooter_distance_from_hoop, axis=1)\n"
          ]
        }
      ],
      "source": [
        "# Hoop at x = 4 is 0, x = 90 is 1\n",
        "shooter_data_train[['distance_from_hoop', 'which_hoop']] = shooter_data_train.apply(calculate_shooter_distance_from_hoop, axis=1)\n",
        "shooter_data_test[['distance_from_hoop', 'which_hoop']] = shooter_data_test.apply(calculate_shooter_distance_from_hoop, axis=1)"
      ]
    },
    {
      "cell_type": "code",
      "execution_count": 63,
      "metadata": {},
      "outputs": [
        {
          "data": {
            "text/html": [
              "<div>\n",
              "<style scoped>\n",
              "    .dataframe tbody tr th:only-of-type {\n",
              "        vertical-align: middle;\n",
              "    }\n",
              "\n",
              "    .dataframe tbody tr th {\n",
              "        vertical-align: top;\n",
              "    }\n",
              "\n",
              "    .dataframe thead th {\n",
              "        text-align: right;\n",
              "    }\n",
              "</style>\n",
              "<table border=\"1\" class=\"dataframe\">\n",
              "  <thead>\n",
              "    <tr style=\"text-align: right;\">\n",
              "      <th></th>\n",
              "      <th>id</th>\n",
              "      <th>court_x</th>\n",
              "      <th>court_y</th>\n",
              "      <th>annotation_code</th>\n",
              "      <th>offense</th>\n",
              "      <th>shooter</th>\n",
              "      <th>which_hoop</th>\n",
              "      <th>distance_from_hoop</th>\n",
              "    </tr>\n",
              "  </thead>\n",
              "  <tbody>\n",
              "    <tr>\n",
              "      <th>5</th>\n",
              "      <td>1-1</td>\n",
              "      <td>24.245777</td>\n",
              "      <td>10.246514</td>\n",
              "      <td>s</td>\n",
              "      <td>1</td>\n",
              "      <td>1</td>\n",
              "      <td>0.0</td>\n",
              "      <td>25.051084</td>\n",
              "    </tr>\n",
              "    <tr>\n",
              "      <th>15</th>\n",
              "      <td>2-1</td>\n",
              "      <td>65.999802</td>\n",
              "      <td>18.595853</td>\n",
              "      <td>s</td>\n",
              "      <td>1</td>\n",
              "      <td>1</td>\n",
              "      <td>1.0</td>\n",
              "      <td>24.839940</td>\n",
              "    </tr>\n",
              "    <tr>\n",
              "      <th>25</th>\n",
              "      <td>2-5</td>\n",
              "      <td>13.972919</td>\n",
              "      <td>32.420723</td>\n",
              "      <td>s</td>\n",
              "      <td>1</td>\n",
              "      <td>1</td>\n",
              "      <td>0.0</td>\n",
              "      <td>12.430858</td>\n",
              "    </tr>\n",
              "    <tr>\n",
              "      <th>35</th>\n",
              "      <td>2-7</td>\n",
              "      <td>29.426405</td>\n",
              "      <td>25.673611</td>\n",
              "      <td>s</td>\n",
              "      <td>1</td>\n",
              "      <td>1</td>\n",
              "      <td>0.0</td>\n",
              "      <td>25.435326</td>\n",
              "    </tr>\n",
              "    <tr>\n",
              "      <th>45</th>\n",
              "      <td>3-2</td>\n",
              "      <td>24.571083</td>\n",
              "      <td>37.600301</td>\n",
              "      <td>s</td>\n",
              "      <td>1</td>\n",
              "      <td>1</td>\n",
              "      <td>0.0</td>\n",
              "      <td>24.123371</td>\n",
              "    </tr>\n",
              "    <tr>\n",
              "      <th>...</th>\n",
              "      <td>...</td>\n",
              "      <td>...</td>\n",
              "      <td>...</td>\n",
              "      <td>...</td>\n",
              "      <td>...</td>\n",
              "      <td>...</td>\n",
              "      <td>...</td>\n",
              "      <td>...</td>\n",
              "    </tr>\n",
              "    <tr>\n",
              "      <th>131975</th>\n",
              "      <td>5020-38</td>\n",
              "      <td>73.369204</td>\n",
              "      <td>6.589166</td>\n",
              "      <td>s</td>\n",
              "      <td>1</td>\n",
              "      <td>1</td>\n",
              "      <td>1.0</td>\n",
              "      <td>24.810122</td>\n",
              "    </tr>\n",
              "    <tr>\n",
              "      <th>131985</th>\n",
              "      <td>5020-44</td>\n",
              "      <td>10.383696</td>\n",
              "      <td>23.385000</td>\n",
              "      <td>s</td>\n",
              "      <td>1</td>\n",
              "      <td>1</td>\n",
              "      <td>0.0</td>\n",
              "      <td>6.584816</td>\n",
              "    </tr>\n",
              "    <tr>\n",
              "      <th>131995</th>\n",
              "      <td>5020-45</td>\n",
              "      <td>63.967513</td>\n",
              "      <td>21.630555</td>\n",
              "      <td>s</td>\n",
              "      <td>1</td>\n",
              "      <td>1</td>\n",
              "      <td>1.0</td>\n",
              "      <td>26.249639</td>\n",
              "    </tr>\n",
              "    <tr>\n",
              "      <th>132005</th>\n",
              "      <td>5020-50</td>\n",
              "      <td>86.769934</td>\n",
              "      <td>45.832432</td>\n",
              "      <td>s</td>\n",
              "      <td>1</td>\n",
              "      <td>1</td>\n",
              "      <td>1.0</td>\n",
              "      <td>21.081356</td>\n",
              "    </tr>\n",
              "    <tr>\n",
              "      <th>132015</th>\n",
              "      <td>5020-51</td>\n",
              "      <td>86.635907</td>\n",
              "      <td>25.581666</td>\n",
              "      <td>s</td>\n",
              "      <td>1</td>\n",
              "      <td>1</td>\n",
              "      <td>1.0</td>\n",
              "      <td>3.414009</td>\n",
              "    </tr>\n",
              "  </tbody>\n",
              "</table>\n",
              "<p>13202 rows × 8 columns</p>\n",
              "</div>"
            ],
            "text/plain": [
              "             id    court_x    court_y annotation_code  offense  shooter  \\\n",
              "5           1-1  24.245777  10.246514               s        1        1   \n",
              "15          2-1  65.999802  18.595853               s        1        1   \n",
              "25          2-5  13.972919  32.420723               s        1        1   \n",
              "35          2-7  29.426405  25.673611               s        1        1   \n",
              "45          3-2  24.571083  37.600301               s        1        1   \n",
              "...         ...        ...        ...             ...      ...      ...   \n",
              "131975  5020-38  73.369204   6.589166               s        1        1   \n",
              "131985  5020-44  10.383696  23.385000               s        1        1   \n",
              "131995  5020-45  63.967513  21.630555               s        1        1   \n",
              "132005  5020-50  86.769934  45.832432               s        1        1   \n",
              "132015  5020-51  86.635907  25.581666               s        1        1   \n",
              "\n",
              "        which_hoop  distance_from_hoop  \n",
              "5              0.0           25.051084  \n",
              "15             1.0           24.839940  \n",
              "25             0.0           12.430858  \n",
              "35             0.0           25.435326  \n",
              "45             0.0           24.123371  \n",
              "...            ...                 ...  \n",
              "131975         1.0           24.810122  \n",
              "131985         0.0            6.584816  \n",
              "131995         1.0           26.249639  \n",
              "132005         1.0           21.081356  \n",
              "132015         1.0            3.414009  \n",
              "\n",
              "[13202 rows x 8 columns]"
            ]
          },
          "execution_count": 63,
          "metadata": {},
          "output_type": "execute_result"
        }
      ],
      "source": [
        "shooter_data_test"
      ]
    },
    {
      "cell_type": "markdown",
      "metadata": {},
      "source": [
        "Let's investigate the relationship between shot distance and offensive rebounds"
      ]
    },
    {
      "cell_type": "code",
      "execution_count": 12,
      "metadata": {},
      "outputs": [],
      "source": [
        "shot_distance = shooter_data_train.copy()"
      ]
    },
    {
      "cell_type": "code",
      "execution_count": 13,
      "metadata": {},
      "outputs": [
        {
          "data": {
            "text/plain": [
              "0        0\n",
              "1        0\n",
              "2        0\n",
              "3        1\n",
              "4        0\n",
              "        ..\n",
              "30800    0\n",
              "30801    1\n",
              "30802    1\n",
              "30803    1\n",
              "30804    0\n",
              "Name: is_oreb, Length: 30805, dtype: int64"
            ]
          },
          "execution_count": 13,
          "metadata": {},
          "output_type": "execute_result"
        }
      ],
      "source": [
        "train_pbp['is_oreb']"
      ]
    },
    {
      "cell_type": "code",
      "execution_count": 14,
      "metadata": {},
      "outputs": [],
      "source": [
        "shot_distance['oreb'] = train_pbp['is_oreb'].values"
      ]
    },
    {
      "cell_type": "code",
      "execution_count": 15,
      "metadata": {},
      "outputs": [
        {
          "data": {
            "text/html": [
              "<div>\n",
              "<style scoped>\n",
              "    .dataframe tbody tr th:only-of-type {\n",
              "        vertical-align: middle;\n",
              "    }\n",
              "\n",
              "    .dataframe tbody tr th {\n",
              "        vertical-align: top;\n",
              "    }\n",
              "\n",
              "    .dataframe thead th {\n",
              "        text-align: right;\n",
              "    }\n",
              "</style>\n",
              "<table border=\"1\" class=\"dataframe\">\n",
              "  <thead>\n",
              "    <tr style=\"text-align: right;\">\n",
              "      <th></th>\n",
              "      <th>id</th>\n",
              "      <th>court_x</th>\n",
              "      <th>court_y</th>\n",
              "      <th>annotation_code</th>\n",
              "      <th>offense</th>\n",
              "      <th>shooter</th>\n",
              "      <th>distance_from_hoop</th>\n",
              "      <th>which_hoop</th>\n",
              "      <th>oreb</th>\n",
              "    </tr>\n",
              "  </thead>\n",
              "  <tbody>\n",
              "    <tr>\n",
              "      <th>5</th>\n",
              "      <td>2-2</td>\n",
              "      <td>69.994331</td>\n",
              "      <td>39.674616</td>\n",
              "      <td>s</td>\n",
              "      <td>1</td>\n",
              "      <td>1</td>\n",
              "      <td>24.810706</td>\n",
              "      <td>1.0</td>\n",
              "      <td>0</td>\n",
              "    </tr>\n",
              "    <tr>\n",
              "      <th>15</th>\n",
              "      <td>2-3</td>\n",
              "      <td>16.896578</td>\n",
              "      <td>13.154704</td>\n",
              "      <td>s</td>\n",
              "      <td>1</td>\n",
              "      <td>1</td>\n",
              "      <td>17.510933</td>\n",
              "      <td>0.0</td>\n",
              "      <td>0</td>\n",
              "    </tr>\n",
              "    <tr>\n",
              "      <th>25</th>\n",
              "      <td>2-4</td>\n",
              "      <td>87.963438</td>\n",
              "      <td>3.638889</td>\n",
              "      <td>s</td>\n",
              "      <td>1</td>\n",
              "      <td>1</td>\n",
              "      <td>21.457974</td>\n",
              "      <td>1.0</td>\n",
              "      <td>0</td>\n",
              "    </tr>\n",
              "    <tr>\n",
              "      <th>35</th>\n",
              "      <td>2-6</td>\n",
              "      <td>80.185287</td>\n",
              "      <td>22.850748</td>\n",
              "      <td>s</td>\n",
              "      <td>1</td>\n",
              "      <td>1</td>\n",
              "      <td>10.047281</td>\n",
              "      <td>1.0</td>\n",
              "      <td>1</td>\n",
              "    </tr>\n",
              "    <tr>\n",
              "      <th>45</th>\n",
              "      <td>2-8</td>\n",
              "      <td>70.659638</td>\n",
              "      <td>39.791936</td>\n",
              "      <td>s</td>\n",
              "      <td>1</td>\n",
              "      <td>1</td>\n",
              "      <td>24.348532</td>\n",
              "      <td>1.0</td>\n",
              "      <td>0</td>\n",
              "    </tr>\n",
              "    <tr>\n",
              "      <th>...</th>\n",
              "      <td>...</td>\n",
              "      <td>...</td>\n",
              "      <td>...</td>\n",
              "      <td>...</td>\n",
              "      <td>...</td>\n",
              "      <td>...</td>\n",
              "      <td>...</td>\n",
              "      <td>...</td>\n",
              "      <td>...</td>\n",
              "    </tr>\n",
              "    <tr>\n",
              "      <th>308005</th>\n",
              "      <td>5020-46</td>\n",
              "      <td>75.406582</td>\n",
              "      <td>43.315000</td>\n",
              "      <td>s</td>\n",
              "      <td>1</td>\n",
              "      <td>1</td>\n",
              "      <td>23.418093</td>\n",
              "      <td>1.0</td>\n",
              "      <td>0</td>\n",
              "    </tr>\n",
              "    <tr>\n",
              "      <th>308015</th>\n",
              "      <td>5020-47</td>\n",
              "      <td>34.976740</td>\n",
              "      <td>28.423749</td>\n",
              "      <td>s</td>\n",
              "      <td>1</td>\n",
              "      <td>1</td>\n",
              "      <td>31.165373</td>\n",
              "      <td>0.0</td>\n",
              "      <td>1</td>\n",
              "    </tr>\n",
              "    <tr>\n",
              "      <th>308025</th>\n",
              "      <td>5020-48</td>\n",
              "      <td>12.023261</td>\n",
              "      <td>24.935416</td>\n",
              "      <td>s</td>\n",
              "      <td>1</td>\n",
              "      <td>1</td>\n",
              "      <td>8.023521</td>\n",
              "      <td>0.0</td>\n",
              "      <td>1</td>\n",
              "    </tr>\n",
              "    <tr>\n",
              "      <th>308035</th>\n",
              "      <td>5020-49</td>\n",
              "      <td>63.025313</td>\n",
              "      <td>12.659930</td>\n",
              "      <td>s</td>\n",
              "      <td>1</td>\n",
              "      <td>1</td>\n",
              "      <td>29.663295</td>\n",
              "      <td>1.0</td>\n",
              "      <td>1</td>\n",
              "    </tr>\n",
              "    <tr>\n",
              "      <th>308045</th>\n",
              "      <td>5020-52</td>\n",
              "      <td>70.669644</td>\n",
              "      <td>7.270347</td>\n",
              "      <td>s</td>\n",
              "      <td>1</td>\n",
              "      <td>1</td>\n",
              "      <td>26.229816</td>\n",
              "      <td>1.0</td>\n",
              "      <td>0</td>\n",
              "    </tr>\n",
              "  </tbody>\n",
              "</table>\n",
              "<p>30805 rows × 9 columns</p>\n",
              "</div>"
            ],
            "text/plain": [
              "             id    court_x    court_y annotation_code  offense  shooter  \\\n",
              "5           2-2  69.994331  39.674616               s        1        1   \n",
              "15          2-3  16.896578  13.154704               s        1        1   \n",
              "25          2-4  87.963438   3.638889               s        1        1   \n",
              "35          2-6  80.185287  22.850748               s        1        1   \n",
              "45          2-8  70.659638  39.791936               s        1        1   \n",
              "...         ...        ...        ...             ...      ...      ...   \n",
              "308005  5020-46  75.406582  43.315000               s        1        1   \n",
              "308015  5020-47  34.976740  28.423749               s        1        1   \n",
              "308025  5020-48  12.023261  24.935416               s        1        1   \n",
              "308035  5020-49  63.025313  12.659930               s        1        1   \n",
              "308045  5020-52  70.669644   7.270347               s        1        1   \n",
              "\n",
              "        distance_from_hoop  which_hoop  oreb  \n",
              "5                24.810706         1.0     0  \n",
              "15               17.510933         0.0     0  \n",
              "25               21.457974         1.0     0  \n",
              "35               10.047281         1.0     1  \n",
              "45               24.348532         1.0     0  \n",
              "...                    ...         ...   ...  \n",
              "308005           23.418093         1.0     0  \n",
              "308015           31.165373         0.0     1  \n",
              "308025            8.023521         0.0     1  \n",
              "308035           29.663295         1.0     1  \n",
              "308045           26.229816         1.0     0  \n",
              "\n",
              "[30805 rows x 9 columns]"
            ]
          },
          "execution_count": 15,
          "metadata": {},
          "output_type": "execute_result"
        }
      ],
      "source": [
        "shot_distance"
      ]
    },
    {
      "cell_type": "code",
      "execution_count": 16,
      "metadata": {},
      "outputs": [
        {
          "data": {
            "image/png": "[encoded data removed]",
            "text/plain": [
              "<Figure size 1000x600 with 1 Axes>"
            ]
          },
          "metadata": {},
          "output_type": "display_data"
        }
      ],
      "source": [
        "import numpy as np\n",
        "import pandas as pd\n",
        "import seaborn as sns\n",
        "import matplotlib.pyplot as plt\n",
        "\n",
        "# Categorize each shot into the corresponding zones based on shot distance\n",
        "shot_distance_bins = [0, 5, 10, 15, 20, 25, 30, 35, 40, 45, 50, np.inf]\n",
        "zone_labels = ['0-5', '5-10', '10-15', '15-20', '20-25', '25-30', '30-35', '35-40', '40-45', '45-50', '50+']\n",
        "shot_distance['shot_distance_zone'] = pd.cut(shot_distance['distance_from_hoop'], bins=shot_distance_bins, labels=zone_labels, right=False)\n",
        "\n",
        "# Calculate the offensive rebound percentage for each shot distance zone\n",
        "oreb_by_zone = shot_distance.groupby('shot_distance_zone')['oreb'].mean()\n",
        "\n",
        "# Create the bar graph\n",
        "plt.figure(figsize=(10, 6))\n",
        "sns.barplot(x=oreb_by_zone.index, y=oreb_by_zone.values, color='skyblue')\n",
        "plt.title('Offensive Rebound Percentage by Shot Distance')\n",
        "plt.xlabel('Shot Distance Zone (feet)')\n",
        "plt.ylabel('Offensive Rebound Percentage')\n",
        "plt.xticks(rotation=45, ha='right')\n",
        "plt.tight_layout()\n",
        "plt.show()\n"
      ]
    },
    {
      "cell_type": "markdown",
      "metadata": {},
      "source": [
        "#### Feature Engineering Average Distance of Defenders from the basket\n",
        "- This feature will inform the spacing of the court at the time of the shot\n",
        "- The further out the defense is, the harder it will be to box out and the more lanes there will be for offensive players to crash the boards\n",
        "- There is even more risk here that a player will be on the other side of the court\n",
        "    - The ground truth shooting hoop will be considered what hoop the shooter is closer to in order to maintain consistency despite the uncertainty"
      ]
    },
    {
      "cell_type": "code",
      "execution_count": 17,
      "metadata": {},
      "outputs": [],
      "source": [
        "def calculate_def_distance_from_hoop(row):\n",
        "    # Define the coordinates of the hoop\n",
        "    hoop_coordinates = np.array([[4.0, 25.0], [90.0, 25.0]])  # Ensure the elements are floats\n",
        "    def_coordinates = np.array([row['court_x'], row['court_y']])\n",
        "    \n",
        "    # Calculate the distance\n",
        "    distance = np.linalg.norm(def_coordinates - hoop_coordinates[int(row['which_hoop'])])\n",
        "    return distance"
      ]
    },
    {
      "cell_type": "code",
      "execution_count": 18,
      "metadata": {},
      "outputs": [],
      "source": [
        "training_data = training_data.merge(shooter_data_train[['id', 'which_hoop']], left_on='id', right_on='id')\n",
        "testing_data = testing_data.merge(shooter_data_test[['id', 'which_hoop']], left_on='id', right_on='id')"
      ]
    },
    {
      "cell_type": "code",
      "execution_count": 19,
      "metadata": {},
      "outputs": [],
      "source": [
        "defenders_distance_train = training_data.loc[training_data.offense == 0]\n",
        "defenders_distance_test = testing_data.loc[testing_data.offense == 0]"
      ]
    },
    {
      "cell_type": "code",
      "execution_count": 20,
      "metadata": {},
      "outputs": [
        {
          "name": "stderr",
          "output_type": "stream",
          "text": [
            "C:\\Users\\timse\\AppData\\Local\\Temp\\ipykernel_20052\\4184772301.py:1: SettingWithCopyWarning: \n",
            "A value is trying to be set on a copy of a slice from a DataFrame.\n",
            "Try using .loc[row_indexer,col_indexer] = value instead\n",
            "\n",
            "See the caveats in the documentation: https://pandas.pydata.org/pandas-docs/stable/user_guide/indexing.html#returning-a-view-versus-a-copy\n",
            "  defenders_distance_train['def_distance'] = defenders_distance_train.apply(calculate_def_distance_from_hoop, axis=1)\n",
            "C:\\Users\\timse\\AppData\\Local\\Temp\\ipykernel_20052\\4184772301.py:2: SettingWithCopyWarning: \n",
            "A value is trying to be set on a copy of a slice from a DataFrame.\n",
            "Try using .loc[row_indexer,col_indexer] = value instead\n",
            "\n",
            "See the caveats in the documentation: https://pandas.pydata.org/pandas-docs/stable/user_guide/indexing.html#returning-a-view-versus-a-copy\n",
            "  defenders_distance_test['def_distance'] = defenders_distance_test.apply(calculate_def_distance_from_hoop, axis=1)\n"
          ]
        }
      ],
      "source": [
        "defenders_distance_train['def_distance'] = defenders_distance_train.apply(calculate_def_distance_from_hoop, axis=1)\n",
        "defenders_distance_test['def_distance'] = defenders_distance_test.apply(calculate_def_distance_from_hoop, axis=1)"
      ]
    },
    {
      "cell_type": "code",
      "execution_count": 21,
      "metadata": {},
      "outputs": [],
      "source": [
        "def_mean_distances_train = defenders_distance_train.groupby('id')['def_distance'].mean()\n",
        "def_mean_distances_test = defenders_distance_test.groupby('id')['def_distance'].mean()"
      ]
    },
    {
      "cell_type": "markdown",
      "metadata": {},
      "source": [
        "#### Feature Engineering Measurement of Rebound Positioning"
      ]
    },
    {
      "cell_type": "markdown",
      "metadata": {},
      "source": [
        "##### Assigning box out responsibilities\n",
        "\n",
        "*Offensive Rebounding Player Assignment Algorithm*\n",
        "\n",
        "This algorithm is designed to optimize the assignment of defensive players to their respective offensive players during a basketball game to enhance the team's chances of securing an defensive rebound.\n",
        "\n",
        "Step 1: Creating a Spatial Graph\n",
        "\n",
        "The algorithm starts by constructing a spatial graph that represents the relationships between offensive players and the hoop (basket). Each offensive player and the hoop are represented as nodes in the graph, and edges are added between offensive players based on their spatial proximity. This graph reflects the players' positioning on the court and helps identify the most strategic offensive players to box out.\n",
        "\n",
        "Step 2: Betweenness Centrality\n",
        "\n",
        "The algorithm then calculates a measure called \"betweenness centrality\" for each offensive player in the graph. This metric quantifies how often an offensive player lies on the shortest path between other offensive players and the hoop. High betweenness centrality indicates that a player is in a critical position on the court, and boxing out such players becomes crucial for effective rebounding. In basketball terms, offensive players with high betweenness centrality are in critical positions that can impact the overall offensive flow and create more scoring opportunities. Therefore, these players become important targets for defensive players to box out and prevent them from securing offensive rebounds.\n",
        "\n",
        "Step 3: Optimizing Player Assignments\n",
        "\n",
        "Next, the algorithm aims to optimize the assignment of defensive players to offensive players. To achieve this, it creates a cost matrix that considers both the distance between defensive and offensive players and the offensive players' betweenness centrality. The Hungarian algorithm is then employed to find the best possible player assignments that maximize the overall betweenness centrality while minimizing the distances.\n",
        "\n",
        "Step 4: Iterative Refinement\n",
        "\n",
        "To further improve the assignments, the algorithm iteratively updates the player assignments and optimizes the betweenness centrality and distances. This iterative refinement process enhances the quality of player matchups, ensuring that no defensive player is left without a specific offensive player to box out.\n",
        "\n",
        "Step 5: Assigning Remaining Defenders\n",
        "\n",
        "After the iterations, there may still be some defenders without an offensive player assigned to them. To address this, the algorithm finds the closest unassigned offensive player for each remaining defender based on the distances."
      ]
    },
    {
      "cell_type": "code",
      "execution_count": 202,
      "metadata": {},
      "outputs": [
        {
          "name": "stdout",
          "output_type": "stream",
          "text": [
            "{(0, 0): (5, 0), (1, 1): (6, 1), (2, 2): (7, 2), (3, 3): (8, 3), (4, 4): (9, 4)}\n"
          ]
        }
      ],
      "source": [
        "from scipy.optimize import linear_sum_assignment\n",
        "import networkx as nx\n",
        "\n",
        "def calculate_distance(point1, point2):\n",
        "    return np.linalg.norm(point1 - point2)\n",
        "\n",
        "def construct_graph(offensive_players, hoop, distances):\n",
        "    graph = nx.Graph()\n",
        "    for player1 in offensive_players:\n",
        "        for player2 in offensive_players:\n",
        "            if not np.array_equal(player1, player2):\n",
        "                distance = calculate_distance(player1, player2)\n",
        "                graph.add_edge(tuple(player1), tuple(player2), weight=1.0 / distance)\n",
        "        \n",
        "        distance_to_hoop = distances[(tuple(player1), tuple(hoop))]\n",
        "        graph.add_edge(tuple(player1), tuple(hoop), weight=1.0 / distance_to_hoop)\n",
        "    \n",
        "    return graph\n",
        "\n",
        "def calculate_betweenness_centralities(graph):\n",
        "    return nx.betweenness_centrality(graph, weight='weight')\n",
        "\n",
        "def calculate_cost_matrix(defenders, offensive_players, distances, betweenness_centralities):\n",
        "    num_defenders = len(defenders)\n",
        "    num_offensive_players = len(offensive_players)\n",
        "    cost_matrix = np.zeros((num_defenders, num_offensive_players))\n",
        "\n",
        "    for i, defender in enumerate(defenders):\n",
        "        for j, offensive_player in enumerate(offensive_players):\n",
        "            distance_cost = distances[(tuple(defender), tuple(offensive_player))]\n",
        "            betweenness_cost = -betweenness_centralities[tuple(offensive_player)]\n",
        "            cost_matrix[i, j] = distance_cost + betweenness_cost\n",
        "\n",
        "    return cost_matrix\n",
        "\n",
        "def assign_offensive_players(defenders, offensive_players, hoop, num_iterations=5):\n",
        "    distances = {}\n",
        "    for defender in defenders:\n",
        "        for offensive_player in offensive_players:\n",
        "            distances[(tuple(defender), tuple(offensive_player))] = calculate_distance(defender, offensive_player)\n",
        "        distances[(tuple(defender), tuple(hoop))] = calculate_distance(defender, hoop)\n",
        "\n",
        "    for offensive_player in offensive_players:\n",
        "        distances[(tuple(offensive_player), tuple(hoop))] = calculate_distance(offensive_player, hoop)\n",
        "\n",
        "    assignments = {}\n",
        "    unassigned_defenders = list(defenders)\n",
        "\n",
        "    for _ in range(num_iterations):\n",
        "        graph = construct_graph(offensive_players, hoop, distances)\n",
        "        betweenness_centralities = calculate_betweenness_centralities(graph)\n",
        "\n",
        "        cost_matrix = calculate_cost_matrix(defenders, offensive_players, distances, betweenness_centralities)\n",
        "\n",
        "        # Use Hungarian algorithm to find the optimal assignment\n",
        "        row_ind, col_ind = linear_sum_assignment(cost_matrix)\n",
        "\n",
        "        for i, j in zip(row_ind, col_ind):\n",
        "            defender = tuple(defenders[i])\n",
        "            offensive_player = tuple(offensive_players[j])\n",
        "            assignments[defender] = offensive_player\n",
        "            # Update the set of unassigned defenders\n",
        "            if any(np.array_equal(defender, a) for a in unassigned_defenders):\n",
        "                unassigned_defenders = [x for x in unassigned_defenders if not (x == defender).all()]\n",
        "\n",
        "    # Assign remaining defenders to offensive players based on distance\n",
        "    for defender in unassigned_defenders:\n",
        "        min_distance = float('inf')\n",
        "        closest_offensive_player = None\n",
        "        for offensive_player in offensive_players:\n",
        "            distance = distances[(tuple(defender), tuple(offensive_player))]\n",
        "            if distance < min_distance:\n",
        "                min_distance = distance\n",
        "                closest_offensive_player = tuple(offensive_player)\n",
        "        assignments[tuple(defender)] = closest_offensive_player\n",
        "\n",
        "    return assignments\n",
        "\n",
        "# Example usage:\n",
        "defenders = np.array([[0, 0], [1, 1], [2, 2], [3, 3], [4, 4]])\n",
        "offensive_players = np.array([[5, 0], [6, 1], [7, 2], [8, 3], [9, 4]])\n",
        "hoop = np.array([10, 5])\n",
        "\n",
        "assignments = assign_offensive_players(defenders, offensive_players, hoop)\n",
        "print(assignments)"
      ]
    },
    {
      "cell_type": "code",
      "execution_count": 162,
      "metadata": {},
      "outputs": [
        {
          "data": {
            "text/plain": [
              "<pandas.core.groupby.generic.DataFrameGroupBy object at 0x000001ED9B01E710>"
            ]
          },
          "execution_count": 162,
          "metadata": {},
          "output_type": "execute_result"
        }
      ],
      "source": [
        "training_data.groupby('id')"
      ]
    },
    {
      "cell_type": "code",
      "execution_count": 169,
      "metadata": {},
      "outputs": [],
      "source": [
        "copy_training_data = training_data.copy()\n",
        "a = copy_training_data[:100]"
      ]
    },
    {
      "cell_type": "code",
      "execution_count": 203,
      "metadata": {},
      "outputs": [
        {
          "name": "stderr",
          "output_type": "stream",
          "text": [
            "C:\\Users\\timse\\AppData\\Local\\Temp\\ipykernel_20052\\1973906657.py:24: SettingWithCopyWarning: \n",
            "A value is trying to be set on a copy of a slice from a DataFrame.\n",
            "Try using .loc[row_indexer,col_indexer] = value instead\n",
            "\n",
            "See the caveats in the documentation: https://pandas.pydata.org/pandas-docs/stable/user_guide/indexing.html#returning-a-view-versus-a-copy\n",
            "  def_training_data['assigned_annotation_code'] = def_training_data.apply(lambda row: all_assignments[(row['court_x'], row['court_y'])], axis=1)\n"
          ]
        },
        {
          "data": {
            "text/html": [
              "<div>\n",
              "<style scoped>\n",
              "    .dataframe tbody tr th:only-of-type {\n",
              "        vertical-align: middle;\n",
              "    }\n",
              "\n",
              "    .dataframe tbody tr th {\n",
              "        vertical-align: top;\n",
              "    }\n",
              "\n",
              "    .dataframe thead th {\n",
              "        text-align: right;\n",
              "    }\n",
              "</style>\n",
              "<table border=\"1\" class=\"dataframe\">\n",
              "  <thead>\n",
              "    <tr style=\"text-align: right;\">\n",
              "      <th></th>\n",
              "      <th>id</th>\n",
              "      <th>court_x</th>\n",
              "      <th>court_y</th>\n",
              "      <th>annotation_code</th>\n",
              "      <th>offense</th>\n",
              "      <th>shooter</th>\n",
              "      <th>which_hoop</th>\n",
              "      <th>assigned_annotation_code</th>\n",
              "    </tr>\n",
              "  </thead>\n",
              "  <tbody>\n",
              "    <tr>\n",
              "      <th>0</th>\n",
              "      <td>2-2</td>\n",
              "      <td>72.807686</td>\n",
              "      <td>37.409669</td>\n",
              "      <td>d1</td>\n",
              "      <td>0</td>\n",
              "      <td>0</td>\n",
              "      <td>1.0</td>\n",
              "      <td>(69.994331066425, 39.6746158599854)</td>\n",
              "    </tr>\n",
              "    <tr>\n",
              "      <th>1</th>\n",
              "      <td>2-2</td>\n",
              "      <td>79.080643</td>\n",
              "      <td>31.477796</td>\n",
              "      <td>d2</td>\n",
              "      <td>0</td>\n",
              "      <td>0</td>\n",
              "      <td>1.0</td>\n",
              "      <td>(82.6924206660344, 32.7360703394963)</td>\n",
              "    </tr>\n",
              "    <tr>\n",
              "      <th>2</th>\n",
              "      <td>2-2</td>\n",
              "      <td>69.956321</td>\n",
              "      <td>24.467300</td>\n",
              "      <td>d3</td>\n",
              "      <td>0</td>\n",
              "      <td>0</td>\n",
              "      <td>1.0</td>\n",
              "      <td>(58.5508424318754, 12.9629859557519)</td>\n",
              "    </tr>\n",
              "    <tr>\n",
              "      <th>3</th>\n",
              "      <td>2-2</td>\n",
              "      <td>75.468933</td>\n",
              "      <td>13.861763</td>\n",
              "      <td>d4</td>\n",
              "      <td>0</td>\n",
              "      <td>0</td>\n",
              "      <td>1.0</td>\n",
              "      <td>(71.6671139643743, 12.6034883352426)</td>\n",
              "    </tr>\n",
              "    <tr>\n",
              "      <th>4</th>\n",
              "      <td>2-2</td>\n",
              "      <td>84.973496</td>\n",
              "      <td>19.254422</td>\n",
              "      <td>d5</td>\n",
              "      <td>0</td>\n",
              "      <td>0</td>\n",
              "      <td>1.0</td>\n",
              "      <td>(81.7419589116023, 17.0973722751324)</td>\n",
              "    </tr>\n",
              "    <tr>\n",
              "      <th>...</th>\n",
              "      <td>...</td>\n",
              "      <td>...</td>\n",
              "      <td>...</td>\n",
              "      <td>...</td>\n",
              "      <td>...</td>\n",
              "      <td>...</td>\n",
              "      <td>...</td>\n",
              "      <td>...</td>\n",
              "    </tr>\n",
              "    <tr>\n",
              "      <th>308040</th>\n",
              "      <td>5020-52</td>\n",
              "      <td>73.893471</td>\n",
              "      <td>11.121111</td>\n",
              "      <td>d1</td>\n",
              "      <td>0</td>\n",
              "      <td>0</td>\n",
              "      <td>1.0</td>\n",
              "      <td>(70.6696435488187, 7.27034715505747)</td>\n",
              "    </tr>\n",
              "    <tr>\n",
              "      <th>308041</th>\n",
              "      <td>5020-52</td>\n",
              "      <td>82.631800</td>\n",
              "      <td>7.270347</td>\n",
              "      <td>d2</td>\n",
              "      <td>0</td>\n",
              "      <td>0</td>\n",
              "      <td>1.0</td>\n",
              "      <td>(86.9585204491248, 4.38229166544401)</td>\n",
              "    </tr>\n",
              "    <tr>\n",
              "      <th>308042</th>\n",
              "      <td>5020-52</td>\n",
              "      <td>68.633583</td>\n",
              "      <td>23.555972</td>\n",
              "      <td>d3</td>\n",
              "      <td>0</td>\n",
              "      <td>0</td>\n",
              "      <td>1.0</td>\n",
              "      <td>(58.9620871910682, 26.7649302115807)</td>\n",
              "    </tr>\n",
              "    <tr>\n",
              "      <th>308043</th>\n",
              "      <td>5020-52</td>\n",
              "      <td>81.613738</td>\n",
              "      <td>21.389860</td>\n",
              "      <td>d4</td>\n",
              "      <td>0</td>\n",
              "      <td>0</td>\n",
              "      <td>1.0</td>\n",
              "      <td>(76.7779491131122, 20.4272215182965)</td>\n",
              "    </tr>\n",
              "    <tr>\n",
              "      <th>308044</th>\n",
              "      <td>5020-52</td>\n",
              "      <td>86.619164</td>\n",
              "      <td>34.626946</td>\n",
              "      <td>d5</td>\n",
              "      <td>0</td>\n",
              "      <td>0</td>\n",
              "      <td>1.0</td>\n",
              "      <td>(81.0198515378512, 44.9759043180026)</td>\n",
              "    </tr>\n",
              "  </tbody>\n",
              "</table>\n",
              "<p>154025 rows × 8 columns</p>\n",
              "</div>"
            ],
            "text/plain": [
              "             id    court_x    court_y annotation_code  offense  shooter  \\\n",
              "0           2-2  72.807686  37.409669              d1        0        0   \n",
              "1           2-2  79.080643  31.477796              d2        0        0   \n",
              "2           2-2  69.956321  24.467300              d3        0        0   \n",
              "3           2-2  75.468933  13.861763              d4        0        0   \n",
              "4           2-2  84.973496  19.254422              d5        0        0   \n",
              "...         ...        ...        ...             ...      ...      ...   \n",
              "308040  5020-52  73.893471  11.121111              d1        0        0   \n",
              "308041  5020-52  82.631800   7.270347              d2        0        0   \n",
              "308042  5020-52  68.633583  23.555972              d3        0        0   \n",
              "308043  5020-52  81.613738  21.389860              d4        0        0   \n",
              "308044  5020-52  86.619164  34.626946              d5        0        0   \n",
              "\n",
              "        which_hoop              assigned_annotation_code  \n",
              "0              1.0   (69.994331066425, 39.6746158599854)  \n",
              "1              1.0  (82.6924206660344, 32.7360703394963)  \n",
              "2              1.0  (58.5508424318754, 12.9629859557519)  \n",
              "3              1.0  (71.6671139643743, 12.6034883352426)  \n",
              "4              1.0  (81.7419589116023, 17.0973722751324)  \n",
              "...            ...                                   ...  \n",
              "308040         1.0  (70.6696435488187, 7.27034715505747)  \n",
              "308041         1.0  (86.9585204491248, 4.38229166544401)  \n",
              "308042         1.0  (58.9620871910682, 26.7649302115807)  \n",
              "308043         1.0  (76.7779491131122, 20.4272215182965)  \n",
              "308044         1.0  (81.0198515378512, 44.9759043180026)  \n",
              "\n",
              "[154025 rows x 8 columns]"
            ]
          },
          "execution_count": 203,
          "metadata": {},
          "output_type": "execute_result"
        }
      ],
      "source": [
        "import numpy as np\n",
        "import pandas as pd\n",
        "import networkx as nx\n",
        "\n",
        "# Step 1: Group the data by Rebound ID\n",
        "grouped_data = copy_training_data.groupby('id')\n",
        "\n",
        "# Step 2: Loop through each rebound's data and assign players\n",
        "assignments_list = []\n",
        "for _, group in grouped_data:\n",
        "    defenders = group[group['offense'] == 0][['court_x', 'court_y']].values\n",
        "    offensive_players = group[group['offense'] == 1][['court_x', 'court_y']].values\n",
        "    hoop = [4, 25] if group['which_hoop'].iloc[0] == 0 else [90, 25]\n",
        "    \n",
        "    assignments = assign_offensive_players(defenders, offensive_players, hoop)\n",
        "    assignments_list.append(assignments)\n",
        "\n",
        "# Step 3: Flatten the list of assignments dictionaries\n",
        "all_assignments = {k: v for d in assignments_list for k, v in d.items()}\n",
        "\n",
        "def_training_data = copy_training_data.loc[copy_training_data.offense == 0]\n",
        "\n",
        "# Step 4: Map the assignments to the DataFrame and create a new column\n",
        "def_training_data['assigned_annotation_code'] = def_training_data.apply(lambda row: all_assignments[(row['court_x'], row['court_y'])], axis=1)\n",
        "\n",
        "# The data DataFrame now contains the assigned_annotation_code column with the matched players for each rebound's data points.\n",
        "def_training_data\n"
      ]
    },
    {
      "cell_type": "code",
      "execution_count": 210,
      "metadata": {},
      "outputs": [
        {
          "name": "stderr",
          "output_type": "stream",
          "text": [
            "C:\\Users\\timse\\AppData\\Local\\Temp\\ipykernel_20052\\2577737535.py:2: SettingWithCopyWarning: \n",
            "A value is trying to be set on a copy of a slice from a DataFrame.\n",
            "Try using .loc[row_indexer,col_indexer] = value instead\n",
            "\n",
            "See the caveats in the documentation: https://pandas.pydata.org/pandas-docs/stable/user_guide/indexing.html#returning-a-view-versus-a-copy\n",
            "  def_training_data[['off_x', 'off_y']] = def_training_data['assigned_annotation_code'].apply(pd.Series)\n",
            "C:\\Users\\timse\\AppData\\Local\\Temp\\ipykernel_20052\\2577737535.py:2: SettingWithCopyWarning: \n",
            "A value is trying to be set on a copy of a slice from a DataFrame.\n",
            "Try using .loc[row_indexer,col_indexer] = value instead\n",
            "\n",
            "See the caveats in the documentation: https://pandas.pydata.org/pandas-docs/stable/user_guide/indexing.html#returning-a-view-versus-a-copy\n",
            "  def_training_data[['off_x', 'off_y']] = def_training_data['assigned_annotation_code'].apply(pd.Series)\n"
          ]
        }
      ],
      "source": [
        "# Assigning offensive players\n",
        "def_training_data[['off_x', 'off_y']] = def_training_data['assigned_annotation_code'].apply(pd.Series)"
      ]
    },
    {
      "cell_type": "code",
      "execution_count": 211,
      "metadata": {},
      "outputs": [
        {
          "data": {
            "text/html": [
              "<div>\n",
              "<style scoped>\n",
              "    .dataframe tbody tr th:only-of-type {\n",
              "        vertical-align: middle;\n",
              "    }\n",
              "\n",
              "    .dataframe tbody tr th {\n",
              "        vertical-align: top;\n",
              "    }\n",
              "\n",
              "    .dataframe thead th {\n",
              "        text-align: right;\n",
              "    }\n",
              "</style>\n",
              "<table border=\"1\" class=\"dataframe\">\n",
              "  <thead>\n",
              "    <tr style=\"text-align: right;\">\n",
              "      <th></th>\n",
              "      <th>id</th>\n",
              "      <th>court_x</th>\n",
              "      <th>court_y</th>\n",
              "      <th>annotation_code</th>\n",
              "      <th>offense</th>\n",
              "      <th>shooter</th>\n",
              "      <th>which_hoop</th>\n",
              "      <th>assigned_annotation_code</th>\n",
              "      <th>off_x</th>\n",
              "      <th>off_y</th>\n",
              "    </tr>\n",
              "  </thead>\n",
              "  <tbody>\n",
              "    <tr>\n",
              "      <th>0</th>\n",
              "      <td>2-2</td>\n",
              "      <td>72.807686</td>\n",
              "      <td>37.409669</td>\n",
              "      <td>d1</td>\n",
              "      <td>0</td>\n",
              "      <td>0</td>\n",
              "      <td>1.0</td>\n",
              "      <td>(69.994331066425, 39.6746158599854)</td>\n",
              "      <td>69.994331</td>\n",
              "      <td>39.674616</td>\n",
              "    </tr>\n",
              "    <tr>\n",
              "      <th>1</th>\n",
              "      <td>2-2</td>\n",
              "      <td>79.080643</td>\n",
              "      <td>31.477796</td>\n",
              "      <td>d2</td>\n",
              "      <td>0</td>\n",
              "      <td>0</td>\n",
              "      <td>1.0</td>\n",
              "      <td>(82.6924206660344, 32.7360703394963)</td>\n",
              "      <td>82.692421</td>\n",
              "      <td>32.736070</td>\n",
              "    </tr>\n",
              "    <tr>\n",
              "      <th>2</th>\n",
              "      <td>2-2</td>\n",
              "      <td>69.956321</td>\n",
              "      <td>24.467300</td>\n",
              "      <td>d3</td>\n",
              "      <td>0</td>\n",
              "      <td>0</td>\n",
              "      <td>1.0</td>\n",
              "      <td>(58.5508424318754, 12.9629859557519)</td>\n",
              "      <td>58.550842</td>\n",
              "      <td>12.962986</td>\n",
              "    </tr>\n",
              "    <tr>\n",
              "      <th>3</th>\n",
              "      <td>2-2</td>\n",
              "      <td>75.468933</td>\n",
              "      <td>13.861763</td>\n",
              "      <td>d4</td>\n",
              "      <td>0</td>\n",
              "      <td>0</td>\n",
              "      <td>1.0</td>\n",
              "      <td>(71.6671139643743, 12.6034883352426)</td>\n",
              "      <td>71.667114</td>\n",
              "      <td>12.603488</td>\n",
              "    </tr>\n",
              "    <tr>\n",
              "      <th>4</th>\n",
              "      <td>2-2</td>\n",
              "      <td>84.973496</td>\n",
              "      <td>19.254422</td>\n",
              "      <td>d5</td>\n",
              "      <td>0</td>\n",
              "      <td>0</td>\n",
              "      <td>1.0</td>\n",
              "      <td>(81.7419589116023, 17.0973722751324)</td>\n",
              "      <td>81.741959</td>\n",
              "      <td>17.097372</td>\n",
              "    </tr>\n",
              "    <tr>\n",
              "      <th>...</th>\n",
              "      <td>...</td>\n",
              "      <td>...</td>\n",
              "      <td>...</td>\n",
              "      <td>...</td>\n",
              "      <td>...</td>\n",
              "      <td>...</td>\n",
              "      <td>...</td>\n",
              "      <td>...</td>\n",
              "      <td>...</td>\n",
              "      <td>...</td>\n",
              "    </tr>\n",
              "    <tr>\n",
              "      <th>308040</th>\n",
              "      <td>5020-52</td>\n",
              "      <td>73.893471</td>\n",
              "      <td>11.121111</td>\n",
              "      <td>d1</td>\n",
              "      <td>0</td>\n",
              "      <td>0</td>\n",
              "      <td>1.0</td>\n",
              "      <td>(70.6696435488187, 7.27034715505747)</td>\n",
              "      <td>70.669644</td>\n",
              "      <td>7.270347</td>\n",
              "    </tr>\n",
              "    <tr>\n",
              "      <th>308041</th>\n",
              "      <td>5020-52</td>\n",
              "      <td>82.631800</td>\n",
              "      <td>7.270347</td>\n",
              "      <td>d2</td>\n",
              "      <td>0</td>\n",
              "      <td>0</td>\n",
              "      <td>1.0</td>\n",
              "      <td>(86.9585204491248, 4.38229166544401)</td>\n",
              "      <td>86.958520</td>\n",
              "      <td>4.382292</td>\n",
              "    </tr>\n",
              "    <tr>\n",
              "      <th>308042</th>\n",
              "      <td>5020-52</td>\n",
              "      <td>68.633583</td>\n",
              "      <td>23.555972</td>\n",
              "      <td>d3</td>\n",
              "      <td>0</td>\n",
              "      <td>0</td>\n",
              "      <td>1.0</td>\n",
              "      <td>(58.9620871910682, 26.7649302115807)</td>\n",
              "      <td>58.962087</td>\n",
              "      <td>26.764930</td>\n",
              "    </tr>\n",
              "    <tr>\n",
              "      <th>308043</th>\n",
              "      <td>5020-52</td>\n",
              "      <td>81.613738</td>\n",
              "      <td>21.389860</td>\n",
              "      <td>d4</td>\n",
              "      <td>0</td>\n",
              "      <td>0</td>\n",
              "      <td>1.0</td>\n",
              "      <td>(76.7779491131122, 20.4272215182965)</td>\n",
              "      <td>76.777949</td>\n",
              "      <td>20.427222</td>\n",
              "    </tr>\n",
              "    <tr>\n",
              "      <th>308044</th>\n",
              "      <td>5020-52</td>\n",
              "      <td>86.619164</td>\n",
              "      <td>34.626946</td>\n",
              "      <td>d5</td>\n",
              "      <td>0</td>\n",
              "      <td>0</td>\n",
              "      <td>1.0</td>\n",
              "      <td>(81.0198515378512, 44.9759043180026)</td>\n",
              "      <td>81.019852</td>\n",
              "      <td>44.975904</td>\n",
              "    </tr>\n",
              "  </tbody>\n",
              "</table>\n",
              "<p>154025 rows × 10 columns</p>\n",
              "</div>"
            ],
            "text/plain": [
              "             id    court_x    court_y annotation_code  offense  shooter  \\\n",
              "0           2-2  72.807686  37.409669              d1        0        0   \n",
              "1           2-2  79.080643  31.477796              d2        0        0   \n",
              "2           2-2  69.956321  24.467300              d3        0        0   \n",
              "3           2-2  75.468933  13.861763              d4        0        0   \n",
              "4           2-2  84.973496  19.254422              d5        0        0   \n",
              "...         ...        ...        ...             ...      ...      ...   \n",
              "308040  5020-52  73.893471  11.121111              d1        0        0   \n",
              "308041  5020-52  82.631800   7.270347              d2        0        0   \n",
              "308042  5020-52  68.633583  23.555972              d3        0        0   \n",
              "308043  5020-52  81.613738  21.389860              d4        0        0   \n",
              "308044  5020-52  86.619164  34.626946              d5        0        0   \n",
              "\n",
              "        which_hoop              assigned_annotation_code      off_x      off_y  \n",
              "0              1.0   (69.994331066425, 39.6746158599854)  69.994331  39.674616  \n",
              "1              1.0  (82.6924206660344, 32.7360703394963)  82.692421  32.736070  \n",
              "2              1.0  (58.5508424318754, 12.9629859557519)  58.550842  12.962986  \n",
              "3              1.0  (71.6671139643743, 12.6034883352426)  71.667114  12.603488  \n",
              "4              1.0  (81.7419589116023, 17.0973722751324)  81.741959  17.097372  \n",
              "...            ...                                   ...        ...        ...  \n",
              "308040         1.0  (70.6696435488187, 7.27034715505747)  70.669644   7.270347  \n",
              "308041         1.0  (86.9585204491248, 4.38229166544401)  86.958520   4.382292  \n",
              "308042         1.0  (58.9620871910682, 26.7649302115807)  58.962087  26.764930  \n",
              "308043         1.0  (76.7779491131122, 20.4272215182965)  76.777949  20.427222  \n",
              "308044         1.0  (81.0198515378512, 44.9759043180026)  81.019852  44.975904  \n",
              "\n",
              "[154025 rows x 10 columns]"
            ]
          },
          "execution_count": 211,
          "metadata": {},
          "output_type": "execute_result"
        }
      ],
      "source": [
        "def_training_data"
      ]
    },
    {
      "cell_type": "code",
      "execution_count": 224,
      "metadata": {},
      "outputs": [
        {
          "data": {
            "image/png": "[encoded data removed]",
            "text/plain": [
              "<Figure size 800x600 with 1 Axes>"
            ]
          },
          "metadata": {},
          "output_type": "display_data"
        }
      ],
      "source": [
        "import pandas as pd\n",
        "import matplotlib.pyplot as plt\n",
        "\n",
        "df = pd.DataFrame(def_training_data[35:40])\n",
        "\n",
        "# Plotting the coordinates and connecting the pairs of players with lines\n",
        "plt.figure(figsize=(8, 6))\n",
        "plt.scatter(df['off_x'], df['off_y'], color='blue', label='Offensive Players')\n",
        "plt.scatter(df['court_x'], df['court_y'], color='red', label='Defenders')\n",
        "\n",
        "# Connect the pairs of players with lines\n",
        "for i, row in df.iterrows():\n",
        "    plt.plot([row['off_x'], row['court_x']], [row['off_y'], row['court_y']], color='gray', linestyle='dotted')\n",
        "\n",
        "plt.xlabel('X-coordinate')\n",
        "plt.ylabel('Y-coordinate')\n",
        "plt.title('Coordinates and Connections')\n",
        "plt.legend()\n",
        "plt.grid(True)\n",
        "plt.show()\n"
      ]
    },
    {
      "cell_type": "markdown",
      "metadata": {},
      "source": [
        "##### Now that we know which offensive player each defensive player is responsible for boxing out, there are a host of new ways to develop features based on angles (between pairs of players and the hoop) and distances (from hoop to player and player to player)"
      ]
    },
    {
      "cell_type": "markdown",
      "metadata": {},
      "source": [
        "Creating features for angles between each pair of players, distances between the pairs, and offensive player's distance to the basket"
      ]
    },
    {
      "cell_type": "code",
      "execution_count": null,
      "metadata": {},
      "outputs": [],
      "source": [
        "# calculating the angle from the offensive player to the defensive player to the hoop\n",
        "# Calculate the angles in radians\n",
        "def_training_data['angle_def_to_hoop'] = np.arctan2(def_training_data['court_y'] - def_training_data['which_hoop'], def_training_data['court_x'])\n",
        "def_training_data['angle_def_to_off'] = np.arctan2(df['off_y'] - def_training_data['court_y'], def_training_data['off_x'] - def_training_data['court_x'])\n",
        "\n",
        "# Convert angles from radians to degrees if desired\n",
        "def_training_data['angle_def_to_hoop'] = np.degrees(def_training_data['angle_def_to_hoop'])\n",
        "def_training_data['angle_def_to_off'] = np.degrees(def_training_data['angle_def_to_off'])\n",
        "\n",
        "# Normalize angles to [0, 360] degrees for better interpretation\n",
        "def_training_data['angle_def_to_hoop'] = (def_training_data['angle_def_to_hoop'] + 360) % 360\n",
        "def_training_data['angle_def_to_off'] = (def_training_data['angle_def_to_off'] + 360) % 360"
      ]
    },
    {
      "cell_type": "code",
      "execution_count": 229,
      "metadata": {},
      "outputs": [
        {
          "name": "stderr",
          "output_type": "stream",
          "text": [
            "C:\\Users\\timse\\AppData\\Local\\Temp\\ipykernel_20052\\1343872799.py:1: SettingWithCopyWarning:\n",
            "\n",
            "\n",
            "A value is trying to be set on a copy of a slice from a DataFrame\n",
            "\n",
            "See the caveats in the documentation: https://pandas.pydata.org/pandas-docs/stable/user_guide/indexing.html#returning-a-view-versus-a-copy\n",
            "\n"
          ]
        }
      ],
      "source": [
        "def_training_data.drop(columns=['angle_def_to_hoop', 'angle_def_to_off'], inplace=True)"
      ]
    },
    {
      "cell_type": "code",
      "execution_count": null,
      "metadata": {},
      "outputs": [],
      "source": [
        "def_training_data['hoop_x'] = def_training_data['which_hoop'].apply(lambda x: 90 if x == 1 else 0)\n",
        "def_training_data['hoop_y'] = 4"
      ]
    },
    {
      "cell_type": "code",
      "execution_count": null,
      "metadata": {},
      "outputs": [],
      "source": [
        "def_training_data.drop(columns='assigned_annotation_code', inplace=True)"
      ]
    },
    {
      "cell_type": "code",
      "execution_count": 235,
      "metadata": {},
      "outputs": [
        {
          "data": {
            "text/html": [
              "<div>\n",
              "<style scoped>\n",
              "    .dataframe tbody tr th:only-of-type {\n",
              "        vertical-align: middle;\n",
              "    }\n",
              "\n",
              "    .dataframe tbody tr th {\n",
              "        vertical-align: top;\n",
              "    }\n",
              "\n",
              "    .dataframe thead th {\n",
              "        text-align: right;\n",
              "    }\n",
              "</style>\n",
              "<table border=\"1\" class=\"dataframe\">\n",
              "  <thead>\n",
              "    <tr style=\"text-align: right;\">\n",
              "      <th></th>\n",
              "      <th>id</th>\n",
              "      <th>court_x</th>\n",
              "      <th>court_y</th>\n",
              "      <th>annotation_code</th>\n",
              "      <th>offense</th>\n",
              "      <th>shooter</th>\n",
              "      <th>which_hoop</th>\n",
              "      <th>off_x</th>\n",
              "      <th>off_y</th>\n",
              "      <th>hoop_x</th>\n",
              "      <th>hoop_y</th>\n",
              "    </tr>\n",
              "  </thead>\n",
              "  <tbody>\n",
              "    <tr>\n",
              "      <th>0</th>\n",
              "      <td>2-2</td>\n",
              "      <td>72.807686</td>\n",
              "      <td>37.409669</td>\n",
              "      <td>d1</td>\n",
              "      <td>0</td>\n",
              "      <td>0</td>\n",
              "      <td>1.0</td>\n",
              "      <td>69.994331</td>\n",
              "      <td>39.674616</td>\n",
              "      <td>90</td>\n",
              "      <td>4</td>\n",
              "    </tr>\n",
              "    <tr>\n",
              "      <th>1</th>\n",
              "      <td>2-2</td>\n",
              "      <td>79.080643</td>\n",
              "      <td>31.477796</td>\n",
              "      <td>d2</td>\n",
              "      <td>0</td>\n",
              "      <td>0</td>\n",
              "      <td>1.0</td>\n",
              "      <td>82.692421</td>\n",
              "      <td>32.736070</td>\n",
              "      <td>90</td>\n",
              "      <td>4</td>\n",
              "    </tr>\n",
              "    <tr>\n",
              "      <th>2</th>\n",
              "      <td>2-2</td>\n",
              "      <td>69.956321</td>\n",
              "      <td>24.467300</td>\n",
              "      <td>d3</td>\n",
              "      <td>0</td>\n",
              "      <td>0</td>\n",
              "      <td>1.0</td>\n",
              "      <td>58.550842</td>\n",
              "      <td>12.962986</td>\n",
              "      <td>90</td>\n",
              "      <td>4</td>\n",
              "    </tr>\n",
              "    <tr>\n",
              "      <th>3</th>\n",
              "      <td>2-2</td>\n",
              "      <td>75.468933</td>\n",
              "      <td>13.861763</td>\n",
              "      <td>d4</td>\n",
              "      <td>0</td>\n",
              "      <td>0</td>\n",
              "      <td>1.0</td>\n",
              "      <td>71.667114</td>\n",
              "      <td>12.603488</td>\n",
              "      <td>90</td>\n",
              "      <td>4</td>\n",
              "    </tr>\n",
              "    <tr>\n",
              "      <th>4</th>\n",
              "      <td>2-2</td>\n",
              "      <td>84.973496</td>\n",
              "      <td>19.254422</td>\n",
              "      <td>d5</td>\n",
              "      <td>0</td>\n",
              "      <td>0</td>\n",
              "      <td>1.0</td>\n",
              "      <td>81.741959</td>\n",
              "      <td>17.097372</td>\n",
              "      <td>90</td>\n",
              "      <td>4</td>\n",
              "    </tr>\n",
              "    <tr>\n",
              "      <th>...</th>\n",
              "      <td>...</td>\n",
              "      <td>...</td>\n",
              "      <td>...</td>\n",
              "      <td>...</td>\n",
              "      <td>...</td>\n",
              "      <td>...</td>\n",
              "      <td>...</td>\n",
              "      <td>...</td>\n",
              "      <td>...</td>\n",
              "      <td>...</td>\n",
              "      <td>...</td>\n",
              "    </tr>\n",
              "    <tr>\n",
              "      <th>308040</th>\n",
              "      <td>5020-52</td>\n",
              "      <td>73.893471</td>\n",
              "      <td>11.121111</td>\n",
              "      <td>d1</td>\n",
              "      <td>0</td>\n",
              "      <td>0</td>\n",
              "      <td>1.0</td>\n",
              "      <td>70.669644</td>\n",
              "      <td>7.270347</td>\n",
              "      <td>90</td>\n",
              "      <td>4</td>\n",
              "    </tr>\n",
              "    <tr>\n",
              "      <th>308041</th>\n",
              "      <td>5020-52</td>\n",
              "      <td>82.631800</td>\n",
              "      <td>7.270347</td>\n",
              "      <td>d2</td>\n",
              "      <td>0</td>\n",
              "      <td>0</td>\n",
              "      <td>1.0</td>\n",
              "      <td>86.958520</td>\n",
              "      <td>4.382292</td>\n",
              "      <td>90</td>\n",
              "      <td>4</td>\n",
              "    </tr>\n",
              "    <tr>\n",
              "      <th>308042</th>\n",
              "      <td>5020-52</td>\n",
              "      <td>68.633583</td>\n",
              "      <td>23.555972</td>\n",
              "      <td>d3</td>\n",
              "      <td>0</td>\n",
              "      <td>0</td>\n",
              "      <td>1.0</td>\n",
              "      <td>58.962087</td>\n",
              "      <td>26.764930</td>\n",
              "      <td>90</td>\n",
              "      <td>4</td>\n",
              "    </tr>\n",
              "    <tr>\n",
              "      <th>308043</th>\n",
              "      <td>5020-52</td>\n",
              "      <td>81.613738</td>\n",
              "      <td>21.389860</td>\n",
              "      <td>d4</td>\n",
              "      <td>0</td>\n",
              "      <td>0</td>\n",
              "      <td>1.0</td>\n",
              "      <td>76.777949</td>\n",
              "      <td>20.427222</td>\n",
              "      <td>90</td>\n",
              "      <td>4</td>\n",
              "    </tr>\n",
              "    <tr>\n",
              "      <th>308044</th>\n",
              "      <td>5020-52</td>\n",
              "      <td>86.619164</td>\n",
              "      <td>34.626946</td>\n",
              "      <td>d5</td>\n",
              "      <td>0</td>\n",
              "      <td>0</td>\n",
              "      <td>1.0</td>\n",
              "      <td>81.019852</td>\n",
              "      <td>44.975904</td>\n",
              "      <td>90</td>\n",
              "      <td>4</td>\n",
              "    </tr>\n",
              "  </tbody>\n",
              "</table>\n",
              "<p>154025 rows × 11 columns</p>\n",
              "</div>"
            ],
            "text/plain": [
              "             id    court_x    court_y annotation_code  offense  shooter  \\\n",
              "0           2-2  72.807686  37.409669              d1        0        0   \n",
              "1           2-2  79.080643  31.477796              d2        0        0   \n",
              "2           2-2  69.956321  24.467300              d3        0        0   \n",
              "3           2-2  75.468933  13.861763              d4        0        0   \n",
              "4           2-2  84.973496  19.254422              d5        0        0   \n",
              "...         ...        ...        ...             ...      ...      ...   \n",
              "308040  5020-52  73.893471  11.121111              d1        0        0   \n",
              "308041  5020-52  82.631800   7.270347              d2        0        0   \n",
              "308042  5020-52  68.633583  23.555972              d3        0        0   \n",
              "308043  5020-52  81.613738  21.389860              d4        0        0   \n",
              "308044  5020-52  86.619164  34.626946              d5        0        0   \n",
              "\n",
              "        which_hoop      off_x      off_y  hoop_x  hoop_y  \n",
              "0              1.0  69.994331  39.674616      90       4  \n",
              "1              1.0  82.692421  32.736070      90       4  \n",
              "2              1.0  58.550842  12.962986      90       4  \n",
              "3              1.0  71.667114  12.603488      90       4  \n",
              "4              1.0  81.741959  17.097372      90       4  \n",
              "...            ...        ...        ...     ...     ...  \n",
              "308040         1.0  70.669644   7.270347      90       4  \n",
              "308041         1.0  86.958520   4.382292      90       4  \n",
              "308042         1.0  58.962087  26.764930      90       4  \n",
              "308043         1.0  76.777949  20.427222      90       4  \n",
              "308044         1.0  81.019852  44.975904      90       4  \n",
              "\n",
              "[154025 rows x 11 columns]"
            ]
          },
          "execution_count": 235,
          "metadata": {},
          "output_type": "execute_result"
        }
      ],
      "source": [
        "def_training_data"
      ]
    },
    {
      "cell_type": "code",
      "execution_count": 241,
      "metadata": {},
      "outputs": [],
      "source": [
        "import numpy as np\n",
        "import pandas as pd\n",
        "import networkx as nx\n",
        "\n",
        "def calculate_distance(point1, point2):\n",
        "    return np.linalg.norm(point1 - point2)\n",
        "\n",
        "def construct_subgraph(defenders, distances):\n",
        "    graph = nx.Graph()\n",
        "    for _, defender_row in defenders.iterrows():\n",
        "        defender = np.array([defender_row['court_x'], defender_row['court_y']])\n",
        "        offensive_player = np.array([defender_row['off_x'], defender_row['off_y']])\n",
        "        hoop = np.array([defender_row['hoop_x'], defender_row['hoop_y']])\n",
        "        graph.add_edge(tuple(defender), tuple(offensive_player), weight=1.0 / distances[(tuple(defender), tuple(offensive_player))])\n",
        "        graph.add_edge(tuple(offensive_player), tuple(hoop), weight=1.0 / distances[(tuple(offensive_player), tuple(hoop))])\n",
        "        graph.add_edge(tuple(defender), tuple(hoop), weight=1.0 / distances[(tuple(defender), tuple(hoop))])\n",
        "    return graph\n",
        "\n",
        "# Example usage:\n",
        "defenders = def_training_data.copy()\n",
        "\n",
        "distances = {}\n",
        "for _, defender_row in defenders.iterrows():\n",
        "    \n",
        "    defender = np.array([defender_row['court_x'], defender_row['court_y']])\n",
        "    offensive_player = np.array([defender_row['off_x'], defender_row['off_y']])\n",
        "    hoop = np.array([defender_row['hoop_x'], defender_row['hoop_y']])\n",
        "    distances[(tuple(defender), tuple(offensive_player))] = calculate_distance(defender, offensive_player)\n",
        "    distances[(tuple(offensive_player), tuple(hoop))] = calculate_distance(offensive_player, tuple(hoop))\n",
        "    distances[(tuple(defender), tuple(hoop))] = calculate_distance(defender, tuple(hoop))\n",
        "\n",
        "subgraph = construct_subgraph(defenders, distances)\n",
        "\n",
        "# Now you have a subgraph containing edges only between the defender and the offensive player they are assigned to box out, as well as edges between each player and the hoop.\n"
      ]
    },
    {
      "cell_type": "code",
      "execution_count": 245,
      "metadata": {},
      "outputs": [
        {
          "data": {
            "text/plain": [
              "289593"
            ]
          },
          "execution_count": 245,
          "metadata": {},
          "output_type": "execute_result"
        }
      ],
      "source": [
        "len(subgraph)"
      ]
    },
    {
      "cell_type": "code",
      "execution_count": null,
      "metadata": {},
      "outputs": [],
      "source": [
        "import matplotlib.pyplot as plt\n",
        "\n",
        "# Draw the graph\n",
        "pos = nx.spring_layout(subgraph)  # You can choose other layout algorithms as well\n",
        "\n",
        "plt.figure(figsize=(10, 10))\n",
        "nx.draw(subgraph, pos, with_labels=True, node_size=500, font_size=10, font_color='black', node_color='lightblue', edge_color='gray', width=1.0)\n",
        "\n",
        "# You can add edge weights if you want to display them on the graph\n",
        "edge_labels = nx.get_edge_attributes(subgraph, 'weight')\n",
        "nx.draw_networkx_edge_labels(subgraph, pos, edge_labels=edge_labels, font_color='red')\n",
        "\n",
        "plt.show()\n"
      ]
    },
    {
      "cell_type": "code",
      "execution_count": 250,
      "metadata": {},
      "outputs": [
        {
          "name": "stderr",
          "output_type": "stream",
          "text": [
            "c:\\Python310\\lib\\site-packages\\torch_geometric\\datasets\\qm9.py:20: UserWarning:\n",
            "\n",
            "Failed to initialize NumPy: module compiled against API version 0x10 but this version of numpy is 0xf . Check the section C-API incompatibility at the Troubleshooting ImportError section at https://numpy.org/devdocs/user/troubleshooting-importerror.html#c-api-incompatibility for indications on how to solve this problem . (Triggered internally at ..\\torch\\csrc\\utils\\tensor_numpy.cpp:84.)\n",
            "\n"
          ]
        }
      ],
      "source": [
        "import torch\n",
        "import torch.nn as nn\n",
        "import torch.optim as optim\n",
        "from torch_geometric.data import Data, DataLoader"
      ]
    },
    {
      "cell_type": "code",
      "execution_count": 251,
      "metadata": {},
      "outputs": [
        {
          "name": "stderr",
          "output_type": "stream",
          "text": [
            "c:\\Python310\\lib\\site-packages\\torch_geometric\\deprecation.py:22: UserWarning:\n",
            "\n",
            "'data.DataLoader' is deprecated, use 'loader.DataLoader' instead\n",
            "\n"
          ]
        }
      ],
      "source": [
        "# Create a new DataFrame to aggregate features for each unique offensive player\n",
        "X_data = def_training_data.groupby('id').agg({\n",
        "    'court_x': list,    # List of defender's x-coordinates\n",
        "    'court_y': list,    # List of defender's y-coordinates\n",
        "    'off_x': list,    # List of offensive player's x-coordinates\n",
        "    'off_y': list,    # List of offensive player's y-coordinates\n",
        "    'hoop_x': 'first',  # Hoop x-coordinate (assuming it's the same for each offensive player)\n",
        "    'hoop_y': 'first',  # Hoop y-coordinate (assuming it's the same for each offensive player)\n",
        "}).reset_index()\n",
        "\n",
        "# Convert 'def_x' and 'def_y' lists to arrays\n",
        "X_data['court_x'] = X_data['court_x'].apply(np.array)\n",
        "X_data['court_y'] = X_data['court_y'].apply(np.array)\n",
        "# Convert 'off_x' and 'off_y' lists to arrays\n",
        "X_data['off_x'] = X_data['off_x'].apply(np.array)\n",
        "X_data['off_y'] = X_data['off_y'].apply(np.array)\n",
        "\n",
        "# Convert DataFrame columns to PyTorch tensors\n",
        "X_def = torch.tensor(X_data[['court_x', 'court_y']].values, dtype=torch.float)\n",
        "X_off = torch.tensor(X_data[['off_x', 'off_y']].values, dtype=torch.float)\n",
        "X_hoop = torch.tensor(X_data[['hoop_x', 'hoop_y']].values, dtype=torch.float)\n",
        "y = torch.tensor(train_pbp['is_oreb'].values, dtype=torch.float)\n",
        "\n",
        "# Create a PyG Data object for each unique offensive player\n",
        "data_list = []\n",
        "for i in range(len(X_data)):\n",
        "    data = Data(x_def=X_def[i], x_off=X_off[i], x_hoop=X_hoop[i], y=y[i])\n",
        "    data_list.append(data)\n",
        "\n",
        "# Create DataLoader object for batch processing\n",
        "batch_size = 1\n",
        "train_loader = DataLoader(data_list, batch_size=batch_size, shuffle=True)"
      ]
    },
    {
      "cell_type": "code",
      "execution_count": 255,
      "metadata": {},
      "outputs": [
        {
          "data": {
            "text/html": [
              "<div>\n",
              "<style scoped>\n",
              "    .dataframe tbody tr th:only-of-type {\n",
              "        vertical-align: middle;\n",
              "    }\n",
              "\n",
              "    .dataframe tbody tr th {\n",
              "        vertical-align: top;\n",
              "    }\n",
              "\n",
              "    .dataframe thead th {\n",
              "        text-align: right;\n",
              "    }\n",
              "</style>\n",
              "<table border=\"1\" class=\"dataframe\">\n",
              "  <thead>\n",
              "    <tr style=\"text-align: right;\">\n",
              "      <th></th>\n",
              "      <th>id</th>\n",
              "      <th>court_x</th>\n",
              "      <th>court_y</th>\n",
              "      <th>off_x</th>\n",
              "      <th>off_y</th>\n",
              "      <th>hoop_x</th>\n",
              "      <th>hoop_y</th>\n",
              "    </tr>\n",
              "  </thead>\n",
              "  <tbody>\n",
              "    <tr>\n",
              "      <th>0</th>\n",
              "      <td>10-10</td>\n",
              "      <td>[16.7570171722999, 20.1722201934228, 13.667048...</td>\n",
              "      <td>[22.5356046970074, 25.3037507717426, 22.228053...</td>\n",
              "      <td>[18.5459098082322, 28.3037014374366, 27.490581...</td>\n",
              "      <td>[21.1515298256507, 32.0703799907978, 13.615926...</td>\n",
              "      <td>0</td>\n",
              "      <td>4</td>\n",
              "    </tr>\n",
              "    <tr>\n",
              "      <th>1</th>\n",
              "      <td>10-12</td>\n",
              "      <td>[7.22907545016362, 7.03859710693359, 9.3242674...</td>\n",
              "      <td>[27.8739415682279, 24.4516336000883, 15.625814...</td>\n",
              "      <td>[7.99091814114497, 18.8481216430664, 7.2290754...</td>\n",
              "      <td>[26.072725882897, 15.2655711540809, 4.27829302...</td>\n",
              "      <td>0</td>\n",
              "      <td>4</td>\n",
              "    </tr>\n",
              "    <tr>\n",
              "      <th>2</th>\n",
              "      <td>10-13</td>\n",
              "      <td>[26.0280722838182, 8.84929081109854, 14.908529...</td>\n",
              "      <td>[18.4184441199669, 11.836955180535, 19.5798745...</td>\n",
              "      <td>[25.880695269658, 6.06533525540279, 21.6228256...</td>\n",
              "      <td>[12.4563941588769, 3.31976986848391, 28.406847...</td>\n",
              "      <td>0</td>\n",
              "      <td>4</td>\n",
              "    </tr>\n",
              "    <tr>\n",
              "      <th>3</th>\n",
              "      <td>10-3</td>\n",
              "      <td>[77.5726623535156, 81.4388885498047, 73.464607...</td>\n",
              "      <td>[6.72234434347886, 18.1476501318125, 20.432672...</td>\n",
              "      <td>[76.7274994483361, 82.0443741725041, 64.279844...</td>\n",
              "      <td>[4.43749977992131, 15.2916669845581, 26.486110...</td>\n",
              "      <td>90</td>\n",
              "      <td>4</td>\n",
              "    </tr>\n",
              "    <tr>\n",
              "      <th>4</th>\n",
              "      <td>10-6</td>\n",
              "      <td>[72.944519336407, 59.988685461191, 81.95725264...</td>\n",
              "      <td>[19.8130295826839, 22.2100147834191, 16.483833...</td>\n",
              "      <td>[68.5789338625394, 65.6216429196871, 85.618659...</td>\n",
              "      <td>[6.09686970710754, 19.4135207396287, 3.6998155...</td>\n",
              "      <td>90</td>\n",
              "      <td>4</td>\n",
              "    </tr>\n",
              "    <tr>\n",
              "      <th>...</th>\n",
              "      <td>...</td>\n",
              "      <td>...</td>\n",
              "      <td>...</td>\n",
              "      <td>...</td>\n",
              "      <td>...</td>\n",
              "      <td>...</td>\n",
              "      <td>...</td>\n",
              "    </tr>\n",
              "    <tr>\n",
              "      <th>30800</th>\n",
              "      <td>998-6</td>\n",
              "      <td>[87.2384416140043, 74.3104322873629, 88.084121...</td>\n",
              "      <td>[29.2301434736985, 29.9157032599816, 19.632908...</td>\n",
              "      <td>[87.1175306760348, 66.0944671630859, 87.600898...</td>\n",
              "      <td>[31.8579783806434, 35.057100882897, 15.5198152...</td>\n",
              "      <td>90</td>\n",
              "      <td>4</td>\n",
              "    </tr>\n",
              "    <tr>\n",
              "      <th>30801</th>\n",
              "      <td>999-1</td>\n",
              "      <td>[19.3360787171584, 23.8065148133498, 8.2204103...</td>\n",
              "      <td>[34.7143540015587, 25.1170525184044, 33.000557...</td>\n",
              "      <td>[21.6317177552443, 31.6600264035738, 4.1124281...</td>\n",
              "      <td>[40.1984985058124, 25.6883401137132, 45.796849...</td>\n",
              "      <td>0</td>\n",
              "      <td>4</td>\n",
              "    </tr>\n",
              "    <tr>\n",
              "      <th>30802</th>\n",
              "      <td>999-3</td>\n",
              "      <td>[12.2751064667335, 6.34431169583247, 17.065397...</td>\n",
              "      <td>[24.2911778963529, 30.7623973259559, 32.703722...</td>\n",
              "      <td>[10.4502134506519, 8.16913316800044, 28.014684...</td>\n",
              "      <td>[16.9571931545551, 25.3697376984816, 35.292221...</td>\n",
              "      <td>0</td>\n",
              "      <td>4</td>\n",
              "    </tr>\n",
              "    <tr>\n",
              "      <th>30803</th>\n",
              "      <td>999-4</td>\n",
              "      <td>[7.41639896539541, 8.55697444769052, 22.243457...</td>\n",
              "      <td>[26.2110049907978, 20.1712369918823, 26.858113...</td>\n",
              "      <td>[9.69747924804688, 9.92560865328862, 30.455406...</td>\n",
              "      <td>[27.9366053067721, 12.6215274517353, 17.367010...</td>\n",
              "      <td>0</td>\n",
              "      <td>4</td>\n",
              "    </tr>\n",
              "    <tr>\n",
              "      <th>30804</th>\n",
              "      <td>999-5</td>\n",
              "      <td>[87.4534457280086, 87.2449719355657, 73.902794...</td>\n",
              "      <td>[39.8901352515587, 36.3416194915771, 35.355971...</td>\n",
              "      <td>[89.9551312373235, 84.4310929225041, 70.668905...</td>\n",
              "      <td>[45.8041704618014, 25.0069453166081, 39.104168...</td>\n",
              "      <td>90</td>\n",
              "      <td>4</td>\n",
              "    </tr>\n",
              "  </tbody>\n",
              "</table>\n",
              "<p>30805 rows × 7 columns</p>\n",
              "</div>"
            ],
            "text/plain": [
              "          id                                            court_x  \\\n",
              "0      10-10  [16.7570171722999, 20.1722201934228, 13.667048...   \n",
              "1      10-12  [7.22907545016362, 7.03859710693359, 9.3242674...   \n",
              "2      10-13  [26.0280722838182, 8.84929081109854, 14.908529...   \n",
              "3       10-3  [77.5726623535156, 81.4388885498047, 73.464607...   \n",
              "4       10-6  [72.944519336407, 59.988685461191, 81.95725264...   \n",
              "...      ...                                                ...   \n",
              "30800  998-6  [87.2384416140043, 74.3104322873629, 88.084121...   \n",
              "30801  999-1  [19.3360787171584, 23.8065148133498, 8.2204103...   \n",
              "30802  999-3  [12.2751064667335, 6.34431169583247, 17.065397...   \n",
              "30803  999-4  [7.41639896539541, 8.55697444769052, 22.243457...   \n",
              "30804  999-5  [87.4534457280086, 87.2449719355657, 73.902794...   \n",
              "\n",
              "                                                 court_y  \\\n",
              "0      [22.5356046970074, 25.3037507717426, 22.228053...   \n",
              "1      [27.8739415682279, 24.4516336000883, 15.625814...   \n",
              "2      [18.4184441199669, 11.836955180535, 19.5798745...   \n",
              "3      [6.72234434347886, 18.1476501318125, 20.432672...   \n",
              "4      [19.8130295826839, 22.2100147834191, 16.483833...   \n",
              "...                                                  ...   \n",
              "30800  [29.2301434736985, 29.9157032599816, 19.632908...   \n",
              "30801  [34.7143540015587, 25.1170525184044, 33.000557...   \n",
              "30802  [24.2911778963529, 30.7623973259559, 32.703722...   \n",
              "30803  [26.2110049907978, 20.1712369918823, 26.858113...   \n",
              "30804  [39.8901352515587, 36.3416194915771, 35.355971...   \n",
              "\n",
              "                                                   off_x  \\\n",
              "0      [18.5459098082322, 28.3037014374366, 27.490581...   \n",
              "1      [7.99091814114497, 18.8481216430664, 7.2290754...   \n",
              "2      [25.880695269658, 6.06533525540279, 21.6228256...   \n",
              "3      [76.7274994483361, 82.0443741725041, 64.279844...   \n",
              "4      [68.5789338625394, 65.6216429196871, 85.618659...   \n",
              "...                                                  ...   \n",
              "30800  [87.1175306760348, 66.0944671630859, 87.600898...   \n",
              "30801  [21.6317177552443, 31.6600264035738, 4.1124281...   \n",
              "30802  [10.4502134506519, 8.16913316800044, 28.014684...   \n",
              "30803  [9.69747924804688, 9.92560865328862, 30.455406...   \n",
              "30804  [89.9551312373235, 84.4310929225041, 70.668905...   \n",
              "\n",
              "                                                   off_y  hoop_x  hoop_y  \n",
              "0      [21.1515298256507, 32.0703799907978, 13.615926...       0       4  \n",
              "1      [26.072725882897, 15.2655711540809, 4.27829302...       0       4  \n",
              "2      [12.4563941588769, 3.31976986848391, 28.406847...       0       4  \n",
              "3      [4.43749977992131, 15.2916669845581, 26.486110...      90       4  \n",
              "4      [6.09686970710754, 19.4135207396287, 3.6998155...      90       4  \n",
              "...                                                  ...     ...     ...  \n",
              "30800  [31.8579783806434, 35.057100882897, 15.5198152...      90       4  \n",
              "30801  [40.1984985058124, 25.6883401137132, 45.796849...       0       4  \n",
              "30802  [16.9571931545551, 25.3697376984816, 35.292221...       0       4  \n",
              "30803  [27.9366053067721, 12.6215274517353, 17.367010...       0       4  \n",
              "30804  [45.8041704618014, 25.0069453166081, 39.104168...      90       4  \n",
              "\n",
              "[30805 rows x 7 columns]"
            ]
          },
          "execution_count": 255,
          "metadata": {},
          "output_type": "execute_result"
        }
      ],
      "source": [
        "X_data"
      ]
    },
    {
      "cell_type": "code",
      "execution_count": 256,
      "metadata": {},
      "outputs": [
        {
          "ename": "ValueError",
          "evalue": "Target size (torch.Size([])) must be the same as input size (torch.Size([2, 16]))",
          "output_type": "error",
          "traceback": [
            "\u001b[1;31m---------------------------------------------------------------------------\u001b[0m",
            "\u001b[1;31mValueError\u001b[0m                                Traceback (most recent call last)",
            "Cell \u001b[1;32mIn[256], line 58\u001b[0m\n\u001b[0;32m     56\u001b[0m \u001b[39m# Aggregate the target variable for the five rows using 'max'\u001b[39;00m\n\u001b[0;32m     57\u001b[0m target \u001b[39m=\u001b[39m data\u001b[39m.\u001b[39my\u001b[39m.\u001b[39mview(\u001b[39m-\u001b[39m\u001b[39m1\u001b[39m, \u001b[39m1\u001b[39m)\u001b[39m.\u001b[39mmax(dim\u001b[39m=\u001b[39m\u001b[39m0\u001b[39m)\u001b[39m.\u001b[39mvalues\u001b[39m.\u001b[39msqueeze()\n\u001b[1;32m---> 58\u001b[0m loss \u001b[39m=\u001b[39m criterion(output, target)\n\u001b[0;32m     59\u001b[0m loss\u001b[39m.\u001b[39mbackward()\n\u001b[0;32m     60\u001b[0m optimizer\u001b[39m.\u001b[39mstep()\n",
            "File \u001b[1;32mc:\\Python310\\lib\\site-packages\\torch\\nn\\modules\\module.py:1501\u001b[0m, in \u001b[0;36mModule._call_impl\u001b[1;34m(self, *args, **kwargs)\u001b[0m\n\u001b[0;32m   1496\u001b[0m \u001b[39m# If we don't have any hooks, we want to skip the rest of the logic in\u001b[39;00m\n\u001b[0;32m   1497\u001b[0m \u001b[39m# this function, and just call forward.\u001b[39;00m\n\u001b[0;32m   1498\u001b[0m \u001b[39mif\u001b[39;00m \u001b[39mnot\u001b[39;00m (\u001b[39mself\u001b[39m\u001b[39m.\u001b[39m_backward_hooks \u001b[39mor\u001b[39;00m \u001b[39mself\u001b[39m\u001b[39m.\u001b[39m_backward_pre_hooks \u001b[39mor\u001b[39;00m \u001b[39mself\u001b[39m\u001b[39m.\u001b[39m_forward_hooks \u001b[39mor\u001b[39;00m \u001b[39mself\u001b[39m\u001b[39m.\u001b[39m_forward_pre_hooks\n\u001b[0;32m   1499\u001b[0m         \u001b[39mor\u001b[39;00m _global_backward_pre_hooks \u001b[39mor\u001b[39;00m _global_backward_hooks\n\u001b[0;32m   1500\u001b[0m         \u001b[39mor\u001b[39;00m _global_forward_hooks \u001b[39mor\u001b[39;00m _global_forward_pre_hooks):\n\u001b[1;32m-> 1501\u001b[0m     \u001b[39mreturn\u001b[39;00m forward_call(\u001b[39m*\u001b[39margs, \u001b[39m*\u001b[39m\u001b[39m*\u001b[39mkwargs)\n\u001b[0;32m   1502\u001b[0m \u001b[39m# Do not call functions when jit is used\u001b[39;00m\n\u001b[0;32m   1503\u001b[0m full_backward_hooks, non_full_backward_hooks \u001b[39m=\u001b[39m [], []\n",
            "File \u001b[1;32mc:\\Python310\\lib\\site-packages\\torch\\nn\\modules\\loss.py:720\u001b[0m, in \u001b[0;36mBCEWithLogitsLoss.forward\u001b[1;34m(self, input, target)\u001b[0m\n\u001b[0;32m    719\u001b[0m \u001b[39mdef\u001b[39;00m \u001b[39mforward\u001b[39m(\u001b[39mself\u001b[39m, \u001b[39minput\u001b[39m: Tensor, target: Tensor) \u001b[39m-\u001b[39m\u001b[39m>\u001b[39m Tensor:\n\u001b[1;32m--> 720\u001b[0m     \u001b[39mreturn\u001b[39;00m F\u001b[39m.\u001b[39;49mbinary_cross_entropy_with_logits(\u001b[39minput\u001b[39;49m, target,\n\u001b[0;32m    721\u001b[0m                                               \u001b[39mself\u001b[39;49m\u001b[39m.\u001b[39;49mweight,\n\u001b[0;32m    722\u001b[0m                                               pos_weight\u001b[39m=\u001b[39;49m\u001b[39mself\u001b[39;49m\u001b[39m.\u001b[39;49mpos_weight,\n\u001b[0;32m    723\u001b[0m                                               reduction\u001b[39m=\u001b[39;49m\u001b[39mself\u001b[39;49m\u001b[39m.\u001b[39;49mreduction)\n",
            "File \u001b[1;32mc:\\Python310\\lib\\site-packages\\torch\\nn\\functional.py:3163\u001b[0m, in \u001b[0;36mbinary_cross_entropy_with_logits\u001b[1;34m(input, target, weight, size_average, reduce, reduction, pos_weight)\u001b[0m\n\u001b[0;32m   3160\u001b[0m     reduction_enum \u001b[39m=\u001b[39m _Reduction\u001b[39m.\u001b[39mget_enum(reduction)\n\u001b[0;32m   3162\u001b[0m \u001b[39mif\u001b[39;00m \u001b[39mnot\u001b[39;00m (target\u001b[39m.\u001b[39msize() \u001b[39m==\u001b[39m \u001b[39minput\u001b[39m\u001b[39m.\u001b[39msize()):\n\u001b[1;32m-> 3163\u001b[0m     \u001b[39mraise\u001b[39;00m \u001b[39mValueError\u001b[39;00m(\u001b[39m\"\u001b[39m\u001b[39mTarget size (\u001b[39m\u001b[39m{}\u001b[39;00m\u001b[39m) must be the same as input size (\u001b[39m\u001b[39m{}\u001b[39;00m\u001b[39m)\u001b[39m\u001b[39m\"\u001b[39m\u001b[39m.\u001b[39mformat(target\u001b[39m.\u001b[39msize(), \u001b[39minput\u001b[39m\u001b[39m.\u001b[39msize()))\n\u001b[0;32m   3165\u001b[0m \u001b[39mreturn\u001b[39;00m torch\u001b[39m.\u001b[39mbinary_cross_entropy_with_logits(\u001b[39minput\u001b[39m, target, weight, pos_weight, reduction_enum)\n",
            "\u001b[1;31mValueError\u001b[0m: Target size (torch.Size([])) must be the same as input size (torch.Size([2, 16]))"
          ]
        }
      ],
      "source": [
        "import torch\n",
        "import torch.nn as nn\n",
        "import torch.nn.functional as F\n",
        "from torch_geometric.data import Data, DataLoader\n",
        "\n",
        "# Define your custom Graph Convolutional layer\n",
        "class GraphConvolution(nn.Module):\n",
        "    def __init__(self, in_channels, out_channels):\n",
        "        super(GraphConvolution, self).__init__()\n",
        "        self.weight = nn.Parameter(torch.Tensor(out_channels, in_channels))\n",
        "        self.bias = nn.Parameter(torch.Tensor(out_channels))\n",
        "        nn.init.xavier_uniform_(self.weight)\n",
        "        nn.init.zeros_(self.bias)\n",
        "\n",
        "    def forward(self, x, edge_index):\n",
        "        x = F.linear(x, self.weight, self.bias)\n",
        "        # Perform aggregation or other operations if needed\n",
        "        return x\n",
        "\n",
        "# Define your GNN model\n",
        "class MyGNNModel(nn.Module):\n",
        "    def __init__(self, num_input_features, num_output_channels):\n",
        "        super(MyGNNModel, self).__init__()\n",
        "        # Assuming you have 1 convolutional layer in this example\n",
        "        self.conv1 = GraphConvolution(num_input_features, num_output_channels)\n",
        "\n",
        "    def forward(self, data):\n",
        "        # Extract input features\n",
        "        x_def = data.x_def  # Assuming shape (batch_size, num_input_features)\n",
        "        edge_index = data.edge_index  # Define edge_index based on your graph structure\n",
        "        \n",
        "        # Perform graph convolutions\n",
        "        x_def = self.conv1(x_def, edge_index)\n",
        "        # Perform other operations or aggregations if needed\n",
        "\n",
        "        return x_def\n",
        "\n",
        "# Assuming you have prepared the DataLoader as 'train_loader'\n",
        "# Initialize your GNN model\n",
        "num_input_features = 5  # Change this to the actual number of input features in x_def\n",
        "num_output_channels = 16  # You can adjust this based on your desired output channels\n",
        "model = MyGNNModel(num_input_features, num_output_channels)\n",
        "\n",
        "# Training loop\n",
        "criterion = nn.BCEWithLogitsLoss()  # Binary Cross-Entropy loss for binary classification\n",
        "optimizer = torch.optim.Adam(model.parameters(), lr=0.001)  # Use your preferred optimizer\n",
        "\n",
        "num_epochs = 10  # Adjust the number of epochs as needed\n",
        "model.train()\n",
        "\n",
        "for epoch in range(num_epochs):\n",
        "    total_loss = 0\n",
        "    for data in train_loader:\n",
        "        optimizer.zero_grad()\n",
        "        output = model(data)\n",
        "        loss = criterion(output, data.y.view(-1, 1))\n",
        "        loss.backward()\n",
        "        optimizer.step()\n",
        "        total_loss += loss.item()\n",
        "    \n",
        "    avg_loss = total_loss / len(train_loader)\n",
        "    print(f\"Epoch {epoch + 1}/{num_epochs}, Loss: {avg_loss:.4f}\")\n",
        "\n",
        "# Evaluation (you can use a separate validation DataLoader)\n",
        "model.eval()\n",
        "# Perform evaluation on validation data and calculate metrics\n",
        "# For example, you can use ROC-AUC, accuracy, etc. for evaluation\n"
      ]
    },
    {
      "cell_type": "markdown",
      "metadata": {
        "id": "d_iqoBwvDgX1"
      },
      "source": [
        "#### Creating image like matrices\n",
        "- Representing the player positions on the court\n",
        "- This approach is suitable for preparing the data to be used in a CNN"
      ]
    },
    {
      "cell_type": "code",
      "execution_count": 24,
      "metadata": {
        "id": "NNISVVNdVpsg"
      },
      "outputs": [],
      "source": [
        "def create_court_grid(court_width, court_height):\n",
        "    \"\"\"\n",
        "    Create an empty court grid with higher resolution and multiple channels for each play.\n",
        "\n",
        "    Parameters\n",
        "    ----------\n",
        "    court_width : int\n",
        "        The width of the court grid in the desired higher resolution. For example, the width in inches or centimeters.\n",
        "\n",
        "    court_height : int\n",
        "        The height of the court grid in the desired higher resolution. For example, the height in inches or centimeters.\n",
        "\n",
        "    Returns\n",
        "    -------\n",
        "    numpy.ndarray\n",
        "        A 3D NumPy array representing the court grid with high resolution and three channels.\n",
        "        The dimensions of the array are (court_height, court_width, 3),\n",
        "        where the three channels represent shooter, offense, and defense.\n",
        "\n",
        "    Examples\n",
        "    --------\n",
        "    >>> court_width_inches = 500\n",
        "    >>> court_height_inches = 940\n",
        "    >>> grid = create_court_grid(court_width_inches, court_height_inches)\n",
        "    >>> print(grid.shape)\n",
        "    (940, 500, 3)\n",
        "    \"\"\"\n",
        "    return np.zeros((court_height, court_width, 4))\n",
        "\n",
        "\n",
        "\n",
        "def place_player_positions(court_grid, player_positions, shooter_index, offense_indices, defense_indices, coordinate_multiplier, court_width, court_height):\n",
        "    \"\"\"\n",
        "    Place player positions on the court grid with higher resolution and channels for shooter, offense, and defense.\n",
        "\n",
        "    Parameters\n",
        "    ----------\n",
        "    court_grid : numpy.ndarray\n",
        "        A 3D NumPy array representing the court grid with higher resolution and three channels.\n",
        "        The array has dimensions (court_height_inches, court_width_inches, 3), where the three channels\n",
        "        represent shooter, offense, and defense.\n",
        "\n",
        "    player_positions : numpy.ndarray\n",
        "        A 2D NumPy array containing the X and Y coordinates of the player positions.\n",
        "\n",
        "    shooter_index : int\n",
        "        The index of the shooter in the player_positions array.\n",
        "\n",
        "    offense_indices : list\n",
        "        A list of indices representing the players on offense in the player_positions array.\n",
        "\n",
        "    defense_indices : list\n",
        "        A list of indices representing the players on defense in the player_positions array.\n",
        "\n",
        "    coordinate_multiplier : float\n",
        "        The multiplier to convert the player positions from feet to the desired higher resolution (e.g., inches).\n",
        "\n",
        "    Returns\n",
        "    -------\n",
        "    None\n",
        "        This function modifies the court_grid in place, updating the shooter, offense, and defense channels\n",
        "        based on the player_positions and corresponding indices.\n",
        "    \"\"\"\n",
        "    for i, (x, y) in enumerate(player_positions):\n",
        "        x_dist = x * coordinate_multiplier\n",
        "        y_dist = y * coordinate_multiplier\n",
        "        if 0 <= x_dist < court_width and 0 <= y_dist < court_height:\n",
        "            # finding the index of the shooter\n",
        "            if i == np.argmax(shooter_index):\n",
        "                court_grid[int(y_dist)][int(x_dist)][0] = 1  # Shooter channel\n",
        "            # finding the indices of offensive players and comparing to the index\n",
        "            if i in np.where(offense_indices == 1)[0]:\n",
        "                court_grid[int(y_dist)][int(x_dist)][1] = 1  # Offense channel\n",
        "            if i in np.where(defense_indices == 1)[0]:\n",
        "                court_grid[int(y_dist)][int(x_dist)][2] = 1  # Defense channel\n",
        "    return court_grid"
      ]
    },
    {
      "cell_type": "code",
      "execution_count": 25,
      "metadata": {
        "id": "UkA81-iyVpsh"
      },
      "outputs": [],
      "source": [
        "# Define the dimensions of the court grid with high resolution\n",
        "# Depending on runtime, using lower resolution images may be a better approach here, but let's start with inches\n",
        "\n",
        "coordinate_multiplier = 1\n",
        "court_width = 94 * coordinate_multiplier\n",
        "court_height = 50 * coordinate_multiplier\n",
        "\n",
        "# Derive parameters from the data table\n",
        "player_positions_train = training_data[['court_x', 'court_y']].values\n",
        "shooter_indices_train = training_data['shooter'].values\n",
        "offense_indices_train = training_data['offense'].values\n",
        "defense_indices_train = training_data['offense'].apply(lambda x: 0 if x == 1 else 1).values # Complement of 'offense' column gives 'defense' indices\n",
        "which_hoop_train = training_data['which_hoop'].values"
      ]
    },
    {
      "cell_type": "code",
      "execution_count": 28,
      "metadata": {},
      "outputs": [],
      "source": [
        "# Derive parameters from the data table\n",
        "player_positions_test = testing_data[['court_x', 'court_y']].values\n",
        "shooter_indices_test = testing_data['shooter'].values\n",
        "offense_indices_test = testing_data['offense'].values\n",
        "defense_indices_test = testing_data['offense'].apply(lambda x: 0 if x == 1 else 1).values # Complement of 'offense' column gives 'defense' indices\n",
        "which_hoop_test = testing_data['which_hoop'].values"
      ]
    },
    {
      "cell_type": "code",
      "execution_count": null,
      "metadata": {
        "id": "UDpRGqMtBgzX"
      },
      "outputs": [],
      "source": [
        "# Create image-like training examples with higher resolution and multiple channels\n",
        "X_train_images = []\n",
        "# Reshaping organizes the positions into a list of list of coordinates, so there is one training example per play\n",
        "for index, (player_positions, shooter_index, offense_indices, defense_indices, which_hoop_indices) in enumerate(zip(player_positions_train.reshape(-1, 10, 2), shooter_indices_train.reshape(-1, 10), offense_indices_train.reshape(-1, 10), defense_indices_train.reshape(-1, 10), which_hoop_train.reshape(-1, 10))):\n",
        "    court_grid = create_court_grid(court_width, court_height)\n",
        "    place_player_positions(court_grid, player_positions, shooter_index, offense_indices, defense_indices, coordinate_multiplier, court_width, court_height)\n",
        "    which_hoop = which_hoop_indices[0]\n",
        "    if which_hoop == 0:\n",
        "        court_grid[25][4][3] = 1 # Basketball hoop channel\n",
        "    else:\n",
        "        court_grid[25][90][3] = 1\n",
        "    X_train_images.append(court_grid)"
      ]
    },
    {
      "cell_type": "code",
      "execution_count": 81,
      "metadata": {},
      "outputs": [],
      "source": [
        "# Create image-like training examples with higher resolution and multiple channels\n",
        "X_test_images = []\n",
        "# Reshaping organizes the positions into a list of list of coordinates, so there is one training example per play\n",
        "for index, (player_positions, shooter_index, offense_indices, defense_indices, which_hoop_indices) in enumerate(zip(player_positions_test.reshape(-1, 10, 2), shooter_indices_test.reshape(-1, 10), offense_indices_test.reshape(-1, 10), defense_indices_test.reshape(-1, 10), which_hoop_test.reshape(-1, 10))):\n",
        "    court_grid = create_court_grid(court_width, court_height)\n",
        "    place_player_positions(court_grid, player_positions, shooter_index, offense_indices, defense_indices, coordinate_multiplier, court_width, court_height)\n",
        "    which_hoop = which_hoop_indices[0]\n",
        "    if which_hoop == 0:\n",
        "        court_grid[25][4][3] = 1 # Basketball hoop channel\n",
        "    else:\n",
        "        court_grid[25][90][3] = 1\n",
        "    X_test_images.append(court_grid)"
      ]
    },
    {
      "cell_type": "code",
      "execution_count": 82,
      "metadata": {
        "id": "hok-0OToj6r0"
      },
      "outputs": [],
      "source": [
        "X_train_images = np.array(X_train_images)\n",
        "X_test_images = np.array(X_test_images)"
      ]
    },
    {
      "cell_type": "code",
      "execution_count": 135,
      "metadata": {},
      "outputs": [
        {
          "data": {
            "text/html": [
              "<div>\n",
              "<style scoped>\n",
              "    .dataframe tbody tr th:only-of-type {\n",
              "        vertical-align: middle;\n",
              "    }\n",
              "\n",
              "    .dataframe tbody tr th {\n",
              "        vertical-align: top;\n",
              "    }\n",
              "\n",
              "    .dataframe thead th {\n",
              "        text-align: right;\n",
              "    }\n",
              "</style>\n",
              "<table border=\"1\" class=\"dataframe\">\n",
              "  <thead>\n",
              "    <tr style=\"text-align: right;\">\n",
              "      <th></th>\n",
              "      <th>id</th>\n",
              "      <th>court_x</th>\n",
              "      <th>court_y</th>\n",
              "      <th>annotation_code</th>\n",
              "      <th>offense</th>\n",
              "      <th>shooter</th>\n",
              "      <th>which_hoop</th>\n",
              "    </tr>\n",
              "  </thead>\n",
              "  <tbody>\n",
              "    <tr>\n",
              "      <th>0</th>\n",
              "      <td>2-2</td>\n",
              "      <td>72.807686</td>\n",
              "      <td>37.409669</td>\n",
              "      <td>d1</td>\n",
              "      <td>0</td>\n",
              "      <td>0</td>\n",
              "      <td>1.0</td>\n",
              "    </tr>\n",
              "    <tr>\n",
              "      <th>1</th>\n",
              "      <td>2-2</td>\n",
              "      <td>79.080643</td>\n",
              "      <td>31.477796</td>\n",
              "      <td>d2</td>\n",
              "      <td>0</td>\n",
              "      <td>0</td>\n",
              "      <td>1.0</td>\n",
              "    </tr>\n",
              "    <tr>\n",
              "      <th>2</th>\n",
              "      <td>2-2</td>\n",
              "      <td>69.956321</td>\n",
              "      <td>24.467300</td>\n",
              "      <td>d3</td>\n",
              "      <td>0</td>\n",
              "      <td>0</td>\n",
              "      <td>1.0</td>\n",
              "    </tr>\n",
              "    <tr>\n",
              "      <th>3</th>\n",
              "      <td>2-2</td>\n",
              "      <td>75.468933</td>\n",
              "      <td>13.861763</td>\n",
              "      <td>d4</td>\n",
              "      <td>0</td>\n",
              "      <td>0</td>\n",
              "      <td>1.0</td>\n",
              "    </tr>\n",
              "    <tr>\n",
              "      <th>4</th>\n",
              "      <td>2-2</td>\n",
              "      <td>84.973496</td>\n",
              "      <td>19.254422</td>\n",
              "      <td>d5</td>\n",
              "      <td>0</td>\n",
              "      <td>0</td>\n",
              "      <td>1.0</td>\n",
              "    </tr>\n",
              "    <tr>\n",
              "      <th>...</th>\n",
              "      <td>...</td>\n",
              "      <td>...</td>\n",
              "      <td>...</td>\n",
              "      <td>...</td>\n",
              "      <td>...</td>\n",
              "      <td>...</td>\n",
              "      <td>...</td>\n",
              "    </tr>\n",
              "    <tr>\n",
              "      <th>308045</th>\n",
              "      <td>5020-52</td>\n",
              "      <td>70.669644</td>\n",
              "      <td>7.270347</td>\n",
              "      <td>s</td>\n",
              "      <td>1</td>\n",
              "      <td>1</td>\n",
              "      <td>1.0</td>\n",
              "    </tr>\n",
              "    <tr>\n",
              "      <th>308046</th>\n",
              "      <td>5020-52</td>\n",
              "      <td>86.958520</td>\n",
              "      <td>4.382292</td>\n",
              "      <td>t1</td>\n",
              "      <td>1</td>\n",
              "      <td>0</td>\n",
              "      <td>1.0</td>\n",
              "    </tr>\n",
              "    <tr>\n",
              "      <th>308047</th>\n",
              "      <td>5020-52</td>\n",
              "      <td>58.962087</td>\n",
              "      <td>26.764930</td>\n",
              "      <td>t2</td>\n",
              "      <td>1</td>\n",
              "      <td>0</td>\n",
              "      <td>1.0</td>\n",
              "    </tr>\n",
              "    <tr>\n",
              "      <th>308048</th>\n",
              "      <td>5020-52</td>\n",
              "      <td>76.777949</td>\n",
              "      <td>20.427222</td>\n",
              "      <td>t3</td>\n",
              "      <td>1</td>\n",
              "      <td>0</td>\n",
              "      <td>1.0</td>\n",
              "    </tr>\n",
              "    <tr>\n",
              "      <th>308049</th>\n",
              "      <td>5020-52</td>\n",
              "      <td>81.019852</td>\n",
              "      <td>44.975904</td>\n",
              "      <td>t4</td>\n",
              "      <td>1</td>\n",
              "      <td>0</td>\n",
              "      <td>1.0</td>\n",
              "    </tr>\n",
              "  </tbody>\n",
              "</table>\n",
              "<p>308050 rows × 7 columns</p>\n",
              "</div>"
            ],
            "text/plain": [
              "             id    court_x    court_y annotation_code  offense  shooter  \\\n",
              "0           2-2  72.807686  37.409669              d1        0        0   \n",
              "1           2-2  79.080643  31.477796              d2        0        0   \n",
              "2           2-2  69.956321  24.467300              d3        0        0   \n",
              "3           2-2  75.468933  13.861763              d4        0        0   \n",
              "4           2-2  84.973496  19.254422              d5        0        0   \n",
              "...         ...        ...        ...             ...      ...      ...   \n",
              "308045  5020-52  70.669644   7.270347               s        1        1   \n",
              "308046  5020-52  86.958520   4.382292              t1        1        0   \n",
              "308047  5020-52  58.962087  26.764930              t2        1        0   \n",
              "308048  5020-52  76.777949  20.427222              t3        1        0   \n",
              "308049  5020-52  81.019852  44.975904              t4        1        0   \n",
              "\n",
              "        which_hoop  \n",
              "0              1.0  \n",
              "1              1.0  \n",
              "2              1.0  \n",
              "3              1.0  \n",
              "4              1.0  \n",
              "...            ...  \n",
              "308045         1.0  \n",
              "308046         1.0  \n",
              "308047         1.0  \n",
              "308048         1.0  \n",
              "308049         1.0  \n",
              "\n",
              "[308050 rows x 7 columns]"
            ]
          },
          "execution_count": 135,
          "metadata": {},
          "output_type": "execute_result"
        }
      ],
      "source": [
        "training_data"
      ]
    },
    {
      "cell_type": "code",
      "execution_count": 138,
      "metadata": {},
      "outputs": [
        {
          "data": {
            "text/plain": [
              "Int64Index([    3,     8,    12,    14,    18,    21,    26,    28,    33,\n",
              "               40,\n",
              "            ...\n",
              "            30781, 30783, 30786, 30789, 30794, 30795, 30797, 30801, 30802,\n",
              "            30803],\n",
              "           dtype='int64', length=8685)"
            ]
          },
          "execution_count": 138,
          "metadata": {},
          "output_type": "execute_result"
        }
      ],
      "source": [
        "y_train[y_train == 1].index"
      ]
    },
    {
      "cell_type": "code",
      "execution_count": 139,
      "metadata": {
        "colab": {
          "base_uri": "https://localhost:8080/",
          "height": 1000
        },
        "id": "guTqLOsVaPgX",
        "outputId": "1e14c3cb-0d21-433c-813d-fa3d5df722fe"
      },
      "outputs": [
        {
          "data": {
            "image/png": "[encoded data removed]",
            "text/plain": [
              "<Figure size 640x480 with 1 Axes>"
            ]
          },
          "metadata": {},
          "output_type": "display_data"
        },
        {
          "data": {
            "image/png": "[encoded data removed]",
            "text/plain": [
              "<Figure size 640x480 with 1 Axes>"
            ]
          },
          "metadata": {},
          "output_type": "display_data"
        },
        {
          "data": {
            "image/png": "[encoded data removed]",
            "text/plain": [
              "<Figure size 640x480 with 1 Axes>"
            ]
          },
          "metadata": {},
          "output_type": "display_data"
        },
        {
          "data": {
            "image/png": "[encoded data removed]",
            "text/plain": [
              "<Figure size 640x480 with 1 Axes>"
            ]
          },
          "metadata": {},
          "output_type": "display_data"
        },
        {
          "data": {
            "image/png": "[encoded data removed]",
            "text/plain": [
              "<Figure size 640x480 with 1 Axes>"
            ]
          },
          "metadata": {},
          "output_type": "display_data"
        },
        {
          "data": {
            "image/png": "[encoded data removed]",
            "text/plain": [
              "<Figure size 640x480 with 1 Axes>"
            ]
          },
          "metadata": {},
          "output_type": "display_data"
        },
        {
          "data": {
            "image/png": "[encoded data removed]",
            "text/plain": [
              "<Figure size 640x480 with 1 Axes>"
            ]
          },
          "metadata": {},
          "output_type": "display_data"
        },
        {
          "data": {
            "image/png": "[encoded data removed]",
            "text/plain": [
              "<Figure size 640x480 with 1 Axes>"
            ]
          },
          "metadata": {},
          "output_type": "display_data"
        },
        {
          "data": {
            "image/png": "[encoded data removed]",
            "text/plain": [
              "<Figure size 640x480 with 1 Axes>"
            ]
          },
          "metadata": {},
          "output_type": "display_data"
        },
        {
          "data": {
            "image/png": "[encoded data removed]",
            "text/plain": [
              "<Figure size 640x480 with 1 Axes>"
            ]
          },
          "metadata": {},
          "output_type": "display_data"
        },
        {
          "data": {
            "image/png": "[encoded data removed]",
            "text/plain": [
              "<Figure size 640x480 with 1 Axes>"
            ]
          },
          "metadata": {},
          "output_type": "display_data"
        },
        {
          "data": {
            "image/png": "[encoded data removed]",
            "text/plain": [
              "<Figure size 640x480 with 1 Axes>"
            ]
          },
          "metadata": {},
          "output_type": "display_data"
        },
        {
          "data": {
            "image/png": "[encoded data removed]",
            "text/plain": [
              "<Figure size 640x480 with 1 Axes>"
            ]
          },
          "metadata": {},
          "output_type": "display_data"
        },
        {
          "data": {
            "image/png": "[encoded data removed]",
            "text/plain": [
              "<Figure size 640x480 with 1 Axes>"
            ]
          },
          "metadata": {},
          "output_type": "display_data"
        },
        {
          "data": {
            "image/png": "[encoded data removed]",
            "text/plain": [
              "<Figure size 640x480 with 1 Axes>"
            ]
          },
          "metadata": {},
          "output_type": "display_data"
        },
        {
          "data": {
            "image/png": "[encoded data removed]",
            "text/plain": [
              "<Figure size 640x480 with 1 Axes>"
            ]
          },
          "metadata": {},
          "output_type": "display_data"
        },
        {
          "data": {
            "image/png": "[encoded data removed]",
            "text/plain": [
              "<Figure size 640x480 with 1 Axes>"
            ]
          },
          "metadata": {},
          "output_type": "display_data"
        },
        {
          "data": {
            "image/png": "[encoded data removed]",
            "text/plain": [
              "<Figure size 640x480 with 1 Axes>"
            ]
          },
          "metadata": {},
          "output_type": "display_data"
        },
        {
          "data": {
            "image/png": "[encoded data removed]",
            "text/plain": [
              "<Figure size 640x480 with 1 Axes>"
            ]
          },
          "metadata": {},
          "output_type": "display_data"
        },
        {
          "data": {
            "image/png": "[encoded data removed]",
            "text/plain": [
              "<Figure size 640x480 with 1 Axes>"
            ]
          },
          "metadata": {},
          "output_type": "display_data"
        },
        {
          "data": {
            "image/png": "[encoded data removed]",
            "text/plain": [
              "<Figure size 640x480 with 1 Axes>"
            ]
          },
          "metadata": {},
          "output_type": "display_data"
        },
        {
          "data": {
            "image/png": "[encoded data removed]",
            "text/plain": [
              "<Figure size 640x480 with 1 Axes>"
            ]
          },
          "metadata": {},
          "output_type": "display_data"
        },
        {
          "data": {
            "image/png": "[encoded data removed]",
            "text/plain": [
              "<Figure size 640x480 with 1 Axes>"
            ]
          },
          "metadata": {},
          "output_type": "display_data"
        },
        {
          "data": {
            "image/png": "[encoded data removed]",
            "text/plain": [
              "<Figure size 640x480 with 1 Axes>"
            ]
          },
          "metadata": {},
          "output_type": "display_data"
        },
        {
          "data": {
            "image/png": "[encoded data removed]",
            "text/plain": [
              "<Figure size 640x480 with 1 Axes>"
            ]
          },
          "metadata": {},
          "output_type": "display_data"
        },
        {
          "data": {
            "image/png": "[encoded data removed]",
            "text/plain": [
              "<Figure size 640x480 with 1 Axes>"
            ]
          },
          "metadata": {},
          "output_type": "display_data"
        },
        {
          "data": {
            "image/png": "[encoded data removed]",
            "text/plain": [
              "<Figure size 640x480 with 1 Axes>"
            ]
          },
          "metadata": {},
          "output_type": "display_data"
        },
        {
          "data": {
            "image/png": "[encoded data removed]",
            "text/plain": [
              "<Figure size 640x480 with 1 Axes>"
            ]
          },
          "metadata": {},
          "output_type": "display_data"
        },
        {
          "data": {
            "image/png": "[encoded data removed]",
            "text/plain": [
              "<Figure size 640x480 with 1 Axes>"
            ]
          },
          "metadata": {},
          "output_type": "display_data"
        },
        {
          "data": {
            "image/png": "[encoded data removed]",
            "text/plain": [
              "<Figure size 640x480 with 1 Axes>"
            ]
          },
          "metadata": {},
          "output_type": "display_data"
        },
        {
          "data": {
            "image/png": "[encoded data removed]",
            "text/plain": [
              "<Figure size 640x480 with 1 Axes>"
            ]
          },
          "metadata": {},
          "output_type": "display_data"
        },
        {
          "data": {
            "image/png": "[encoded data removed]",
            "text/plain": [
              "<Figure size 640x480 with 1 Axes>"
            ]
          },
          "metadata": {},
          "output_type": "display_data"
        },
        {
          "data": {
            "image/png": "[encoded data removed]",
            "text/plain": [
              "<Figure size 640x480 with 1 Axes>"
            ]
          },
          "metadata": {},
          "output_type": "display_data"
        },
        {
          "data": {
            "image/png": "[encoded data removed]",
            "text/plain": [
              "<Figure size 640x480 with 1 Axes>"
            ]
          },
          "metadata": {},
          "output_type": "display_data"
        },
        {
          "data": {
            "image/png": "[encoded data removed]",
            "text/plain": [
              "<Figure size 640x480 with 1 Axes>"
            ]
          },
          "metadata": {},
          "output_type": "display_data"
        },
        {
          "data": {
            "image/png": "[encoded data removed]",
            "text/plain": [
              "<Figure size 640x480 with 1 Axes>"
            ]
          },
          "metadata": {},
          "output_type": "display_data"
        },
        {
          "data": {
            "image/png": "[encoded data removed]",
            "text/plain": [
              "<Figure size 640x480 with 1 Axes>"
            ]
          },
          "metadata": {},
          "output_type": "display_data"
        },
        {
          "data": {
            "image/png": "[encoded data removed]",
            "text/plain": [
              "<Figure size 640x480 with 1 Axes>"
            ]
          },
          "metadata": {},
          "output_type": "display_data"
        },
        {
          "data": {
            "image/png": "[encoded data removed]",
            "text/plain": [
              "<Figure size 640x480 with 1 Axes>"
            ]
          },
          "metadata": {},
          "output_type": "display_data"
        },
        {
          "data": {
            "image/png": "[encoded data removed]",
            "text/plain": [
              "<Figure size 640x480 with 1 Axes>"
            ]
          },
          "metadata": {},
          "output_type": "display_data"
        }
      ],
      "source": [
        "for sample_index in y_train[y_train == 1].index[:10]:\n",
        "    # Visualize the shooter channel\n",
        "    plt.imshow(X_test_images[sample_index, :, :, 0], cmap='gray')\n",
        "    plt.title(\"Shooter Channel\")\n",
        "    plt.show()\n",
        "\n",
        "    # Visualize the offense channel\n",
        "    plt.imshow(X_test_images[sample_index, :, :, 1], cmap='gray')\n",
        "    plt.title(\"Offense Channel\")\n",
        "    plt.show()\n",
        "\n",
        "    # Visualize the defense channel\n",
        "    plt.imshow(X_test_images[sample_index, :, :, 2], cmap='gray')\n",
        "    plt.title(\"Defense Channel\")\n",
        "    plt.show()\n",
        "\n",
        "    # Visualize the basketball hoop channel\n",
        "    plt.imshow(X_test_images[sample_index, :, :, 3], cmap='gray')\n",
        "    plt.title(\"Hoop Channel\")\n",
        "    plt.show()\n"
      ]
    },
    {
      "cell_type": "code",
      "execution_count": 84,
      "metadata": {
        "id": "DshCAFOzLKW9"
      },
      "outputs": [],
      "source": [
        "y_train = train_pbp['is_oreb']"
      ]
    },
    {
      "cell_type": "code",
      "execution_count": 34,
      "metadata": {
        "id": "uePOCtR7L4mw"
      },
      "outputs": [],
      "source": [
        "# Define the file path for saving the data\n",
        "save_path = 'X_train_images_with_hoop.npz'\n",
        "\n",
        "# Save the data to the file\n",
        "np.savez_compressed(save_path, X_train_images=X_train_images)"
      ]
    },
    {
      "cell_type": "code",
      "execution_count": 85,
      "metadata": {},
      "outputs": [],
      "source": [
        "# Define the file path for saving the data\n",
        "save_path = 'X_test_images_with_hoop.npz'\n",
        "\n",
        "# Save the data to the file\n",
        "np.savez_compressed(save_path, X_test_images=X_test_images)"
      ]
    },
    {
      "cell_type": "code",
      "execution_count": 40,
      "metadata": {
        "id": "MI2llzEZQ2UT"
      },
      "outputs": [],
      "source": [
        "# Load the data from the file\n",
        "save_path = 'X_train_images_with_hoop.npz'\n",
        "loaded_data = np.load(save_path)\n",
        "X_train_images = loaded_data['X_train_images']"
      ]
    },
    {
      "cell_type": "code",
      "execution_count": 51,
      "metadata": {},
      "outputs": [],
      "source": [
        "# Load the data from the file\n",
        "save_path = 'X_test_images_with_hoop.npz'\n",
        "loaded_data = np.load(save_path)\n",
        "X_test_images = loaded_data['X_test_images']"
      ]
    },
    {
      "cell_type": "code",
      "execution_count": 18,
      "metadata": {
        "id": "czt3iLl9m43t"
      },
      "outputs": [],
      "source": [
        "# # Split the data into training and validation sets\n",
        "# X_train, X_val, y_train, y_val = train_test_split(X_train_images, y_train, test_size=0.2, random_state=42)"
      ]
    },
    {
      "cell_type": "code",
      "execution_count": 16,
      "metadata": {
        "colab": {
          "base_uri": "https://localhost:8080/"
        },
        "id": "iEoPk2HDlG1E",
        "outputId": "0516dded-0d20-459d-e73f-cdb3eba7b2c1"
      },
      "outputs": [
        {
          "name": "stdout",
          "output_type": "stream",
          "text": [
            "Epoch 1/10\n",
            "771/771 [==============================] - 172s 221ms/step - loss: 0.6158 - accuracy: 0.7177 - val_loss: 0.6030 - val_accuracy: 0.7174\n",
            "Epoch 2/10\n",
            "771/771 [==============================] - 170s 220ms/step - loss: 0.5956 - accuracy: 0.7182 - val_loss: 0.5974 - val_accuracy: 0.7174\n",
            "Epoch 3/10\n",
            "771/771 [==============================] - 172s 223ms/step - loss: 0.5934 - accuracy: 0.7182 - val_loss: 0.5938 - val_accuracy: 0.7174\n",
            "Epoch 4/10\n",
            "771/771 [==============================] - 169s 220ms/step - loss: 0.5909 - accuracy: 0.7182 - val_loss: 0.5929 - val_accuracy: 0.7174\n",
            "Epoch 5/10\n",
            "771/771 [==============================] - 169s 219ms/step - loss: 0.5898 - accuracy: 0.7182 - val_loss: 0.5914 - val_accuracy: 0.7174\n",
            "Epoch 6/10\n",
            "771/771 [==============================] - 180s 233ms/step - loss: 0.5891 - accuracy: 0.7182 - val_loss: 0.5943 - val_accuracy: 0.7174\n",
            "Epoch 7/10\n",
            "771/771 [==============================] - 180s 234ms/step - loss: 0.5889 - accuracy: 0.7182 - val_loss: 0.5920 - val_accuracy: 0.7174\n",
            "Epoch 8/10\n",
            "771/771 [==============================] - 181s 234ms/step - loss: 0.5877 - accuracy: 0.7182 - val_loss: 0.5895 - val_accuracy: 0.7174\n",
            "Epoch 9/10\n",
            "771/771 [==============================] - 168s 218ms/step - loss: 0.5876 - accuracy: 0.7182 - val_loss: 0.5891 - val_accuracy: 0.7174\n",
            "Epoch 10/10\n",
            "771/771 [==============================] - 169s 220ms/step - loss: 0.5861 - accuracy: 0.7182 - val_loss: 0.5900 - val_accuracy: 0.7174\n",
            "193/193 [==============================] - 11s 59ms/step - loss: 0.5900 - accuracy: 0.7174\n",
            "Validation Loss (Log Loss): 0.5900, Validation Accuracy: 0.7174\n"
          ]
        }
      ],
      "source": [
        "# # Define the CNN model\n",
        "# model = models.Sequential()\n",
        "# model.add(layers.Conv2D(32, (3, 3), activation='relu', input_shape=(court_height, court_width, 3)))\n",
        "# model.add(layers.MaxPooling2D((2, 2)))\n",
        "# model.add(layers.Conv2D(64, (3, 3), activation='relu'))\n",
        "# model.add(layers.MaxPooling2D((2, 2)))\n",
        "# model.add(layers.Flatten())\n",
        "# model.add(layers.Dense(64, activation='relu', kernel_regularizer=regularizers.l2(.01)))\n",
        "# model.add(layers.Dense(1, activation='sigmoid'))  # Sigmoid activation for binary classification\n",
        "\n",
        "# # Compile the model with log loss (binary cross-entropy)\n",
        "# model.compile(optimizer='adam', loss='binary_crossentropy', metrics=['accuracy'])\n",
        "\n",
        "# # Train the model\n",
        "# batch_size = 32\n",
        "# epochs = 10\n",
        "\n",
        "# history = model.fit(X_train, y_train, batch_size=batch_size, epochs=epochs, validation_data=(X_val, y_val))\n",
        "\n",
        "# # Evaluate the model\n",
        "# loss, accuracy = model.evaluate(X_val, y_val)\n",
        "# print(f\"Validation Loss (Log Loss): {loss:.4f}, Validation Accuracy: {accuracy:.4f}\")\n"
      ]
    },
    {
      "cell_type": "code",
      "execution_count": 86,
      "metadata": {},
      "outputs": [
        {
          "name": "stderr",
          "output_type": "stream",
          "text": [
            "C:\\Users\\timse\\AppData\\Local\\Temp\\ipykernel_20052\\3554656918.py:1: SettingWithCopyWarning: \n",
            "A value is trying to be set on a copy of a slice from a DataFrame.\n",
            "Try using .loc[row_indexer,col_indexer] = value instead\n",
            "\n",
            "See the caveats in the documentation: https://pandas.pydata.org/pandas-docs/stable/user_guide/indexing.html#returning-a-view-versus-a-copy\n",
            "  shooter_data_train['mean_def_dist'] = def_mean_distances_train.values\n",
            "C:\\Users\\timse\\AppData\\Local\\Temp\\ipykernel_20052\\3554656918.py:2: SettingWithCopyWarning: \n",
            "A value is trying to be set on a copy of a slice from a DataFrame.\n",
            "Try using .loc[row_indexer,col_indexer] = value instead\n",
            "\n",
            "See the caveats in the documentation: https://pandas.pydata.org/pandas-docs/stable/user_guide/indexing.html#returning-a-view-versus-a-copy\n",
            "  shooter_data_test['mean_def_dist'] = def_mean_distances_test.values\n"
          ]
        }
      ],
      "source": [
        "shooter_data_train['mean_def_dist'] = def_mean_distances_train.values\n",
        "shooter_data_test['mean_def_dist'] = def_mean_distances_test.values"
      ]
    },
    {
      "cell_type": "code",
      "execution_count": 94,
      "metadata": {},
      "outputs": [],
      "source": [
        "train_data = shooter_data_train[['mean_def_dist', 'distance_from_hoop']]\n",
        "test_data = shooter_data_test[['mean_def_dist', 'distance_from_hoop']]"
      ]
    },
    {
      "cell_type": "code",
      "execution_count": 107,
      "metadata": {},
      "outputs": [
        {
          "name": "stdout",
          "output_type": "stream",
          "text": [
            "Accuracy: 0.7107612400584321\n",
            "Log Loss: 0.6078854756297489\n",
            "Confusion Matrix:\n",
            "[[4336   84]\n",
            " [1698   43]]\n",
            "Classification Report:\n",
            "              precision    recall  f1-score   support\n",
            "\n",
            "           0       0.72      0.98      0.83      4420\n",
            "           1       0.34      0.02      0.05      1741\n",
            "\n",
            "    accuracy                           0.71      6161\n",
            "   macro avg       0.53      0.50      0.44      6161\n",
            "weighted avg       0.61      0.71      0.61      6161\n",
            "\n"
          ]
        }
      ],
      "source": [
        "import pandas as pd\n",
        "from sklearn.model_selection import train_test_split\n",
        "from xgboost import XGBClassifier\n",
        "from sklearn.metrics import accuracy_score, confusion_matrix, classification_report, log_loss\n",
        "\n",
        "# Assuming you have already preprocessed your data and created X (features) and y (target)\n",
        "# X should contain both the image data (X_train_img) and statistical features (X_train_)\n",
        "\n",
        "# Split the data into training and validation sets\n",
        "X_train_b, X_val_b, y_train_b, y_val_b = train_test_split(X_train_data, y_train, test_size=0.2, random_state=42)\n",
        "\n",
        "# Initialize the XGBoost Classifier\n",
        "xgb_model = XGBClassifier(n_estimators=100, random_state=42)\n",
        "\n",
        "# Train the model\n",
        "xgb_model.fit(X_train_b, y_train_b)\n",
        "\n",
        "# Predict probabilities on the validation set\n",
        "y_pred_prob = xgb_model.predict_proba(X_val_b)\n",
        "\n",
        "# Predict on the validation set\n",
        "y_pred = xgb_model.predict(X_val_b)\n",
        "\n",
        "# Calculate log loss\n",
        "log_loss_val = log_loss(y_val_b, y_pred_prob)\n",
        "\n",
        "# Evaluate the model\n",
        "accuracy = accuracy_score(y_val_b, y_pred)\n",
        "conf_matrix = confusion_matrix(y_val_b, y_pred)\n",
        "classification_rep = classification_report(y_val_b, y_pred)\n",
        "\n",
        "# Print the results\n",
        "print(\"Accuracy:\", accuracy)\n",
        "print(\"Log Loss:\", log_loss_val)\n",
        "print(\"Confusion Matrix:\")\n",
        "print(conf_matrix)\n",
        "print(\"Classification Report:\")\n",
        "print(classification_rep)\n"
      ]
    },
    {
      "cell_type": "code",
      "execution_count": 106,
      "metadata": {},
      "outputs": [
        {
          "name": "stdout",
          "output_type": "stream",
          "text": [
            "Accuracy: 0.6576854406752151\n",
            "Log Loss: 0.7270243802463741\n",
            "Confusion Matrix:\n",
            "[[3821  599]\n",
            " [1510  231]]\n",
            "Classification Report:\n",
            "              precision    recall  f1-score   support\n",
            "\n",
            "           0       0.72      0.86      0.78      4420\n",
            "           1       0.28      0.13      0.18      1741\n",
            "\n",
            "    accuracy                           0.66      6161\n",
            "   macro avg       0.50      0.50      0.48      6161\n",
            "weighted avg       0.59      0.66      0.61      6161\n",
            "\n"
          ]
        }
      ],
      "source": [
        "import pandas as pd\n",
        "from sklearn.model_selection import train_test_split\n",
        "from sklearn.ensemble import RandomForestClassifier\n",
        "from sklearn.metrics import accuracy_score, confusion_matrix, classification_report\n",
        "\n",
        "# Assuming you have already preprocessed your data and created X (features) and y (target)\n",
        "# X should contain both the image data (X_train_img) and statistical features (X_train_)\n",
        "\n",
        "# Split the data into training and validation sets\n",
        "X_train_b, X_val_b, y_train_b, y_val_b = train_test_split(X_train_data, y_train, test_size=0.2, random_state=42)\n",
        "\n",
        "# Initialize the Random Forest Classifier\n",
        "rfc = RandomForestClassifier(n_estimators=100, random_state=42)\n",
        "\n",
        "# Train the model\n",
        "rfc.fit(X_train_b, y_train_b)\n",
        "# Predict probabilities on the validation set\n",
        "y_pred_prob = rfc.predict_proba(X_val_b)\n",
        "\n",
        "# Predict on the validation set\n",
        "y_pred = rfc.predict(X_val_b)\n",
        "\n",
        "# Calculate log loss\n",
        "log_loss_val = log_loss(y_val_b, y_pred_prob)\n",
        "\n",
        "# Evaluate the model\n",
        "accuracy = accuracy_score(y_val_b, y_pred)\n",
        "conf_matrix = confusion_matrix(y_val_b, y_pred)\n",
        "classification_rep = classification_report(y_val_b, y_pred)\n",
        "\n",
        "# Print the results\n",
        "print(\"Accuracy:\", accuracy)\n",
        "print(\"Log Loss:\", log_loss_val)\n",
        "print(\"Confusion Matrix:\")\n",
        "print(conf_matrix)\n",
        "print(\"Classification Report:\")\n",
        "print(classification_rep)"
      ]
    },
    {
      "cell_type": "code",
      "execution_count": 95,
      "metadata": {},
      "outputs": [],
      "source": [
        "from sklearn.preprocessing import StandardScaler\n",
        "\n",
        "scaler = StandardScaler()\n",
        "train_data = scaler.fit_transform(train_data)\n",
        "test_data = scaler.transform(test_data)"
      ]
    },
    {
      "cell_type": "code",
      "execution_count": null,
      "metadata": {},
      "outputs": [],
      "source": []
    },
    {
      "cell_type": "code",
      "execution_count": 97,
      "metadata": {},
      "outputs": [
        {
          "data": {
            "text/plain": [
              "array([[-0.14001929,  0.90105778],\n",
              "       [-0.87338449,  0.05711044],\n",
              "       [ 0.0945783 ,  0.51343901],\n",
              "       ...,\n",
              "       [-0.40835585, -1.03975593],\n",
              "       [ 0.32436571,  1.46207924],\n",
              "       [ 0.3233901 ,  1.06512511]])"
            ]
          },
          "execution_count": 97,
          "metadata": {},
          "output_type": "execute_result"
        }
      ],
      "source": [
        "train_data"
      ]
    },
    {
      "cell_type": "code",
      "execution_count": 99,
      "metadata": {
        "id": "SpjjOdl5IyMD"
      },
      "outputs": [],
      "source": [
        "# Reshape the rebound percentage features to (num_samples, 1) to match the image data\n",
        "X_train_data = train_data\n",
        "\n",
        "# Split the data into training and validation sets\n",
        "X_train_img, X_val_img, y_tr, y_val = train_test_split(X_train_images, y_train, test_size=0.2, random_state=42)\n",
        "X_train_, X_val_, _, _ = train_test_split(X_train_data, y_train, test_size=0.2, random_state=42)"
      ]
    },
    {
      "cell_type": "code",
      "execution_count": 101,
      "metadata": {
        "colab": {
          "base_uri": "https://localhost:8080/"
        },
        "id": "NYwiiKzBYAfp",
        "outputId": "b0079fb8-d95e-4e7b-f406-a25e645dc2ff"
      },
      "outputs": [
        {
          "name": "stdout",
          "output_type": "stream",
          "text": [
            "Shape of X_train_img: (24644, 50, 94, 4)\n",
            "Shape of X_train_: (24644, 2)\n",
            "Shape of X_val_img: (6161, 50, 94, 4)\n",
            "Shape of X_val_: (6161, 2)\n",
            "Shape of y_tr: (24644,)\n",
            "Shape of y_val: (6161,)\n"
          ]
        }
      ],
      "source": [
        "# Print the shapes of input data\n",
        "print(\"Shape of X_train_img:\", X_train_img.shape)\n",
        "print(\"Shape of X_train_:\", X_train_.shape)\n",
        "print(\"Shape of X_val_img:\", X_val_img.shape)\n",
        "print(\"Shape of X_val_:\", X_val_.shape)\n",
        "print(\"Shape of y_tr:\", y_tr.shape)\n",
        "print(\"Shape of y_val:\", y_val.shape)"
      ]
    },
    {
      "cell_type": "code",
      "execution_count": null,
      "metadata": {},
      "outputs": [],
      "source": [
        "# Split the data into training and validation sets\n",
        "X_train, X_val, y_train, y_val = train_test_split(X_train_images, y_train, test_size=0.2, random_state=42)"
      ]
    },
    {
      "cell_type": "code",
      "execution_count": null,
      "metadata": {},
      "outputs": [],
      "source": [
        "# Define the CNN model\n",
        "model = models.Sequential()\n",
        "model.add(layers.Conv2D(32, (3, 3), activation='relu', input_shape=(court_height, court_width, 3)))\n",
        "model.add(layers.MaxPooling2D((2, 2)))\n",
        "model.add(layers.Conv2D(64, (3, 3), activation='relu'))\n",
        "model.add(layers.MaxPooling2D((2, 2)))\n",
        "model.add(layers.Flatten())\n",
        "model.add(layers.Dense(64, activation='relu', kernel_regularizer=regularizers.l2(.01)))\n",
        "model.add(layers.Dense(1, activation='sigmoid'))  # Sigmoid activation for binary classification\n",
        "\n",
        "# Compile the model with log loss (binary cross-entropy)\n",
        "model.compile(optimizer='adam', loss='binary_crossentropy', metrics=['accuracy'])\n",
        "\n",
        "# Train the model\n",
        "batch_size = 32\n",
        "epochs = 10\n",
        "\n",
        "history = model.fit(X_train, y_train, batch_size=batch_size, epochs=epochs, validation_data=(X_val, y_val))\n",
        "\n",
        "# Evaluate the model\n",
        "loss, accuracy = model.evaluate(X_val, y_val)\n",
        "print(f\"Validation Loss (Log Loss): {loss:.4f}, Validation Accuracy: {accuracy:.4f}\")"
      ]
    },
    {
      "cell_type": "markdown",
      "metadata": {},
      "source": [
        "Model Architecture:\n",
        "\n",
        "- CNN Model for Image Data:\n",
        "    - Input shape: (court_height, court_width, 4) (Assuming 4 channels for the image data)\n",
        "    - Conv2D Layers: 3 layers with 32, 64, and 128 filters and 'relu' activation\n",
        "    - MaxPooling2D Layers: Applied after each Conv2D layer with (2, 2) pool size\n",
        "    - Flatten Layer: Flattens the output of the last MaxPooling2D layer\n",
        "    - Dense Layer: 256 neurons with 'relu' activation and L2 regularization (lambda = 0.01)\n",
        "    - Dropout Layer: Dropout rate of 0.5 applied after the Dense layer\n",
        "- Input Layer for Rebound Percentage Features:\n",
        "    - Input shape: (2,)\n",
        "- Concatenation:\n",
        "    - Concatenates the outputs from the two branches (CNN model and rebound percentage features)\n",
        "- Output Layer:\n",
        "    - Dense layer with 1 neuron and 'sigmoid' activation\n",
        "Model Performance:\n",
        "\n",
        "Epochs: 10\n",
        "Batch Size: 32\n",
        "Training Time: Approximately 10 minutes per epoch\n",
        "Validation Log Loss: 0.5925\n",
        "Validation Accuracy: 0.7174"
      ]
    },
    {
      "cell_type": "code",
      "execution_count": 126,
      "metadata": {},
      "outputs": [
        {
          "name": "stdout",
          "output_type": "stream",
          "text": [
            "Epoch 1/10\n",
            "771/771 [==============================] - 62s 79ms/step - loss: 0.6307 - accuracy: 0.7166 - val_loss: 0.6024 - val_accuracy: 0.7174\n",
            "Epoch 2/10\n",
            "771/771 [==============================] - 64s 83ms/step - loss: 0.5996 - accuracy: 0.7182 - val_loss: 0.5973 - val_accuracy: 0.7174\n",
            "Epoch 3/10\n",
            "771/771 [==============================] - 65s 84ms/step - loss: 0.5964 - accuracy: 0.7182 - val_loss: 0.5977 - val_accuracy: 0.7174\n",
            "Epoch 4/10\n",
            "771/771 [==============================] - 70s 91ms/step - loss: 0.5950 - accuracy: 0.7182 - val_loss: 0.5953 - val_accuracy: 0.7174\n",
            "Epoch 5/10\n",
            "771/771 [==============================] - 76s 98ms/step - loss: 0.5932 - accuracy: 0.7182 - val_loss: 0.5956 - val_accuracy: 0.7174\n",
            "Epoch 6/10\n",
            "771/771 [==============================] - 76s 98ms/step - loss: 0.5927 - accuracy: 0.7182 - val_loss: 0.5937 - val_accuracy: 0.7174\n",
            "Epoch 7/10\n",
            "771/771 [==============================] - 80s 104ms/step - loss: 0.5888 - accuracy: 0.7182 - val_loss: 0.5917 - val_accuracy: 0.7174\n",
            "Epoch 8/10\n",
            "771/771 [==============================] - 77s 100ms/step - loss: 0.5870 - accuracy: 0.7182 - val_loss: 0.5895 - val_accuracy: 0.7174\n",
            "Epoch 9/10\n",
            "771/771 [==============================] - 68s 88ms/step - loss: 0.5845 - accuracy: 0.7182 - val_loss: 0.5891 - val_accuracy: 0.7174\n",
            "Epoch 10/10\n",
            "771/771 [==============================] - 68s 88ms/step - loss: 0.5831 - accuracy: 0.7182 - val_loss: 0.5894 - val_accuracy: 0.7174\n",
            "193/193 [==============================] - 4s 22ms/step\n",
            "Validation Log Loss: 0.5864103949741176\n",
            "Validation Accuracy: 0.7174160038954716\n"
          ]
        }
      ],
      "source": [
        "# Define the CNN model for image data\n",
        "input_img = Input(shape=(court_height, court_width, 4))  # Assuming 3 channels for the image data\n",
        "x = Conv2D(32, (3, 3), activation='relu')(input_img)\n",
        "x = MaxPooling2D((2, 2))(x)\n",
        "x = Conv2D(64, (3, 3), activation='relu')(x)\n",
        "x = MaxPooling2D((2, 2))(x)\n",
        "x = Conv2D(128, (3, 3), activation='relu')(x)\n",
        "x = MaxPooling2D((2, 2))(x)\n",
        "x = Flatten()(x)\n",
        "x = Dense(64, activation='relu', kernel_regularizer=regularizers.l2(.01))(x)\n",
        "x = Dropout(0.5)(x)\n",
        "\n",
        "input_rebounds = Input(shape=(2,)) \n",
        "\n",
        "# Concatenate the outputs from the two branches\n",
        "combined = Concatenate()([x, input_rebounds])\n",
        "output = Dense(1, activation='sigmoid')(combined)\n",
        "\n",
        "# Create the multi-modal model\n",
        "model = Model(inputs=[input_img, input_rebounds], outputs=output)\n",
        "\n",
        "# Compile the model\n",
        "model.compile(optimizer=Adam(learning_rate=0.001), loss='binary_crossentropy', metrics=['accuracy'])\n",
        "\n",
        "# Train the model\n",
        "batch_size = 32\n",
        "epochs = 10\n",
        "history = model.fit([X_train_img, X_train_], y_tr, batch_size=batch_size, epochs=epochs, validation_data=([X_val_img, X_val_], y_val))\n",
        "\n",
        "# Evaluate the model on the validation set\n",
        "val_predictions = model.predict([X_val_img, X_val_])\n",
        "\n",
        "val_loss = log_loss(y_val, val_predictions.flatten())\n",
        "val_accuracy = np.mean((val_predictions.flatten() > 0.5) == y_val)\n",
        "\n",
        "# Print the results\n",
        "print(f\"Validation Log Loss: {val_loss}\")\n",
        "print(f\"Validation Accuracy: {val_accuracy}\")\n"
      ]
    },
    {
      "cell_type": "code",
      "execution_count": 125,
      "metadata": {},
      "outputs": [
        {
          "name": "stdout",
          "output_type": "stream",
          "text": [
            "Epoch 1/10\n",
            "771/771 [==============================] - 60s 76ms/step - loss: 0.6303 - accuracy: 0.7171 - val_loss: 0.6130 - val_accuracy: 0.7174\n",
            "Epoch 2/10\n",
            "771/771 [==============================] - 56s 73ms/step - loss: 0.6054 - accuracy: 0.7182 - val_loss: 0.6011 - val_accuracy: 0.7174\n",
            "Epoch 3/10\n",
            "771/771 [==============================] - 57s 74ms/step - loss: 0.5988 - accuracy: 0.7182 - val_loss: 0.5962 - val_accuracy: 0.7174\n",
            "Epoch 4/10\n",
            "771/771 [==============================] - 58s 75ms/step - loss: 0.5953 - accuracy: 0.7182 - val_loss: 0.5990 - val_accuracy: 0.7174\n",
            "Epoch 5/10\n",
            "771/771 [==============================] - 63s 81ms/step - loss: 0.5935 - accuracy: 0.7182 - val_loss: 0.5922 - val_accuracy: 0.7174\n",
            "Epoch 6/10\n",
            "771/771 [==============================] - 61s 79ms/step - loss: 0.5936 - accuracy: 0.7182 - val_loss: 0.5963 - val_accuracy: 0.7174\n",
            "Epoch 7/10\n",
            "771/771 [==============================] - 62s 81ms/step - loss: 0.5934 - accuracy: 0.7182 - val_loss: 0.5931 - val_accuracy: 0.7174\n",
            "Epoch 8/10\n",
            "771/771 [==============================] - 64s 84ms/step - loss: 0.5924 - accuracy: 0.7182 - val_loss: 0.5949 - val_accuracy: 0.7174\n",
            "Epoch 9/10\n",
            "771/771 [==============================] - 67s 87ms/step - loss: 0.5917 - accuracy: 0.7182 - val_loss: 0.5982 - val_accuracy: 0.7174\n",
            "Epoch 10/10\n",
            "771/771 [==============================] - 62s 80ms/step - loss: 0.5918 - accuracy: 0.7182 - val_loss: 0.5943 - val_accuracy: 0.7174\n",
            "193/193 [==============================] - 4s 20ms/step\n",
            "Validation Log Loss: 0.5865795184170961\n",
            "Validation Accuracy: 0.7174160038954716\n"
          ]
        }
      ],
      "source": [
        "# Define the CNN model for image data\n",
        "input_img = Input(shape=(court_height, court_width, 4))  # Assuming 3 channels for the image data\n",
        "x = Conv2D(32, (3, 3), activation='relu')(input_img)\n",
        "x = MaxPooling2D((2, 2))(x)\n",
        "x = Conv2D(64, (3, 3), activation='relu')(x)\n",
        "x = MaxPooling2D((2, 2))(x)\n",
        "# x = Conv2D(128, (3, 3), activation='relu')(x)\n",
        "# x = MaxPooling2D((2, 2))(x)\n",
        "x = Flatten()(x)\n",
        "x = Dense(64, activation='relu', kernel_regularizer=regularizers.l2(.01))(x)\n",
        "x = Dropout(0.5)(x)\n",
        "\n",
        "input_rebounds = Input(shape=(2,)) \n",
        "\n",
        "# Concatenate the outputs from the two branches\n",
        "combined = Concatenate()([x, input_rebounds])\n",
        "output = Dense(1, activation='sigmoid')(combined)\n",
        "\n",
        "# Create the multi-modal model\n",
        "model = Model(inputs=[input_img, input_rebounds], outputs=output)\n",
        "\n",
        "# Compile the model\n",
        "model.compile(optimizer=Adam(learning_rate=0.001), loss='binary_crossentropy', metrics=['accuracy'])\n",
        "\n",
        "# Train the model\n",
        "batch_size = 32\n",
        "epochs = 10\n",
        "history = model.fit([X_train_img, X_train_], y_tr, batch_size=batch_size, epochs=epochs, validation_data=([X_val_img, X_val_], y_val))\n",
        "\n",
        "# Evaluate the model on the validation set\n",
        "val_predictions = model.predict([X_val_img, X_val_])\n",
        "\n",
        "val_loss = log_loss(y_val, val_predictions.flatten())\n",
        "val_accuracy = np.mean((val_predictions.flatten() > 0.5) == y_val)\n",
        "\n",
        "# Print the results\n",
        "print(f\"Validation Log Loss: {val_loss}\")\n",
        "print(f\"Validation Accuracy: {val_accuracy}\")\n"
      ]
    },
    {
      "cell_type": "code",
      "execution_count": 116,
      "metadata": {},
      "outputs": [
        {
          "data": {
            "text/plain": [
              "((24644, 50, 94, 4), (24644, 2))"
            ]
          },
          "execution_count": 116,
          "metadata": {},
          "output_type": "execute_result"
        }
      ],
      "source": [
        "X_train_img.shape, X_train_.shape"
      ]
    },
    {
      "cell_type": "code",
      "execution_count": 134,
      "metadata": {},
      "outputs": [
        {
          "name": "stderr",
          "output_type": "stream",
          "text": [
            "C:\\Users\\timse\\AppData\\Local\\Temp\\ipykernel_20052\\3079426148.py:32: DeprecationWarning: KerasClassifier is deprecated, use Sci-Keras (https://github.com/adriangb/scikeras) instead. See https://www.adriangb.com/scikeras/stable/migration.html for help migrating.\n",
            "  model = KerasClassifier(build_fn=create_model, verbose=0)\n"
          ]
        },
        {
          "name": "stdout",
          "output_type": "stream",
          "text": [
            "Fitting 3 folds for each of 5 candidates, totalling 15 fits\n",
            "257/257 [==============================] - 6s 22ms/step\n",
            "[CV 1/3] END dense_units=128, dropout_rate=0.5, include_last_conv_layer=True, learning_rate=0.1;, score=-0.591 total time=  49.5s\n",
            "257/257 [==============================] - 6s 22ms/step\n",
            "[CV 2/3] END dense_units=128, dropout_rate=0.5, include_last_conv_layer=True, learning_rate=0.1;, score=-0.596 total time=  53.2s\n",
            "257/257 [==============================] - 6s 24ms/step\n",
            "[CV 3/3] END dense_units=128, dropout_rate=0.5, include_last_conv_layer=True, learning_rate=0.1;, score=-0.598 total time=  52.8s\n",
            "257/257 [==============================] - 6s 23ms/step\n",
            "[CV 1/3] END dense_units=256, dropout_rate=0.4, include_last_conv_layer=False, learning_rate=0.1;, score=-0.592 total time=  56.8s\n",
            "257/257 [==============================] - 5s 20ms/step\n",
            "[CV 2/3] END dense_units=256, dropout_rate=0.4, include_last_conv_layer=False, learning_rate=0.1;, score=-0.596 total time=  55.5s\n",
            "257/257 [==============================] - 6s 23ms/step\n",
            "[CV 3/3] END dense_units=256, dropout_rate=0.4, include_last_conv_layer=False, learning_rate=0.1;, score=-0.599 total time=  58.3s\n",
            "257/257 [==============================] - 7s 26ms/step\n",
            "[CV 1/3] END dense_units=64, dropout_rate=0.2, include_last_conv_layer=True, learning_rate=0.01;, score=-0.590 total time=  50.6s\n",
            "257/257 [==============================] - 6s 24ms/step\n",
            "[CV 2/3] END dense_units=64, dropout_rate=0.2, include_last_conv_layer=True, learning_rate=0.01;, score=-0.596 total time=  53.2s\n",
            "257/257 [==============================] - 7s 28ms/step\n",
            "[CV 3/3] END dense_units=64, dropout_rate=0.2, include_last_conv_layer=True, learning_rate=0.01;, score=-0.599 total time=  53.4s\n",
            "257/257 [==============================] - 5s 20ms/step\n",
            "[CV 1/3] END dense_units=256, dropout_rate=0.5, include_last_conv_layer=False, learning_rate=0.01;, score=-0.590 total time= 1.0min\n",
            "257/257 [==============================] - 5s 20ms/step\n",
            "[CV 2/3] END dense_units=256, dropout_rate=0.5, include_last_conv_layer=False, learning_rate=0.01;, score=-0.596 total time=  55.9s\n",
            "257/257 [==============================] - 5s 20ms/step\n",
            "[CV 3/3] END dense_units=256, dropout_rate=0.5, include_last_conv_layer=False, learning_rate=0.01;, score=-0.598 total time=  57.0s\n",
            "257/257 [==============================] - 6s 23ms/step\n",
            "[CV 1/3] END dense_units=64, dropout_rate=0.4, include_last_conv_layer=True, learning_rate=0.01;, score=-0.590 total time=  53.5s\n",
            "257/257 [==============================] - 6s 23ms/step\n",
            "[CV 2/3] END dense_units=64, dropout_rate=0.4, include_last_conv_layer=True, learning_rate=0.01;, score=-0.596 total time=  49.6s\n",
            "257/257 [==============================] - 7s 26ms/step\n",
            "[CV 3/3] END dense_units=64, dropout_rate=0.4, include_last_conv_layer=True, learning_rate=0.01;, score=-0.598 total time=  53.1s\n",
            "Best Hyperparameters: {'learning_rate': 0.01, 'include_last_conv_layer': False, 'dropout_rate': 0.5, 'dense_units': 256}\n",
            "Best Log Loss: 0.594726976016997\n"
          ]
        }
      ],
      "source": [
        "from sklearn.model_selection import RandomizedSearchCV\n",
        "from tensorflow.keras.wrappers.scikit_learn import KerasClassifier\n",
        "from tensorflow.keras.optimizers import Adam\n",
        "from tensorflow.keras.models import Model\n",
        "from tensorflow.keras.layers import Input, Conv2D, MaxPooling2D, Flatten, Dense, Dropout, Concatenate\n",
        "from sklearn.metrics import make_scorer, log_loss\n",
        "\n",
        "# Define the CNN model as a function\n",
        "def create_model(learning_rate=0.001, dropout_rate=0.5, dense_units=128, include_last_conv_layer=True):\n",
        "    input_img = Input(shape=(court_height, court_width, 4))\n",
        "    x = Conv2D(32, (3, 3), activation='relu')(input_img)\n",
        "    x = MaxPooling2D((2, 2))(x)\n",
        "    x = Conv2D(64, (3, 3), activation='relu')(x)\n",
        "    x = MaxPooling2D((2, 2))(x)\n",
        "    if include_last_conv_layer:\n",
        "        x = Conv2D(128, (3, 3), activation='relu')(x)\n",
        "        x = MaxPooling2D((2, 2))(x)\n",
        "    x = Flatten()(x)\n",
        "    x = Dense(dense_units, activation='relu', kernel_regularizer=regularizers.l2(.01))(x)\n",
        "    x = Dropout(dropout_rate)(x)\n",
        "    output = Dense(1, activation='sigmoid')(x)\n",
        "\n",
        "    \n",
        "    model = Model(inputs=[input_img], outputs=output)\n",
        "\n",
        "    optimizer = Adam(learning_rate=learning_rate)\n",
        "    model.compile(optimizer=optimizer, loss='binary_crossentropy', metrics=['accuracy'])\n",
        "    \n",
        "    return model\n",
        "\n",
        "# Create KerasClassifier wrapper for scikit-learn\n",
        "model = KerasClassifier(build_fn=create_model, verbose=0)\n",
        "\n",
        "# Define the hyperparameter grid for the randomized search\n",
        "param_grid = {\n",
        "    'learning_rate': [0.001, 0.01, 0.1],\n",
        "    'dropout_rate': [0.2, 0.3, 0.4, 0.5],\n",
        "    'dense_units': [64, 128, 256],\n",
        "    'include_last_conv_layer': [True, False]\n",
        "}\n",
        "\n",
        "# Define log loss as the scoring metric\n",
        "log_loss_scorer = make_scorer(log_loss, greater_is_better=False, needs_proba=True)\n",
        "\n",
        "# Perform randomized search with cross-validation\n",
        "random_search = RandomizedSearchCV(model, param_distributions=param_grid, scoring=log_loss_scorer, n_iter=5, cv=3, verbose=3)\n",
        "\n",
        "random_search_results = random_search.fit(X_train_img, y_tr)\n",
        "\n",
        "# Print the best hyperparameters and log loss score\n",
        "print(\"Best Hyperparameters:\", random_search_results.best_params_)\n",
        "print(\"Best Log Loss:\", -random_search_results.best_score_)\n"
      ]
    },
    {
      "cell_type": "code",
      "execution_count": 131,
      "metadata": {},
      "outputs": [
        {
          "name": "stdout",
          "output_type": "stream",
          "text": [
            "Collecting bayesian-optimization\n",
            "  Downloading bayesian_optimization-1.4.3-py3-none-any.whl (18 kB)\n",
            "Requirement already satisfied: colorama>=0.4.6 in c:\\users\\timse\\appdata\\roaming\\python\\python310\\site-packages (from bayesian-optimization) (0.4.6)\n",
            "Requirement already satisfied: scipy>=1.0.0 in c:\\python310\\lib\\site-packages (from bayesian-optimization) (1.9.1)\n",
            "Requirement already satisfied: scikit-learn>=0.18.0 in c:\\users\\timse\\appdata\\roaming\\python\\python310\\site-packages (from bayesian-optimization) (1.2.1)\n",
            "Requirement already satisfied: numpy>=1.9.0 in c:\\python310\\lib\\site-packages (from bayesian-optimization) (1.24.2)\n",
            "Requirement already satisfied: joblib>=1.1.1 in c:\\users\\timse\\appdata\\roaming\\python\\python310\\site-packages (from scikit-learn>=0.18.0->bayesian-optimization) (1.2.0)\n",
            "Requirement already satisfied: threadpoolctl>=2.0.0 in c:\\python310\\lib\\site-packages (from scikit-learn>=0.18.0->bayesian-optimization) (3.1.0)\n",
            "Installing collected packages: bayesian-optimization\n",
            "Successfully installed bayesian-optimization-1.4.3\n",
            "Note: you may need to restart the kernel to use updated packages.\n"
          ]
        },
        {
          "name": "stderr",
          "output_type": "stream",
          "text": [
            "WARNING: Ignoring invalid distribution -p (c:\\python310\\lib\\site-packages)\n",
            "WARNING: Ignoring invalid distribution -rotobuf (c:\\python310\\lib\\site-packages)\n",
            "WARNING: Ignoring invalid distribution -ip (c:\\python310\\lib\\site-packages)\n",
            "WARNING: Ignoring invalid distribution - (c:\\python310\\lib\\site-packages)\n",
            "WARNING: Ignoring invalid distribution -p (c:\\python310\\lib\\site-packages)\n",
            "WARNING: Ignoring invalid distribution -rotobuf (c:\\python310\\lib\\site-packages)\n",
            "WARNING: Ignoring invalid distribution -ip (c:\\python310\\lib\\site-packages)\n",
            "WARNING: Ignoring invalid distribution - (c:\\python310\\lib\\site-packages)\n",
            "WARNING: Ignoring invalid distribution -p (c:\\python310\\lib\\site-packages)\n",
            "WARNING: Ignoring invalid distribution -rotobuf (c:\\python310\\lib\\site-packages)\n",
            "WARNING: Ignoring invalid distribution -ip (c:\\python310\\lib\\site-packages)\n",
            "WARNING: Ignoring invalid distribution - (c:\\python310\\lib\\site-packages)\n",
            "WARNING: Ignoring invalid distribution -p (c:\\python310\\lib\\site-packages)\n",
            "WARNING: Ignoring invalid distribution -rotobuf (c:\\python310\\lib\\site-packages)\n",
            "WARNING: Ignoring invalid distribution -ip (c:\\python310\\lib\\site-packages)\n",
            "WARNING: Ignoring invalid distribution - (c:\\python310\\lib\\site-packages)\n",
            "WARNING: Ignoring invalid distribution -p (c:\\python310\\lib\\site-packages)\n",
            "WARNING: Ignoring invalid distribution -rotobuf (c:\\python310\\lib\\site-packages)\n",
            "WARNING: Ignoring invalid distribution -ip (c:\\python310\\lib\\site-packages)\n",
            "WARNING: Ignoring invalid distribution - (c:\\python310\\lib\\site-packages)\n",
            "WARNING: Ignoring invalid distribution -p (c:\\python310\\lib\\site-packages)\n",
            "WARNING: Ignoring invalid distribution -rotobuf (c:\\python310\\lib\\site-packages)\n",
            "WARNING: Ignoring invalid distribution -ip (c:\\python310\\lib\\site-packages)\n",
            "WARNING: Ignoring invalid distribution - (c:\\python310\\lib\\site-packages)\n",
            "WARNING: Ignoring invalid distribution -p (c:\\python310\\lib\\site-packages)\n",
            "WARNING: Ignoring invalid distribution -rotobuf (c:\\python310\\lib\\site-packages)\n",
            "WARNING: Ignoring invalid distribution -ip (c:\\python310\\lib\\site-packages)\n",
            "WARNING: Ignoring invalid distribution - (c:\\python310\\lib\\site-packages)\n",
            "WARNING: You are using pip version 21.2.4; however, version 23.2.1 is available.\n",
            "You should consider upgrading via the 'c:\\Python310\\python.exe -m pip install --upgrade pip' command.\n"
          ]
        }
      ],
      "source": [
        "from tensorflow.keras.layers import Input, Conv2D, MaxPooling2D, Flatten, Dense, Dropout, Concatenate\n",
        "from tensorflow.keras.models import Model\n",
        "from tensorflow.keras.optimizers import Adam\n",
        "from tensorflow.keras.wrappers.scikit_learn import KerasClassifier\n",
        "from tensorflow.keras import regularizers\n",
        "from sklearn.metrics import make_scorer, log_loss\n",
        "from bayes_opt import BayesianOptimization\n",
        "\n",
        "# Define the CNN model as a function\n",
        "def create_model(learning_rate, dropout_rate, dense_units, include_last_conv_layer):\n",
        "    # Your model architecture here, as defined earlier\n",
        "\n",
        "# Define the bounds for hyperparameters\n",
        "pbounds = {\n",
        "    'learning_rate': (0.001, 0.1),\n",
        "    'dropout_rate': (0.2, 0.5),\n",
        "    'dense_units': (64, 256),\n",
        "    'include_last_conv_layer': (0, 1)\n",
        "}\n",
        "\n",
        "# Define log loss as the objective function to minimize\n",
        "def objective(learning_rate, dropout_rate, dense_units, include_last_conv_layer):\n",
        "    model = create_model(learning_rate, dropout_rate, int(dense_units), bool(include_last_conv_layer))\n",
        "    model.fit([X_train_img, X_train_], y_tr, epochs=10, batch_size=32, verbose=0)\n",
        "    val_predictions = model.predict([X_val_img, X_val_])\n",
        "    val_loss = log_loss(y_val, val_predictions.flatten())\n",
        "    return val_loss\n",
        "\n",
        "# Perform Bayesian optimization\n",
        "optimizer = BayesianOptimization(f=objective, pbounds=pbounds, random_state=42)\n",
        "optimizer.maximize(init_points=5, n_iter=5)\n",
        "\n",
        "# Get the best hyperparameters and log loss score\n",
        "best_params = optimizer.max['params']\n",
        "best_log_loss = -optimizer.max['target']\n",
        "print(\"Best Hyperparameters:\", best_params)\n",
        "print(\"Best Log Loss:\", best_log_loss)\n"
      ]
    },
    {
      "cell_type": "code",
      "execution_count": null,
      "metadata": {},
      "outputs": [],
      "source": []
    },
    {
      "cell_type": "code",
      "execution_count": null,
      "metadata": {},
      "outputs": [],
      "source": []
    },
    {
      "cell_type": "code",
      "execution_count": 109,
      "metadata": {},
      "outputs": [],
      "source": [
        "conf_matrix = confusion_matrix(y_val, (val_predictions.flatten() > 0.5))"
      ]
    },
    {
      "cell_type": "code",
      "execution_count": 110,
      "metadata": {},
      "outputs": [
        {
          "data": {
            "text/plain": [
              "array([[4420,    0],\n",
              "       [1741,    0]], dtype=int64)"
            ]
          },
          "execution_count": 110,
          "metadata": {},
          "output_type": "execute_result"
        }
      ],
      "source": [
        "conf_matrix"
      ]
    },
    {
      "cell_type": "code",
      "execution_count": 111,
      "metadata": {},
      "outputs": [
        {
          "data": {
            "text/plain": [
              "array([[0.20548178],\n",
              "       [0.2878199 ],\n",
              "       [0.23514229],\n",
              "       ...,\n",
              "       [0.35730284],\n",
              "       [0.3443506 ],\n",
              "       [0.26466092]], dtype=float32)"
            ]
          },
          "execution_count": 111,
          "metadata": {},
          "output_type": "execute_result"
        }
      ],
      "source": [
        "val_predictions"
      ]
    },
    {
      "cell_type": "code",
      "execution_count": 167,
      "metadata": {
        "colab": {
          "base_uri": "https://localhost:8080/",
          "height": 797
        },
        "id": "YmY22jQcIscw",
        "outputId": "d43591b5-aa3a-460f-a96e-82f1738f55c6"
      },
      "outputs": [
        {
          "name": "stdout",
          "output_type": "stream",
          "text": [
            "Epoch 1/10\n",
            "771/771 [==============================] - 70s 89ms/step - loss: 0.6724 - accuracy: 0.7176 - val_loss: 0.6003 - val_accuracy: 0.7174\n",
            "Epoch 2/10\n",
            "771/771 [==============================] - 71s 92ms/step - loss: 0.5996 - accuracy: 0.7182 - val_loss: 0.5989 - val_accuracy: 0.7174\n",
            "Epoch 3/10\n",
            "771/771 [==============================] - 69s 90ms/step - loss: 0.5979 - accuracy: 0.7182 - val_loss: 0.5951 - val_accuracy: 0.7174\n",
            "Epoch 4/10\n",
            "771/771 [==============================] - 68s 89ms/step - loss: 0.5936 - accuracy: 0.7182 - val_loss: 0.5938 - val_accuracy: 0.7174\n",
            "Epoch 5/10\n",
            "771/771 [==============================] - 74s 96ms/step - loss: 0.5904 - accuracy: 0.7182 - val_loss: 0.5881 - val_accuracy: 0.7174\n",
            "Epoch 6/10\n",
            "771/771 [==============================] - 73s 94ms/step - loss: 0.5873 - accuracy: 0.7182 - val_loss: 0.5879 - val_accuracy: 0.7174\n",
            "Epoch 7/10\n",
            "771/771 [==============================] - 75s 98ms/step - loss: 0.5854 - accuracy: 0.7182 - val_loss: 0.5860 - val_accuracy: 0.7174\n",
            "Epoch 8/10\n",
            "771/771 [==============================] - 75s 97ms/step - loss: 0.5828 - accuracy: 0.7182 - val_loss: 0.5971 - val_accuracy: 0.7174\n",
            "Epoch 9/10\n",
            "771/771 [==============================] - 75s 97ms/step - loss: 0.5824 - accuracy: 0.7182 - val_loss: 0.5854 - val_accuracy: 0.7176\n",
            "Epoch 10/10\n",
            "771/771 [==============================] - 80s 104ms/step - loss: 0.5804 - accuracy: 0.7183 - val_loss: 0.5863 - val_accuracy: 0.7176\n",
            "193/193 [==============================] - 5s 23ms/step\n"
          ]
        },
        {
          "name": "stderr",
          "output_type": "stream",
          "text": [
            "C:\\Users\\timse\\AppData\\Local\\Temp\\ipykernel_16216\\2900417551.py:34: DeprecationWarning:\n",
            "\n",
            "elementwise comparison failed; this will raise an error in the future.\n",
            "\n"
          ]
        },
        {
          "ename": "ValueError",
          "evalue": "Data must be 1-dimensional",
          "output_type": "error",
          "traceback": [
            "\u001b[1;31m---------------------------------------------------------------------------\u001b[0m",
            "\u001b[1;31mValueError\u001b[0m                                Traceback (most recent call last)",
            "Cell \u001b[1;32mIn[167], line 34\u001b[0m\n\u001b[0;32m     32\u001b[0m val_predictions \u001b[39m=\u001b[39m model\u001b[39m.\u001b[39mpredict([X_val_img, X_val_rebounds])\n\u001b[0;32m     33\u001b[0m val_loss \u001b[39m=\u001b[39m log_loss(y_val, val_predictions)\n\u001b[1;32m---> 34\u001b[0m val_accuracy \u001b[39m=\u001b[39m np\u001b[39m.\u001b[39mmean((val_predictions \u001b[39m>\u001b[39;49m \u001b[39m0.5\u001b[39;49m) \u001b[39m==\u001b[39;49m y_val)\n\u001b[0;32m     36\u001b[0m \u001b[39m# Print the results\u001b[39;00m\n\u001b[0;32m     37\u001b[0m \u001b[39mprint\u001b[39m(\u001b[39mf\u001b[39m\u001b[39m\"\u001b[39m\u001b[39mValidation Log Loss: \u001b[39m\u001b[39m{\u001b[39;00mval_loss\u001b[39m}\u001b[39;00m\u001b[39m\"\u001b[39m)\n",
            "File \u001b[1;32m~\\AppData\\Roaming\\Python\\Python310\\site-packages\\pandas\\core\\ops\\common.py:72\u001b[0m, in \u001b[0;36m_unpack_zerodim_and_defer.<locals>.new_method\u001b[1;34m(self, other)\u001b[0m\n\u001b[0;32m     68\u001b[0m             \u001b[39mreturn\u001b[39;00m \u001b[39mNotImplemented\u001b[39m\n\u001b[0;32m     70\u001b[0m other \u001b[39m=\u001b[39m item_from_zerodim(other)\n\u001b[1;32m---> 72\u001b[0m \u001b[39mreturn\u001b[39;00m method(\u001b[39mself\u001b[39;49m, other)\n",
            "File \u001b[1;32m~\\AppData\\Roaming\\Python\\Python310\\site-packages\\pandas\\core\\arraylike.py:42\u001b[0m, in \u001b[0;36mOpsMixin.__eq__\u001b[1;34m(self, other)\u001b[0m\n\u001b[0;32m     40\u001b[0m \u001b[39m@unpack_zerodim_and_defer\u001b[39m(\u001b[39m\"\u001b[39m\u001b[39m__eq__\u001b[39m\u001b[39m\"\u001b[39m)\n\u001b[0;32m     41\u001b[0m \u001b[39mdef\u001b[39;00m \u001b[39m__eq__\u001b[39m(\u001b[39mself\u001b[39m, other):\n\u001b[1;32m---> 42\u001b[0m     \u001b[39mreturn\u001b[39;00m \u001b[39mself\u001b[39;49m\u001b[39m.\u001b[39;49m_cmp_method(other, operator\u001b[39m.\u001b[39;49meq)\n",
            "File \u001b[1;32m~\\AppData\\Roaming\\Python\\Python310\\site-packages\\pandas\\core\\series.py:6245\u001b[0m, in \u001b[0;36mSeries._cmp_method\u001b[1;34m(self, other, op)\u001b[0m\n\u001b[0;32m   6242\u001b[0m \u001b[39mwith\u001b[39;00m np\u001b[39m.\u001b[39merrstate(\u001b[39mall\u001b[39m\u001b[39m=\u001b[39m\u001b[39m\"\u001b[39m\u001b[39mignore\u001b[39m\u001b[39m\"\u001b[39m):\n\u001b[0;32m   6243\u001b[0m     res_values \u001b[39m=\u001b[39m ops\u001b[39m.\u001b[39mcomparison_op(lvalues, rvalues, op)\n\u001b[1;32m-> 6245\u001b[0m \u001b[39mreturn\u001b[39;00m \u001b[39mself\u001b[39;49m\u001b[39m.\u001b[39;49m_construct_result(res_values, name\u001b[39m=\u001b[39;49mres_name)\n",
            "File \u001b[1;32m~\\AppData\\Roaming\\Python\\Python310\\site-packages\\pandas\\core\\series.py:3223\u001b[0m, in \u001b[0;36mSeries._construct_result\u001b[1;34m(self, result, name)\u001b[0m\n\u001b[0;32m   3219\u001b[0m     \u001b[39mreturn\u001b[39;00m (res1, res2)\n\u001b[0;32m   3221\u001b[0m \u001b[39m# We do not pass dtype to ensure that the Series constructor\u001b[39;00m\n\u001b[0;32m   3222\u001b[0m \u001b[39m#  does inference in the case where `result` has object-dtype.\u001b[39;00m\n\u001b[1;32m-> 3223\u001b[0m out \u001b[39m=\u001b[39m \u001b[39mself\u001b[39;49m\u001b[39m.\u001b[39;49m_constructor(result, index\u001b[39m=\u001b[39;49m\u001b[39mself\u001b[39;49m\u001b[39m.\u001b[39;49mindex)\n\u001b[0;32m   3224\u001b[0m out \u001b[39m=\u001b[39m out\u001b[39m.\u001b[39m__finalize__(\u001b[39mself\u001b[39m)\n\u001b[0;32m   3226\u001b[0m \u001b[39m# Set the result's name after __finalize__ is called because __finalize__\u001b[39;00m\n\u001b[0;32m   3227\u001b[0m \u001b[39m#  would set it back to self.name\u001b[39;00m\n",
            "File \u001b[1;32m~\\AppData\\Roaming\\Python\\Python310\\site-packages\\pandas\\core\\series.py:470\u001b[0m, in \u001b[0;36mSeries.__init__\u001b[1;34m(self, data, index, dtype, name, copy, fastpath)\u001b[0m\n\u001b[0;32m    468\u001b[0m         data \u001b[39m=\u001b[39m data\u001b[39m.\u001b[39mcopy()\n\u001b[0;32m    469\u001b[0m \u001b[39melse\u001b[39;00m:\n\u001b[1;32m--> 470\u001b[0m     data \u001b[39m=\u001b[39m sanitize_array(data, index, dtype, copy)\n\u001b[0;32m    472\u001b[0m     manager \u001b[39m=\u001b[39m get_option(\u001b[39m\"\u001b[39m\u001b[39mmode.data_manager\u001b[39m\u001b[39m\"\u001b[39m)\n\u001b[0;32m    473\u001b[0m     \u001b[39mif\u001b[39;00m manager \u001b[39m==\u001b[39m \u001b[39m\"\u001b[39m\u001b[39mblock\u001b[39m\u001b[39m\"\u001b[39m:\n",
            "File \u001b[1;32m~\\AppData\\Roaming\\Python\\Python310\\site-packages\\pandas\\core\\construction.py:647\u001b[0m, in \u001b[0;36msanitize_array\u001b[1;34m(data, index, dtype, copy, raise_cast_failure, allow_2d)\u001b[0m\n\u001b[0;32m    644\u001b[0m             subarr \u001b[39m=\u001b[39m cast(np\u001b[39m.\u001b[39mndarray, subarr)\n\u001b[0;32m    645\u001b[0m             subarr \u001b[39m=\u001b[39m maybe_infer_to_datetimelike(subarr)\n\u001b[1;32m--> 647\u001b[0m subarr \u001b[39m=\u001b[39m _sanitize_ndim(subarr, data, dtype, index, allow_2d\u001b[39m=\u001b[39;49mallow_2d)\n\u001b[0;32m    649\u001b[0m \u001b[39mif\u001b[39;00m \u001b[39misinstance\u001b[39m(subarr, np\u001b[39m.\u001b[39mndarray):\n\u001b[0;32m    650\u001b[0m     \u001b[39m# at this point we should have dtype be None or subarr.dtype == dtype\u001b[39;00m\n\u001b[0;32m    651\u001b[0m     dtype \u001b[39m=\u001b[39m cast(np\u001b[39m.\u001b[39mdtype, dtype)\n",
            "File \u001b[1;32m~\\AppData\\Roaming\\Python\\Python310\\site-packages\\pandas\\core\\construction.py:698\u001b[0m, in \u001b[0;36m_sanitize_ndim\u001b[1;34m(result, data, dtype, index, allow_2d)\u001b[0m\n\u001b[0;32m    696\u001b[0m     \u001b[39mif\u001b[39;00m allow_2d:\n\u001b[0;32m    697\u001b[0m         \u001b[39mreturn\u001b[39;00m result\n\u001b[1;32m--> 698\u001b[0m     \u001b[39mraise\u001b[39;00m \u001b[39mValueError\u001b[39;00m(\u001b[39m\"\u001b[39m\u001b[39mData must be 1-dimensional\u001b[39m\u001b[39m\"\u001b[39m)\n\u001b[0;32m    699\u001b[0m \u001b[39mif\u001b[39;00m is_object_dtype(dtype) \u001b[39mand\u001b[39;00m \u001b[39misinstance\u001b[39m(dtype, ExtensionDtype):\n\u001b[0;32m    700\u001b[0m     \u001b[39m# i.e. PandasDtype(\"O\")\u001b[39;00m\n\u001b[0;32m    702\u001b[0m     result \u001b[39m=\u001b[39m com\u001b[39m.\u001b[39masarray_tuplesafe(data, dtype\u001b[39m=\u001b[39mnp\u001b[39m.\u001b[39mdtype(\u001b[39m\"\u001b[39m\u001b[39mobject\u001b[39m\u001b[39m\"\u001b[39m))\n",
            "\u001b[1;31mValueError\u001b[0m: Data must be 1-dimensional"
          ]
        }
      ],
      "source": [
        "# Define the CNN model for image data\n",
        "input_img = Input(shape=(court_height, court_width, 3))  # Assuming 3 channels for the image data\n",
        "x = Conv2D(32, (3, 3), activation='relu')(input_img)\n",
        "x = MaxPooling2D((2, 2))(x)\n",
        "x = Conv2D(64, (3, 3), activation='relu')(x)\n",
        "x = MaxPooling2D((2, 2))(x)\n",
        "x = Conv2D(128, (3, 3), activation='relu')(x)\n",
        "x = MaxPooling2D((2, 2))(x)\n",
        "x = Flatten()(x)\n",
        "x = Dense(256, activation='relu', kernel_regularizer=regularizers.l2(.01))(x)\n",
        "x = Dropout(0.5)(x)\n",
        "\n",
        "# Define the input layer for rebound percentage features\n",
        "input_rebounds = Input(shape=(2,))  # Assuming 1 feature for rebound percentages\n",
        "\n",
        "# Concatenate the outputs from the two branches\n",
        "combined = Concatenate()([x, input_rebounds])\n",
        "output = Dense(1, activation='sigmoid')(combined)\n",
        "\n",
        "# Create the multi-modal model\n",
        "model = Model(inputs=[input_img, input_rebounds], outputs=output)\n",
        "\n",
        "# Compile the model\n",
        "model.compile(optimizer=Adam(learning_rate=0.001), loss='binary_crossentropy', metrics=['accuracy'])\n",
        "\n",
        "# Train the model\n",
        "batch_size = 32\n",
        "epochs = 10\n",
        "history = model.fit([X_train_img, X_train_rebounds], y_tr, batch_size=batch_size, epochs=epochs, validation_data=([X_val_img, X_val_rebounds], y_val))\n",
        "\n",
        "# Evaluate the model on the validation set\n",
        "val_predictions = model.predict([X_val_img, X_val_rebounds])\n",
        "val_loss = log_loss(y_val, val_predictions)\n",
        "val_accuracy = np.mean((val_predictions > 0.5) == y_val)\n",
        "\n",
        "# Print the results\n",
        "print(f\"Validation Log Loss: {val_loss}\")\n",
        "print(f\"Validation Accuracy: {val_accuracy}\")\n"
      ]
    },
    {
      "cell_type": "code",
      "execution_count": 1,
      "metadata": {},
      "outputs": [
        {
          "ename": "NameError",
          "evalue": "name 'val_predictions' is not defined",
          "output_type": "error",
          "traceback": [
            "\u001b[1;31m---------------------------------------------------------------------------\u001b[0m",
            "\u001b[1;31mNameError\u001b[0m                                 Traceback (most recent call last)",
            "Cell \u001b[1;32mIn[1], line 1\u001b[0m\n\u001b[1;32m----> 1\u001b[0m val_predictions\u001b[39m.\u001b[39mflatten()\n",
            "\u001b[1;31mNameError\u001b[0m: name 'val_predictions' is not defined"
          ]
        }
      ],
      "source": [
        "val_predictions.flatten()"
      ]
    },
    {
      "cell_type": "code",
      "execution_count": 168,
      "metadata": {
        "id": "2-3YOEeglG3I"
      },
      "outputs": [
        {
          "name": "stdout",
          "output_type": "stream",
          "text": [
            "Validation Log Loss: 0.5820042970390139\n",
            "Validation Accuracy: 0.7175783152085701\n"
          ]
        }
      ],
      "source": [
        "val_loss = log_loss(y_val, val_predictions.flatten())\n",
        "val_accuracy = np.mean((val_predictions.flatten() > 0.5) == y_val)\n",
        "\n",
        "# Print the results\n",
        "print(f\"Validation Log Loss: {val_loss}\")\n",
        "print(f\"Validation Accuracy: {val_accuracy}\")"
      ]
    },
    {
      "cell_type": "code",
      "execution_count": null,
      "metadata": {
        "id": "uzgamM9SlG9E"
      },
      "outputs": [],
      "source": []
    },
    {
      "cell_type": "code",
      "execution_count": null,
      "metadata": {
        "id": "QlAmn89clG_L"
      },
      "outputs": [],
      "source": []
    },
    {
      "cell_type": "code",
      "execution_count": null,
      "metadata": {
        "id": "WqkMCBoYlHCC"
      },
      "outputs": [],
      "source": []
    },
    {
      "cell_type": "code",
      "execution_count": null,
      "metadata": {
        "id": "uf_i42LJlHFQ"
      },
      "outputs": [],
      "source": []
    },
    {
      "cell_type": "code",
      "execution_count": null,
      "metadata": {
        "id": "3vjBIzBSbrOc"
      },
      "outputs": [],
      "source": [
        "pd.set_option('display.max_rows', 10)"
      ]
    },
    {
      "cell_type": "code",
      "execution_count": null,
      "metadata": {
        "colab": {
          "base_uri": "https://localhost:8080/"
        },
        "id": "mi4Sdnr1brOd",
        "outputId": "5f18070e-db4b-4bdb-e9ad-034346685b8b"
      },
      "outputs": [
        {
          "data": {
            "text/plain": [
              "Duke                 1432\n",
              "Kentucky              963\n",
              "Alabama               758\n",
              "Auburn                757\n",
              "Arizona               750\n",
              "                     ... \n",
              "Bradley                 9\n",
              "Texas Southern          9\n",
              "Belmont                 9\n",
              "Southern Illinois       9\n",
              "Utah Valley             6\n",
              "Name: team, Length: 160, dtype: int64"
            ]
          },
          "execution_count": 8,
          "metadata": {},
          "output_type": "execute_result"
        }
      ],
      "source": [
        "train_pbp['team'].value_counts()"
      ]
    },
    {
      "cell_type": "markdown",
      "metadata": {
        "id": "gBr_tYKSbrOd"
      },
      "source": [
        "Thoughts:\n",
        "- tendencies to get back on defense may determine how often there is an offensive rebound - past offensive rebounding performance by team may be helpful\n",
        "- spacing\n",
        "- strength of the team / athleticisim of the players may be informed by conference"
      ]
    },
    {
      "cell_type": "code",
      "execution_count": null,
      "metadata": {
        "colab": {
          "base_uri": "https://localhost:8080/",
          "height": 424
        },
        "id": "LwOWV9KFdw9R",
        "outputId": "89762170-b6c0-49af-9e7e-e648e21b422e"
      },
      "outputs": [
        {
          "data": {
            "text/html": [
              "\n",
              "\n",
              "  <div id=\"df-e266024f-918e-4991-b02a-b6a24668514c\">\n",
              "    <div class=\"colab-df-container\">\n",
              "      <div>\n",
              "<style scoped>\n",
              "    .dataframe tbody tr th:only-of-type {\n",
              "        vertical-align: middle;\n",
              "    }\n",
              "\n",
              "    .dataframe tbody tr th {\n",
              "        vertical-align: top;\n",
              "    }\n",
              "\n",
              "    .dataframe thead th {\n",
              "        text-align: right;\n",
              "    }\n",
              "</style>\n",
              "<table border=\"1\" class=\"dataframe\">\n",
              "  <thead>\n",
              "    <tr style=\"text-align: right;\">\n",
              "      <th></th>\n",
              "      <th>id</th>\n",
              "      <th>court_x</th>\n",
              "      <th>court_y</th>\n",
              "      <th>annotation_code</th>\n",
              "      <th>is_oreb</th>\n",
              "      <th>team</th>\n",
              "      <th>opponent</th>\n",
              "      <th>conference</th>\n",
              "      <th>opp_conference</th>\n",
              "    </tr>\n",
              "  </thead>\n",
              "  <tbody>\n",
              "    <tr>\n",
              "      <th>0</th>\n",
              "      <td>2-2</td>\n",
              "      <td>72.807686</td>\n",
              "      <td>37.409669</td>\n",
              "      <td>d1</td>\n",
              "      <td>0</td>\n",
              "      <td>Kentucky</td>\n",
              "      <td>Duke</td>\n",
              "      <td>SEC</td>\n",
              "      <td>ACC</td>\n",
              "    </tr>\n",
              "    <tr>\n",
              "      <th>1</th>\n",
              "      <td>2-2</td>\n",
              "      <td>79.080643</td>\n",
              "      <td>31.477796</td>\n",
              "      <td>d2</td>\n",
              "      <td>0</td>\n",
              "      <td>Kentucky</td>\n",
              "      <td>Duke</td>\n",
              "      <td>SEC</td>\n",
              "      <td>ACC</td>\n",
              "    </tr>\n",
              "    <tr>\n",
              "      <th>2</th>\n",
              "      <td>2-2</td>\n",
              "      <td>69.956321</td>\n",
              "      <td>24.467300</td>\n",
              "      <td>d3</td>\n",
              "      <td>0</td>\n",
              "      <td>Kentucky</td>\n",
              "      <td>Duke</td>\n",
              "      <td>SEC</td>\n",
              "      <td>ACC</td>\n",
              "    </tr>\n",
              "    <tr>\n",
              "      <th>3</th>\n",
              "      <td>2-2</td>\n",
              "      <td>75.468933</td>\n",
              "      <td>13.861763</td>\n",
              "      <td>d4</td>\n",
              "      <td>0</td>\n",
              "      <td>Kentucky</td>\n",
              "      <td>Duke</td>\n",
              "      <td>SEC</td>\n",
              "      <td>ACC</td>\n",
              "    </tr>\n",
              "    <tr>\n",
              "      <th>4</th>\n",
              "      <td>2-2</td>\n",
              "      <td>84.973496</td>\n",
              "      <td>19.254422</td>\n",
              "      <td>d5</td>\n",
              "      <td>0</td>\n",
              "      <td>Kentucky</td>\n",
              "      <td>Duke</td>\n",
              "      <td>SEC</td>\n",
              "      <td>ACC</td>\n",
              "    </tr>\n",
              "    <tr>\n",
              "      <th>...</th>\n",
              "      <td>...</td>\n",
              "      <td>...</td>\n",
              "      <td>...</td>\n",
              "      <td>...</td>\n",
              "      <td>...</td>\n",
              "      <td>...</td>\n",
              "      <td>...</td>\n",
              "      <td>...</td>\n",
              "      <td>...</td>\n",
              "    </tr>\n",
              "    <tr>\n",
              "      <th>308045</th>\n",
              "      <td>5020-52</td>\n",
              "      <td>70.669644</td>\n",
              "      <td>7.270347</td>\n",
              "      <td>s</td>\n",
              "      <td>0</td>\n",
              "      <td>San Diego St.</td>\n",
              "      <td>Connecticut</td>\n",
              "      <td>MWC</td>\n",
              "      <td>BigEast</td>\n",
              "    </tr>\n",
              "    <tr>\n",
              "      <th>308046</th>\n",
              "      <td>5020-52</td>\n",
              "      <td>86.958520</td>\n",
              "      <td>4.382292</td>\n",
              "      <td>t1</td>\n",
              "      <td>0</td>\n",
              "      <td>San Diego St.</td>\n",
              "      <td>Connecticut</td>\n",
              "      <td>MWC</td>\n",
              "      <td>BigEast</td>\n",
              "    </tr>\n",
              "    <tr>\n",
              "      <th>308047</th>\n",
              "      <td>5020-52</td>\n",
              "      <td>58.962087</td>\n",
              "      <td>26.764930</td>\n",
              "      <td>t2</td>\n",
              "      <td>0</td>\n",
              "      <td>San Diego St.</td>\n",
              "      <td>Connecticut</td>\n",
              "      <td>MWC</td>\n",
              "      <td>BigEast</td>\n",
              "    </tr>\n",
              "    <tr>\n",
              "      <th>308048</th>\n",
              "      <td>5020-52</td>\n",
              "      <td>76.777949</td>\n",
              "      <td>20.427222</td>\n",
              "      <td>t3</td>\n",
              "      <td>0</td>\n",
              "      <td>San Diego St.</td>\n",
              "      <td>Connecticut</td>\n",
              "      <td>MWC</td>\n",
              "      <td>BigEast</td>\n",
              "    </tr>\n",
              "    <tr>\n",
              "      <th>308049</th>\n",
              "      <td>5020-52</td>\n",
              "      <td>81.019852</td>\n",
              "      <td>44.975904</td>\n",
              "      <td>t4</td>\n",
              "      <td>0</td>\n",
              "      <td>San Diego St.</td>\n",
              "      <td>Connecticut</td>\n",
              "      <td>MWC</td>\n",
              "      <td>BigEast</td>\n",
              "    </tr>\n",
              "  </tbody>\n",
              "</table>\n",
              "<p>308050 rows × 9 columns</p>\n",
              "</div>\n",
              "      <button class=\"colab-df-convert\" onclick=\"convertToInteractive('df-e266024f-918e-4991-b02a-b6a24668514c')\"\n",
              "              title=\"Convert this dataframe to an interactive table.\"\n",
              "              style=\"display:none;\">\n",
              "\n",
              "  <svg xmlns=\"http://www.w3.org/2000/svg\" height=\"24px\"viewBox=\"0 0 24 24\"\n",
              "       width=\"24px\">\n",
              "    <path d=\"M0 0h24v24H0V0z\" fill=\"none\"/>\n",
              "    <path d=\"M18.56 5.44l.94 2.06.94-2.06 2.06-.94-2.06-.94-.94-2.06-.94 2.06-2.06.94zm-11 1L8.5 8.5l.94-2.06 2.06-.94-2.06-.94L8.5 2.5l-.94 2.06-2.06.94zm10 10l.94 2.06.94-2.06 2.06-.94-2.06-.94-.94-2.06-.94 2.06-2.06.94z\"/><path d=\"M17.41 7.96l-1.37-1.37c-.4-.4-.92-.59-1.43-.59-.52 0-1.04.2-1.43.59L10.3 9.45l-7.72 7.72c-.78.78-.78 2.05 0 2.83L4 21.41c.39.39.9.59 1.41.59.51 0 1.02-.2 1.41-.59l7.78-7.78 2.81-2.81c.8-.78.8-2.07 0-2.86zM5.41 20L4 18.59l7.72-7.72 1.47 1.35L5.41 20z\"/>\n",
              "  </svg>\n",
              "      </button>\n",
              "\n",
              "\n",
              "\n",
              "    <div id=\"df-7644c2a7-d7c3-4bf2-957e-ea123484c078\">\n",
              "      <button class=\"colab-df-quickchart\" onclick=\"quickchart('df-7644c2a7-d7c3-4bf2-957e-ea123484c078')\"\n",
              "              title=\"Suggest charts.\"\n",
              "              style=\"display:none;\">\n",
              "\n",
              "<svg xmlns=\"http://www.w3.org/2000/svg\" height=\"24px\"viewBox=\"0 0 24 24\"\n",
              "     width=\"24px\">\n",
              "    <g>\n",
              "        <path d=\"M19 3H5c-1.1 0-2 .9-2 2v14c0 1.1.9 2 2 2h14c1.1 0 2-.9 2-2V5c0-1.1-.9-2-2-2zM9 17H7v-7h2v7zm4 0h-2V7h2v10zm4 0h-2v-4h2v4z\"/>\n",
              "    </g>\n",
              "</svg>\n",
              "      </button>\n",
              "    </div>\n",
              "\n",
              "<style>\n",
              "  .colab-df-quickchart {\n",
              "    background-color: #E8F0FE;\n",
              "    border: none;\n",
              "    border-radius: 50%;\n",
              "    cursor: pointer;\n",
              "    display: none;\n",
              "    fill: #1967D2;\n",
              "    height: 32px;\n",
              "    padding: 0 0 0 0;\n",
              "    width: 32px;\n",
              "  }\n",
              "\n",
              "  .colab-df-quickchart:hover {\n",
              "    background-color: #E2EBFA;\n",
              "    box-shadow: 0px 1px 2px rgba(60, 64, 67, 0.3), 0px 1px 3px 1px rgba(60, 64, 67, 0.15);\n",
              "    fill: #174EA6;\n",
              "  }\n",
              "\n",
              "  [theme=dark] .colab-df-quickchart {\n",
              "    background-color: #3B4455;\n",
              "    fill: #D2E3FC;\n",
              "  }\n",
              "\n",
              "  [theme=dark] .colab-df-quickchart:hover {\n",
              "    background-color: #434B5C;\n",
              "    box-shadow: 0px 1px 3px 1px rgba(0, 0, 0, 0.15);\n",
              "    filter: drop-shadow(0px 1px 2px rgba(0, 0, 0, 0.3));\n",
              "    fill: #FFFFFF;\n",
              "  }\n",
              "</style>\n",
              "\n",
              "    <script>\n",
              "      async function quickchart(key) {\n",
              "        const containerElement = document.querySelector('#' + key);\n",
              "        const charts = await google.colab.kernel.invokeFunction(\n",
              "            'suggestCharts', [key], {});\n",
              "      }\n",
              "    </script>\n",
              "\n",
              "      <script>\n",
              "\n",
              "function displayQuickchartButton(domScope) {\n",
              "  let quickchartButtonEl =\n",
              "    domScope.querySelector('#df-7644c2a7-d7c3-4bf2-957e-ea123484c078 button.colab-df-quickchart');\n",
              "  quickchartButtonEl.style.display =\n",
              "    google.colab.kernel.accessAllowed ? 'block' : 'none';\n",
              "}\n",
              "\n",
              "        displayQuickchartButton(document);\n",
              "      </script>\n",
              "      <style>\n",
              "    .colab-df-container {\n",
              "      display:flex;\n",
              "      flex-wrap:wrap;\n",
              "      gap: 12px;\n",
              "    }\n",
              "\n",
              "    .colab-df-convert {\n",
              "      background-color: #E8F0FE;\n",
              "      border: none;\n",
              "      border-radius: 50%;\n",
              "      cursor: pointer;\n",
              "      display: none;\n",
              "      fill: #1967D2;\n",
              "      height: 32px;\n",
              "      padding: 0 0 0 0;\n",
              "      width: 32px;\n",
              "    }\n",
              "\n",
              "    .colab-df-convert:hover {\n",
              "      background-color: #E2EBFA;\n",
              "      box-shadow: 0px 1px 2px rgba(60, 64, 67, 0.3), 0px 1px 3px 1px rgba(60, 64, 67, 0.15);\n",
              "      fill: #174EA6;\n",
              "    }\n",
              "\n",
              "    [theme=dark] .colab-df-convert {\n",
              "      background-color: #3B4455;\n",
              "      fill: #D2E3FC;\n",
              "    }\n",
              "\n",
              "    [theme=dark] .colab-df-convert:hover {\n",
              "      background-color: #434B5C;\n",
              "      box-shadow: 0px 1px 3px 1px rgba(0, 0, 0, 0.15);\n",
              "      filter: drop-shadow(0px 1px 2px rgba(0, 0, 0, 0.3));\n",
              "      fill: #FFFFFF;\n",
              "    }\n",
              "  </style>\n",
              "\n",
              "      <script>\n",
              "        const buttonEl =\n",
              "          document.querySelector('#df-e266024f-918e-4991-b02a-b6a24668514c button.colab-df-convert');\n",
              "        buttonEl.style.display =\n",
              "          google.colab.kernel.accessAllowed ? 'block' : 'none';\n",
              "\n",
              "        async function convertToInteractive(key) {\n",
              "          const element = document.querySelector('#df-e266024f-918e-4991-b02a-b6a24668514c');\n",
              "          const dataTable =\n",
              "            await google.colab.kernel.invokeFunction('convertToInteractive',\n",
              "                                                     [key], {});\n",
              "          if (!dataTable) return;\n",
              "\n",
              "          const docLinkHtml = 'Like what you see? Visit the ' +\n",
              "            '<a target=\"_blank\" href=https://colab.research.google.com/notebooks/data_table.ipynb>data table notebook</a>'\n",
              "            + ' to learn more about interactive tables.';\n",
              "          element.innerHTML = '';\n",
              "          dataTable['output_type'] = 'display_data';\n",
              "          await google.colab.output.renderOutput(dataTable, element);\n",
              "          const docLink = document.createElement('div');\n",
              "          docLink.innerHTML = docLinkHtml;\n",
              "          element.appendChild(docLink);\n",
              "        }\n",
              "      </script>\n",
              "    </div>\n",
              "  </div>\n"
            ],
            "text/plain": [
              "             id    court_x    court_y annotation_code  is_oreb           team  \\\n",
              "0           2-2  72.807686  37.409669              d1        0       Kentucky   \n",
              "1           2-2  79.080643  31.477796              d2        0       Kentucky   \n",
              "2           2-2  69.956321  24.467300              d3        0       Kentucky   \n",
              "3           2-2  75.468933  13.861763              d4        0       Kentucky   \n",
              "4           2-2  84.973496  19.254422              d5        0       Kentucky   \n",
              "...         ...        ...        ...             ...      ...            ...   \n",
              "308045  5020-52  70.669644   7.270347               s        0  San Diego St.   \n",
              "308046  5020-52  86.958520   4.382292              t1        0  San Diego St.   \n",
              "308047  5020-52  58.962087  26.764930              t2        0  San Diego St.   \n",
              "308048  5020-52  76.777949  20.427222              t3        0  San Diego St.   \n",
              "308049  5020-52  81.019852  44.975904              t4        0  San Diego St.   \n",
              "\n",
              "           opponent conference opp_conference  \n",
              "0              Duke        SEC            ACC  \n",
              "1              Duke        SEC            ACC  \n",
              "2              Duke        SEC            ACC  \n",
              "3              Duke        SEC            ACC  \n",
              "4              Duke        SEC            ACC  \n",
              "...             ...        ...            ...  \n",
              "308045  Connecticut        MWC        BigEast  \n",
              "308046  Connecticut        MWC        BigEast  \n",
              "308047  Connecticut        MWC        BigEast  \n",
              "308048  Connecticut        MWC        BigEast  \n",
              "308049  Connecticut        MWC        BigEast  \n",
              "\n",
              "[308050 rows x 9 columns]"
            ]
          },
          "execution_count": 11,
          "metadata": {},
          "output_type": "execute_result"
        }
      ],
      "source": [
        "training_data"
      ]
    },
    {
      "cell_type": "code",
      "execution_count": null,
      "metadata": {
        "id": "Qe6oXw86d4Dl"
      },
      "outputs": [],
      "source": [
        "X_train = training_data[['court_x', 'court_y', 'annotation_code']]\n",
        "X_test = testing_data[['court_x', 'court_y', 'annotation_code']]\n",
        "y_train = training_data['is_oreb']\n",
        "y_test = training_data['is_oreb']"
      ]
    },
    {
      "cell_type": "code",
      "execution_count": null,
      "metadata": {
        "colab": {
          "base_uri": "https://localhost:8080/"
        },
        "id": "_psOPvifnjbi",
        "outputId": "22998038-4626-4c56-8d31-72066a4cae71"
      },
      "outputs": [
        {
          "name": "stderr",
          "output_type": "stream",
          "text": [
            "<ipython-input-21-4b650e9c37e3>:1: SettingWithCopyWarning: \n",
            "A value is trying to be set on a copy of a slice from a DataFrame\n",
            "\n",
            "See the caveats in the documentation: https://pandas.pydata.org/pandas-docs/stable/user_guide/indexing.html#returning-a-view-versus-a-copy\n",
            "  X_train.drop(columns='annotation_code', inplace=True)\n",
            "<ipython-input-21-4b650e9c37e3>:2: SettingWithCopyWarning: \n",
            "A value is trying to be set on a copy of a slice from a DataFrame\n",
            "\n",
            "See the caveats in the documentation: https://pandas.pydata.org/pandas-docs/stable/user_guide/indexing.html#returning-a-view-versus-a-copy\n",
            "  X_test.drop(columns='annotation_code', inplace=True)\n"
          ]
        }
      ],
      "source": [
        "X_train.drop(columns='annotation_code', inplace=True)\n",
        "X_test.drop(columns='annotation_code', inplace=True)"
      ]
    },
    {
      "cell_type": "markdown",
      "metadata": {
        "id": "HWgm4IeyzCmz"
      },
      "source": [
        "There are imperfect maximums and minimums in the training set, so to ensure the actual player positions are not distorted, I will make a custom scaler instead of using minmax scaler"
      ]
    },
    {
      "cell_type": "code",
      "execution_count": null,
      "metadata": {
        "colab": {
          "base_uri": "https://localhost:8080/"
        },
        "id": "oKScxtHnnvMa",
        "outputId": "e5552015-c6cd-4e77-acce-e2c7daaad22d"
      },
      "outputs": [
        {
          "data": {
            "text/plain": [
              "(court_x    93.92656\n",
              " court_y    50.00000\n",
              " offense     1.00000\n",
              " shooter     1.00000\n",
              " dtype: float64,\n",
              " court_x    0.004518\n",
              " court_y    0.980564\n",
              " offense    0.000000\n",
              " shooter    0.000000\n",
              " dtype: float64)"
            ]
          },
          "execution_count": 28,
          "metadata": {},
          "output_type": "execute_result"
        }
      ],
      "source": [
        "X_train.max(), X_train.min()"
      ]
    },
    {
      "cell_type": "code",
      "execution_count": null,
      "metadata": {
        "colab": {
          "base_uri": "https://localhost:8080/",
          "height": 363
        },
        "id": "NteMDU-Z1GBt",
        "outputId": "c4b71bf5-70dd-4785-f57b-376c035a1fe2"
      },
      "outputs": [
        {
          "data": {
            "text/html": [
              "\n",
              "\n",
              "  <div id=\"df-44b43445-139d-44fe-9232-35029d1faecd\">\n",
              "    <div class=\"colab-df-container\">\n",
              "      <div>\n",
              "<style scoped>\n",
              "    .dataframe tbody tr th:only-of-type {\n",
              "        vertical-align: middle;\n",
              "    }\n",
              "\n",
              "    .dataframe tbody tr th {\n",
              "        vertical-align: top;\n",
              "    }\n",
              "\n",
              "    .dataframe thead th {\n",
              "        text-align: right;\n",
              "    }\n",
              "</style>\n",
              "<table border=\"1\" class=\"dataframe\">\n",
              "  <thead>\n",
              "    <tr style=\"text-align: right;\">\n",
              "      <th></th>\n",
              "      <th>id</th>\n",
              "      <th>pred</th>\n",
              "    </tr>\n",
              "  </thead>\n",
              "  <tbody>\n",
              "    <tr>\n",
              "      <th>0</th>\n",
              "      <td>10-36</td>\n",
              "      <td>0.055351</td>\n",
              "    </tr>\n",
              "    <tr>\n",
              "      <th>1</th>\n",
              "      <td>264-34</td>\n",
              "      <td>0.101707</td>\n",
              "    </tr>\n",
              "    <tr>\n",
              "      <th>2</th>\n",
              "      <td>97-55</td>\n",
              "      <td>0.133729</td>\n",
              "    </tr>\n",
              "    <tr>\n",
              "      <th>3</th>\n",
              "      <td>299-28</td>\n",
              "      <td>0.494946</td>\n",
              "    </tr>\n",
              "    <tr>\n",
              "      <th>4</th>\n",
              "      <td>127-25</td>\n",
              "      <td>0.522130</td>\n",
              "    </tr>\n",
              "    <tr>\n",
              "      <th>5</th>\n",
              "      <td>188-58</td>\n",
              "      <td>0.782107</td>\n",
              "    </tr>\n",
              "    <tr>\n",
              "      <th>6</th>\n",
              "      <td>145-9</td>\n",
              "      <td>0.084935</td>\n",
              "    </tr>\n",
              "    <tr>\n",
              "      <th>7</th>\n",
              "      <td>72-5</td>\n",
              "      <td>0.186027</td>\n",
              "    </tr>\n",
              "    <tr>\n",
              "      <th>8</th>\n",
              "      <td>95-33</td>\n",
              "      <td>0.914862</td>\n",
              "    </tr>\n",
              "    <tr>\n",
              "      <th>9</th>\n",
              "      <td>286-69</td>\n",
              "      <td>0.662853</td>\n",
              "    </tr>\n",
              "  </tbody>\n",
              "</table>\n",
              "</div>\n",
              "      <button class=\"colab-df-convert\" onclick=\"convertToInteractive('df-44b43445-139d-44fe-9232-35029d1faecd')\"\n",
              "              title=\"Convert this dataframe to an interactive table.\"\n",
              "              style=\"display:none;\">\n",
              "\n",
              "  <svg xmlns=\"http://www.w3.org/2000/svg\" height=\"24px\"viewBox=\"0 0 24 24\"\n",
              "       width=\"24px\">\n",
              "    <path d=\"M0 0h24v24H0V0z\" fill=\"none\"/>\n",
              "    <path d=\"M18.56 5.44l.94 2.06.94-2.06 2.06-.94-2.06-.94-.94-2.06-.94 2.06-2.06.94zm-11 1L8.5 8.5l.94-2.06 2.06-.94-2.06-.94L8.5 2.5l-.94 2.06-2.06.94zm10 10l.94 2.06.94-2.06 2.06-.94-2.06-.94-.94-2.06-.94 2.06-2.06.94z\"/><path d=\"M17.41 7.96l-1.37-1.37c-.4-.4-.92-.59-1.43-.59-.52 0-1.04.2-1.43.59L10.3 9.45l-7.72 7.72c-.78.78-.78 2.05 0 2.83L4 21.41c.39.39.9.59 1.41.59.51 0 1.02-.2 1.41-.59l7.78-7.78 2.81-2.81c.8-.78.8-2.07 0-2.86zM5.41 20L4 18.59l7.72-7.72 1.47 1.35L5.41 20z\"/>\n",
              "  </svg>\n",
              "      </button>\n",
              "\n",
              "\n",
              "\n",
              "    <div id=\"df-9f9c719d-34e0-4f7e-8767-5847ff6691f5\">\n",
              "      <button class=\"colab-df-quickchart\" onclick=\"quickchart('df-9f9c719d-34e0-4f7e-8767-5847ff6691f5')\"\n",
              "              title=\"Suggest charts.\"\n",
              "              style=\"display:none;\">\n",
              "\n",
              "<svg xmlns=\"http://www.w3.org/2000/svg\" height=\"24px\"viewBox=\"0 0 24 24\"\n",
              "     width=\"24px\">\n",
              "    <g>\n",
              "        <path d=\"M19 3H5c-1.1 0-2 .9-2 2v14c0 1.1.9 2 2 2h14c1.1 0 2-.9 2-2V5c0-1.1-.9-2-2-2zM9 17H7v-7h2v7zm4 0h-2V7h2v10zm4 0h-2v-4h2v4z\"/>\n",
              "    </g>\n",
              "</svg>\n",
              "      </button>\n",
              "    </div>\n",
              "\n",
              "<style>\n",
              "  .colab-df-quickchart {\n",
              "    background-color: #E8F0FE;\n",
              "    border: none;\n",
              "    border-radius: 50%;\n",
              "    cursor: pointer;\n",
              "    display: none;\n",
              "    fill: #1967D2;\n",
              "    height: 32px;\n",
              "    padding: 0 0 0 0;\n",
              "    width: 32px;\n",
              "  }\n",
              "\n",
              "  .colab-df-quickchart:hover {\n",
              "    background-color: #E2EBFA;\n",
              "    box-shadow: 0px 1px 2px rgba(60, 64, 67, 0.3), 0px 1px 3px 1px rgba(60, 64, 67, 0.15);\n",
              "    fill: #174EA6;\n",
              "  }\n",
              "\n",
              "  [theme=dark] .colab-df-quickchart {\n",
              "    background-color: #3B4455;\n",
              "    fill: #D2E3FC;\n",
              "  }\n",
              "\n",
              "  [theme=dark] .colab-df-quickchart:hover {\n",
              "    background-color: #434B5C;\n",
              "    box-shadow: 0px 1px 3px 1px rgba(0, 0, 0, 0.15);\n",
              "    filter: drop-shadow(0px 1px 2px rgba(0, 0, 0, 0.3));\n",
              "    fill: #FFFFFF;\n",
              "  }\n",
              "</style>\n",
              "\n",
              "    <script>\n",
              "      async function quickchart(key) {\n",
              "        const containerElement = document.querySelector('#' + key);\n",
              "        const charts = await google.colab.kernel.invokeFunction(\n",
              "            'suggestCharts', [key], {});\n",
              "      }\n",
              "    </script>\n",
              "\n",
              "      <script>\n",
              "\n",
              "function displayQuickchartButton(domScope) {\n",
              "  let quickchartButtonEl =\n",
              "    domScope.querySelector('#df-9f9c719d-34e0-4f7e-8767-5847ff6691f5 button.colab-df-quickchart');\n",
              "  quickchartButtonEl.style.display =\n",
              "    google.colab.kernel.accessAllowed ? 'block' : 'none';\n",
              "}\n",
              "\n",
              "        displayQuickchartButton(document);\n",
              "      </script>\n",
              "      <style>\n",
              "    .colab-df-container {\n",
              "      display:flex;\n",
              "      flex-wrap:wrap;\n",
              "      gap: 12px;\n",
              "    }\n",
              "\n",
              "    .colab-df-convert {\n",
              "      background-color: #E8F0FE;\n",
              "      border: none;\n",
              "      border-radius: 50%;\n",
              "      cursor: pointer;\n",
              "      display: none;\n",
              "      fill: #1967D2;\n",
              "      height: 32px;\n",
              "      padding: 0 0 0 0;\n",
              "      width: 32px;\n",
              "    }\n",
              "\n",
              "    .colab-df-convert:hover {\n",
              "      background-color: #E2EBFA;\n",
              "      box-shadow: 0px 1px 2px rgba(60, 64, 67, 0.3), 0px 1px 3px 1px rgba(60, 64, 67, 0.15);\n",
              "      fill: #174EA6;\n",
              "    }\n",
              "\n",
              "    [theme=dark] .colab-df-convert {\n",
              "      background-color: #3B4455;\n",
              "      fill: #D2E3FC;\n",
              "    }\n",
              "\n",
              "    [theme=dark] .colab-df-convert:hover {\n",
              "      background-color: #434B5C;\n",
              "      box-shadow: 0px 1px 3px 1px rgba(0, 0, 0, 0.15);\n",
              "      filter: drop-shadow(0px 1px 2px rgba(0, 0, 0, 0.3));\n",
              "      fill: #FFFFFF;\n",
              "    }\n",
              "  </style>\n",
              "\n",
              "      <script>\n",
              "        const buttonEl =\n",
              "          document.querySelector('#df-44b43445-139d-44fe-9232-35029d1faecd button.colab-df-convert');\n",
              "        buttonEl.style.display =\n",
              "          google.colab.kernel.accessAllowed ? 'block' : 'none';\n",
              "\n",
              "        async function convertToInteractive(key) {\n",
              "          const element = document.querySelector('#df-44b43445-139d-44fe-9232-35029d1faecd');\n",
              "          const dataTable =\n",
              "            await google.colab.kernel.invokeFunction('convertToInteractive',\n",
              "                                                     [key], {});\n",
              "          if (!dataTable) return;\n",
              "\n",
              "          const docLinkHtml = 'Like what you see? Visit the ' +\n",
              "            '<a target=\"_blank\" href=https://colab.research.google.com/notebooks/data_table.ipynb>data table notebook</a>'\n",
              "            + ' to learn more about interactive tables.';\n",
              "          element.innerHTML = '';\n",
              "          dataTable['output_type'] = 'display_data';\n",
              "          await google.colab.output.renderOutput(dataTable, element);\n",
              "          const docLink = document.createElement('div');\n",
              "          docLink.innerHTML = docLinkHtml;\n",
              "          element.appendChild(docLink);\n",
              "        }\n",
              "      </script>\n",
              "    </div>\n",
              "  </div>\n"
            ],
            "text/plain": [
              "       id      pred\n",
              "0   10-36  0.055351\n",
              "1  264-34  0.101707\n",
              "2   97-55  0.133729\n",
              "3  299-28  0.494946\n",
              "4  127-25  0.522130\n",
              "5  188-58  0.782107\n",
              "6   145-9  0.084935\n",
              "7    72-5  0.186027\n",
              "8   95-33  0.914862\n",
              "9  286-69  0.662853"
            ]
          },
          "execution_count": 33,
          "metadata": {},
          "output_type": "execute_result"
        }
      ],
      "source": [
        "pd.read_csv('sample_sumbission.csv')"
      ]
    },
    {
      "cell_type": "code",
      "execution_count": null,
      "metadata": {
        "colab": {
          "base_uri": "https://localhost:8080/"
        },
        "id": "F-VHplbuzjh0",
        "outputId": "24819d1b-6ba9-431d-9fd3-6cc782db9d78"
      },
      "outputs": [
        {
          "data": {
            "text/plain": [
              "0         0\n",
              "1         0\n",
              "2         0\n",
              "3         0\n",
              "4         0\n",
              "         ..\n",
              "308045    0\n",
              "308046    0\n",
              "308047    0\n",
              "308048    0\n",
              "308049    0\n",
              "Name: is_oreb, Length: 308050, dtype: int64"
            ]
          },
          "execution_count": 31,
          "metadata": {},
          "output_type": "execute_result"
        }
      ],
      "source": [
        "y_train"
      ]
    },
    {
      "cell_type": "code",
      "execution_count": null,
      "metadata": {
        "id": "yjagnrFkvkJz"
      },
      "outputs": [],
      "source": [
        "# Assuming you have the feature-engineered X_train and X_test DataFrames\n",
        "x_max_val = 94  # Maximum value for x coordinate\n",
        "x_min_val = 0   # Minimum value for x coordinate\n",
        "y_max_val = 50  # Maximum value for y coordinate\n",
        "y_min_val = 0   # Minimum value for y coordinate\n",
        "\n",
        "# Separate features and labels in X_train and X_test\n",
        "X_train_features = X_train.drop(columns=['offense', 'shooter'])  # Excluding 'offense' and 'shooter' columns\n",
        "X_test_features = X_test.drop(columns=['offense', 'shooter'])    # Excluding 'offense' and 'shooter' columns\n",
        "y_train_labels = X_train[['offense', 'shooter']]  # 'offense' and 'shooter' columns as labels for y_train\n",
        "y_test_labels = X_test[['offense', 'shooter']]    # 'offense' and 'shooter' columns as labels for y_test\n",
        "\n",
        "# Custom normalization function\n",
        "def custom_normalize(data, max_val, min_val):\n",
        "    return (data - min_val) / (max_val - min_val)\n",
        "\n",
        "# Apply custom normalization to features\n",
        "X_train_normalized = X_train_features.copy()\n",
        "X_train_normalized['court_x'] = custom_normalize(X_train_features['court_x'], x_max_val, x_min_val)\n",
        "X_train_normalized['court_y'] = custom_normalize(X_train_features['court_y'], y_max_val, y_min_val)\n",
        "\n",
        "X_test_normalized = X_test_features.copy()\n",
        "X_test_normalized['court_x'] = custom_normalize(X_test_features['court_x'], x_max_val, x_min_val)\n",
        "X_test_normalized['court_y'] = custom_normalize(X_test_features['court_y'], y_max_val, y_min_val)\n",
        "\n",
        "# Add the labels back to the preprocessed DataFrames\n",
        "X_train_normalized[['offense', 'shooter']] = y_train_labels.reset_index(drop=True)\n",
        "X_test_normalized[['offense', 'shooter']] = y_test_labels.reset_index(drop=True)\n",
        "\n",
        "# Now, X_train_normalized contains the normalized data for X_train with labels,\n",
        "# and X_test_normalized contains the normalized data for X_test with labels.\n"
      ]
    }
  ],
  "metadata": {
    "colab": {
      "provenance": []
    },
    "kernelspec": {
      "display_name": "Python 3",
      "language": "python",
      "name": "python3"
    },
    "language_info": {
      "codemirror_mode": {
        "name": "ipython",
        "version": 3
      },
      "file_extension": ".py",
      "mimetype": "text/x-python",
      "name": "python",
      "nbconvert_exporter": "python",
      "pygments_lexer": "ipython3",
      "version": "3.10.2"
    },
    "orig_nbformat": 4
  },
  "nbformat": 4,
  "nbformat_minor": 0
}
